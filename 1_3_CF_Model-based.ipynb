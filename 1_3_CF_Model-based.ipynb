{
 "cells": [
  {
   "cell_type": "code",
   "execution_count": 1,
   "metadata": {
    "collapsed": true
   },
   "outputs": [],
   "source": [
    "import numpy as np\n",
    "import pandas as pd"
   ]
  },
  {
   "cell_type": "markdown",
   "metadata": {},
   "source": [
    "# Colaborative Filtering (CF)"
   ]
  },
  {
   "cell_type": "markdown",
   "metadata": {},
   "source": [
    "\n",
    "## Model-Based\n",
    "No tenemos features (Feature learning) tenemos que aprender tanto los  $\\Theta$ como los $X$\n",
    "\n",
    "\n",
    "$\\huge  J = \\frac{1}{2} \\sum_{j=1}^{n_u} \\sum_{i:r(i,j)=1} (\\theta^{(j)^T}x^{(i)}-y^{(i,j)})^2 + \n",
    "\\frac{\\lambda}{2}\\sum_{j=1}^{n_u} \\sum_{k=1}^{n_f}\\theta_k^{(j)^2} +\n",
    "\\frac{\\lambda}{2}\\sum_{i=1}^{n_m} \\sum_{k=1}^{n_f}X_k^{(i)^2}$\n",
    "\n",
    "\n",
    "$\\huge J = \\sum\\limits_{(u,i)\\in K}{(r_{ui} - \\hat{r_{ui}})^2} + \\lambda (||P_u||^2 + ||Q_i||^2) $  \n",
    "\n",
    "\n",
    "**Algoritmos**:\n",
    "- ALS (Alternated-Least-Squares)\n",
    "- SGD (Stochastic Gradient Descent)\n",
    "- SGD es más eficiente computacionalmente y suele tener mejor resultados salvo en casos de 'sparse data'\n",
    "- http://cs229.stanford.edu/proj2014/Christopher%20Aberger,%20Recommender.pdf\n",
    "- SVD (Singular Value Decomposition)"
   ]
  },
  {
   "cell_type": "markdown",
   "metadata": {},
   "source": [
    "**Low Rank Matrix Factorization**:\n",
    "Otra forma de pensar Model-Based CF y permite medir simitud entre peliculas o personas"
   ]
  },
  {
   "cell_type": "markdown",
   "metadata": {},
   "source": [
    "## Baselines\n",
    "- Media, Bu, Bi"
   ]
  },
  {
   "cell_type": "markdown",
   "metadata": {},
   "source": [
    "#### Opcion 1\n",
    "![baselines.png](baselines.png)"
   ]
  },
  {
   "cell_type": "markdown",
   "metadata": {},
   "source": [
    "#### Opcion 2\n",
    "![baselines_calc.png](baselines_calc.png)"
   ]
  },
  {
   "cell_type": "markdown",
   "metadata": {},
   "source": [
    "#### Opcion 3\n",
    "\n",
    "Dejarlos como features a calcular por el modelo\n",
    "\n",
    "$\\huge J = \\sum\\limits_{(u,i)\\in K}{(r_{ui} - \\mu - b_u - b_i - \\hat{r_{ui}})^2} + \\lambda (||P_u||^2 + ||Q_i||^2 + b_u^2 + b_i^2) $  "
   ]
  },
  {
   "cell_type": "markdown",
   "metadata": {},
   "source": [
    "http://alex.smola.org/teaching/berkeley2012/slides/8_Recommender.pdf"
   ]
  },
  {
   "cell_type": "markdown",
   "metadata": {},
   "source": [
    "# PMF (Probabilistic Matrix Factorization)\n",
    "Es equivalente a Matrix Factorization desde otro punto de vista\n",
    "\n",
    "\n",
    "$\\huge R = P_{mk}Q^T_{kn}$\n",
    "\n",
    "Modelo generativo\n",
    "\n",
    "- Rij -> Distribución gaussiana con media PiQj\n",
    "- Pi -> Distribución gaussian con media cero. Probabilidad de que un usuario seleccione un topico\n",
    "- Qj -> Distribución gaussian con media cero. Probabilidad de que dentro de un tópico se seleccione un item (No depende del usuario)\n",
    "- El producto de P y Q equivale a la probabilidad de que un usuario elija un item ya que se suma en todos los tópicos K\n",
    "- Tópico = Latent Feature\n",
    "\n",
    "https://www.quora.com/What-is-the-difference-between-Probabilistic-Matrix-Factorization-PMF-and-SVD"
   ]
  },
  {
   "cell_type": "markdown",
   "metadata": {},
   "source": [
    "# ¿Que diferencias tiene con NMF (Non-negative matrix factorization)?"
   ]
  }
 ],
 "metadata": {
  "kernelspec": {
   "display_name": "Python 3",
   "language": "python",
   "name": "python3"
  },
  "language_info": {
   "codemirror_mode": {
    "name": "ipython",
    "version": 3
   },
   "file_extension": ".py",
   "mimetype": "text/x-python",
   "name": "python",
   "nbconvert_exporter": "python",
   "pygments_lexer": "ipython3",
   "version": "3.6.6"
  },
  "toc": {
   "nav_menu": {},
   "number_sections": true,
   "sideBar": true,
   "skip_h1_title": true,
   "toc_cell": false,
   "toc_position": {},
   "toc_section_display": "block",
   "toc_window_display": false
  }
 },
 "nbformat": 4,
 "nbformat_minor": 2
}
