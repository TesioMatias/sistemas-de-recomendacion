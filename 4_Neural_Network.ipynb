{
 "cells": [
  {
   "cell_type": "code",
   "execution_count": 1,
   "metadata": {},
   "outputs": [],
   "source": [
    "import pandas as pd"
   ]
  },
  {
   "cell_type": "code",
   "execution_count": 3,
   "metadata": {},
   "outputs": [],
   "source": [
    "header = ['userId', 'movieId', 'rating', 'timestamp']\n",
    "ratings = pd.read_csv('./ml-100k/u.data', sep='\\t', names=header)\n",
    "\n",
    "u_unique = ratings.userId.unique()\n",
    "user2Idx = {o:i for i,o in enumerate(u_unique)}\n",
    "\n",
    "m_unique = ratings.movieId.unique()\n",
    "movie2Idx = {o:i for i,o in enumerate(m_unique)}"
   ]
  },
  {
   "cell_type": "code",
   "execution_count": 4,
   "metadata": {},
   "outputs": [],
   "source": [
    "ratings.userId = ratings.userId.apply(lambda x: user2Idx[x])\n",
    "ratings.movieId = ratings.movieId.apply(lambda x: movie2Idx[x])"
   ]
  },
  {
   "cell_type": "code",
   "execution_count": 5,
   "metadata": {},
   "outputs": [],
   "source": [
    "from sklearn.model_selection import train_test_split\n",
    "ratings_train, ratings_val = train_test_split(ratings, test_size=0.2)"
   ]
  },
  {
   "cell_type": "code",
   "execution_count": 6,
   "metadata": {},
   "outputs": [
    {
     "name": "stdout",
     "output_type": "stream",
     "text": [
      "943 1682 943 1646\n"
     ]
    }
   ],
   "source": [
    "n_users = int(ratings.userId.nunique())\n",
    "n_movies = int(ratings.movieId.nunique())\n",
    "n_users_train = int(ratings_train.userId.nunique())\n",
    "n_movies_train = int(ratings_train.movieId.nunique())\n",
    "print(n_users, n_movies, n_users_train, n_movies_train)"
   ]
  },
  {
   "cell_type": "code",
   "execution_count": 13,
   "metadata": {},
   "outputs": [],
   "source": [
    "from keras.layers import Input, Embedding, Flatten, Dropout, Concatenate, Dense\n",
    "from keras import Model\n",
    "from keras.optimizers import Adam"
   ]
  },
  {
   "cell_type": "code",
   "execution_count": 8,
   "metadata": {},
   "outputs": [],
   "source": [
    "n_latent_factors_user = 5\n",
    "n_latent_factors_movie = 8"
   ]
  },
  {
   "cell_type": "code",
   "execution_count": 15,
   "metadata": {},
   "outputs": [
    {
     "name": "stdout",
     "output_type": "stream",
     "text": [
      "__________________________________________________________________________________________________\n",
      "Layer (type)                    Output Shape         Param #     Connected to                     \n",
      "==================================================================================================\n",
      "Item (InputLayer)               (None, 1)            0                                            \n",
      "__________________________________________________________________________________________________\n",
      "User (InputLayer)               (None, 1)            0                                            \n",
      "__________________________________________________________________________________________________\n",
      "Movie-Embedding (Embedding)     (None, 1, 8)         13464       Item[0][0]                       \n",
      "__________________________________________________________________________________________________\n",
      "User-Embedding (Embedding)      (None, 1, 5)         4720        User[0][0]                       \n",
      "__________________________________________________________________________________________________\n",
      "FlattenMovies (Flatten)         (None, 8)            0           Movie-Embedding[0][0]            \n",
      "__________________________________________________________________________________________________\n",
      "FlattenUsers (Flatten)          (None, 5)            0           User-Embedding[0][0]             \n",
      "__________________________________________________________________________________________________\n",
      "dropout_7 (Dropout)             (None, 8)            0           FlattenMovies[0][0]              \n",
      "__________________________________________________________________________________________________\n",
      "dropout_8 (Dropout)             (None, 5)            0           FlattenUsers[0][0]               \n",
      "__________________________________________________________________________________________________\n",
      "Concat (Concatenate)            (None, 13)           0           dropout_7[0][0]                  \n",
      "                                                                 dropout_8[0][0]                  \n",
      "__________________________________________________________________________________________________\n",
      "dropout_9 (Dropout)             (None, 13)           0           Concat[0][0]                     \n",
      "__________________________________________________________________________________________________\n",
      "FullyConnected-1 (Dense)        (None, 100)          1400        dropout_9[0][0]                  \n",
      "__________________________________________________________________________________________________\n",
      "FullyConnected-2 (Dense)        (None, 50)           5050        FullyConnected-1[0][0]           \n",
      "__________________________________________________________________________________________________\n",
      "FullyConnected-3 (Dense)        (None, 20)           1020        FullyConnected-2[0][0]           \n",
      "__________________________________________________________________________________________________\n",
      "Activation (Dense)              (None, 1)            21          FullyConnected-3[0][0]           \n",
      "==================================================================================================\n",
      "Total params: 25,675\n",
      "Trainable params: 25,675\n",
      "Non-trainable params: 0\n",
      "__________________________________________________________________________________________________\n"
     ]
    }
   ],
   "source": [
    "movie_input = Input(shape=[1],name='Item')\n",
    "movie_embedding = Embedding(n_movies + 1, n_latent_factors_movie, name='Movie-Embedding')(movie_input)\n",
    "movie_vec = Flatten(name='FlattenMovies')(movie_embedding)\n",
    "movie_vec = Dropout(0.2)(movie_vec)\n",
    "\n",
    "\n",
    "user_input = Input(shape=[1],name='User')\n",
    "user_vec = Flatten(name='FlattenUsers')(Embedding(n_users + 1, \n",
    "                                                  n_latent_factors_user,name='User-Embedding')(user_input))\n",
    "user_vec = Dropout(0.2)(user_vec)\n",
    "\n",
    "\n",
    "concat = Concatenate(name='Concat')([movie_vec, user_vec])\n",
    "concat = Dropout(0.2)(concat)\n",
    "dense = Dense(200,name='FullyConnected')(concat)\n",
    "dropout_1 = Dropout(0.2,name='Dropout')(dense)\n",
    "dense_2 = Dense(100,name='FullyConnected-1')(concat)\n",
    "dropout_2 = Dropout(0.2,name='Dropout')(dense_2)\n",
    "dense_3 = Dense(50,name='FullyConnected-2')(dense_2)\n",
    "dropout_3 = Dropout(0.2,name='Dropout')(dense_3)\n",
    "dense_4 = Dense(20,name='FullyConnected-3', activation='relu')(dense_3)\n",
    "\n",
    "\n",
    "result = Dense(1, activation='relu',name='Activation')(dense_4)\n",
    "model = Model([user_input, movie_input], result)\n",
    "model.summary()"
   ]
  },
  {
   "cell_type": "code",
   "execution_count": 17,
   "metadata": {},
   "outputs": [],
   "source": [
    "adam = Adam(lr=0.005)\n",
    "model.compile(optimizer=adam,loss= 'mean_absolute_error')"
   ]
  },
  {
   "cell_type": "code",
   "execution_count": null,
   "metadata": {},
   "outputs": [
    {
     "name": "stdout",
     "output_type": "stream",
     "text": [
      "Train on 80000 samples, validate on 20000 samples\n",
      "Epoch 1/100\n",
      "80000/80000 [==============================] - 6s 77us/step - loss: 0.8334 - val_loss: 0.7618\n",
      "Epoch 2/100\n",
      "80000/80000 [==============================] - 6s 73us/step - loss: 0.7781 - val_loss: 0.7539\n",
      "Epoch 3/100\n",
      "80000/80000 [==============================] - 5s 68us/step - loss: 0.7635 - val_loss: 0.7541\n",
      "Epoch 4/100\n",
      "80000/80000 [==============================] - 6s 75us/step - loss: 0.7548 - val_loss: 0.7408\n",
      "Epoch 5/100\n",
      "80000/80000 [==============================] - 5s 68us/step - loss: 0.7466 - val_loss: 0.7346\n",
      "Epoch 6/100\n",
      "80000/80000 [==============================] - 6s 70us/step - loss: 0.7408 - val_loss: 0.7370\n",
      "Epoch 7/100\n",
      "80000/80000 [==============================] - 6s 80us/step - loss: 0.7362 - val_loss: 0.7313\n",
      "Epoch 8/100\n",
      "80000/80000 [==============================] - 6s 75us/step - loss: 0.7319 - val_loss: 0.7320\n",
      "Epoch 9/100\n",
      "80000/80000 [==============================] - 6s 74us/step - loss: 0.7244 - val_loss: 0.7250\n",
      "Epoch 10/100\n",
      "80000/80000 [==============================] - 6s 79us/step - loss: 0.7260 - val_loss: 0.7358\n",
      "Epoch 11/100\n",
      "80000/80000 [==============================] - 6s 76us/step - loss: 0.7240 - val_loss: 0.7431\n",
      "Epoch 12/100\n",
      "80000/80000 [==============================] - 7s 85us/step - loss: 0.7196 - val_loss: 0.7354\n",
      "Epoch 13/100\n",
      "80000/80000 [==============================] - 6s 74us/step - loss: 0.7193 - val_loss: 0.7264\n",
      "Epoch 14/100\n",
      "80000/80000 [==============================] - 6s 79us/step - loss: 0.7183 - val_loss: 0.7256\n",
      "Epoch 15/100\n",
      "80000/80000 [==============================] - 7s 93us/step - loss: 0.7163 - val_loss: 0.7340\n",
      "Epoch 16/100\n",
      "80000/80000 [==============================] - 7s 84us/step - loss: 0.7162 - val_loss: 0.7205\n",
      "Epoch 17/100\n",
      "80000/80000 [==============================] - 7s 84us/step - loss: 0.7143 - val_loss: 0.7220\n",
      "Epoch 18/100\n",
      "80000/80000 [==============================] - 6s 77us/step - loss: 0.7153 - val_loss: 0.7188\n",
      "Epoch 19/100\n",
      "80000/80000 [==============================] - 6s 75us/step - loss: 0.7129 - val_loss: 0.7238\n",
      "Epoch 20/100\n",
      "80000/80000 [==============================] - 5s 64us/step - loss: 0.7142 - val_loss: 0.7311\n",
      "Epoch 21/100\n",
      "80000/80000 [==============================] - 5s 62us/step - loss: 0.7107 - val_loss: 0.7277\n",
      "Epoch 22/100\n",
      "80000/80000 [==============================] - 6s 78us/step - loss: 0.7120 - val_loss: 0.7254\n",
      "Epoch 23/100\n",
      "80000/80000 [==============================] - 6s 72us/step - loss: 0.7116 - val_loss: 0.7382\n",
      "Epoch 24/100\n",
      "80000/80000 [==============================] - 6s 71us/step - loss: 0.7107 - val_loss: 0.7284\n",
      "Epoch 25/100\n",
      "80000/80000 [==============================] - 6s 70us/step - loss: 0.7104 - val_loss: 0.7264\n",
      "Epoch 26/100\n",
      "80000/80000 [==============================] - 8s 94us/step - loss: 0.7094 - val_loss: 0.7234\n",
      "Epoch 27/100\n",
      "80000/80000 [==============================] - 7s 85us/step - loss: 0.7124 - val_loss: 0.7234\n",
      "Epoch 28/100\n",
      "80000/80000 [==============================] - 6s 75us/step - loss: 0.7073 - val_loss: 0.7286\n",
      "Epoch 29/100\n",
      "80000/80000 [==============================] - 8s 96us/step - loss: 0.7086 - val_loss: 0.7158\n",
      "Epoch 30/100\n",
      "80000/80000 [==============================] - 6s 72us/step - loss: 0.7085 - val_loss: 0.7225\n",
      "Epoch 31/100\n",
      "48096/80000 [=================>............] - ETA: 2s - loss: 0.7064"
     ]
    }
   ],
   "source": [
    "history = model.fit([ratings_train.userId, ratings_train.movieId], ratings_train.rating, \n",
    "                    validation_data=([ratings_val.userId, ratings_val.movieId], ratings_val.rating), epochs=100, verbose=1)"
   ]
  },
  {
   "cell_type": "code",
   "execution_count": null,
   "metadata": {},
   "outputs": [],
   "source": []
  }
 ],
 "metadata": {
  "kernelspec": {
   "display_name": "Python 3",
   "language": "python",
   "name": "python3"
  },
  "language_info": {
   "codemirror_mode": {
    "name": "ipython",
    "version": 3
   },
   "file_extension": ".py",
   "mimetype": "text/x-python",
   "name": "python",
   "nbconvert_exporter": "python",
   "pygments_lexer": "ipython3",
   "version": "3.6.6"
  }
 },
 "nbformat": 4,
 "nbformat_minor": 2
}
