{
 "cells": [
  {
   "cell_type": "code",
   "execution_count": 2,
   "metadata": {},
   "outputs": [
    {
     "data": {
      "text/plain": [
       "<module 'cf_helper_2' from '/Users/matias/Desktop/Projects/deep learning/python tests/sistemas-de-recomendacion/cf_helper_2.py'>"
      ]
     },
     "execution_count": 2,
     "metadata": {},
     "output_type": "execute_result"
    }
   ],
   "source": [
    "import pandas as pd\n",
    "import numpy as np\n",
    "from sklearn.model_selection import train_test_split\n",
    "import cf_helper_2 as cf_helper\n",
    "import matplotlib.pyplot as plt\n",
    "import importlib\n",
    "%matplotlib notebook\n",
    "from matplotlib.font_manager import FontProperties\n",
    "fontP = FontProperties()\n",
    "fontP.set_size('small')\n",
    "importlib.reload(cf_helper)"
   ]
  },
  {
   "cell_type": "markdown",
   "metadata": {},
   "source": [
    "# Esta notebook contiene pruebas con Content Based y Colaborative Filtering en movielens"
   ]
  },
  {
   "cell_type": "code",
   "execution_count": 2,
   "metadata": {},
   "outputs": [
    {
     "name": "stdout",
     "output_type": "stream",
     "text": [
      "zsh:1: command not found: wget\n"
     ]
    }
   ],
   "source": [
    "! wget http://files.grouplens.org/datasets/movielens/ml-100k.zip"
   ]
  },
  {
   "cell_type": "code",
   "execution_count": null,
   "metadata": {},
   "outputs": [],
   "source": [
    "! unzip ml-100k.zip"
   ]
  },
  {
   "cell_type": "code",
   "execution_count": 3,
   "metadata": {
    "tags": []
   },
   "outputs": [],
   "source": [
    "#df = pd.read_csv('movielens/ml-latest-small/ratings.csv')[['userId','movieId','rating']]\n",
    "header = ['userId', 'movieId', 'rating', 'timestamp']\n",
    "df = pd.read_csv('./ml-100k/u.data', sep='\\t', names=header)"
   ]
  },
  {
   "cell_type": "code",
   "execution_count": 4,
   "metadata": {},
   "outputs": [
    {
     "data": {
      "text/html": [
       "<div>\n",
       "<style scoped>\n",
       "    .dataframe tbody tr th:only-of-type {\n",
       "        vertical-align: middle;\n",
       "    }\n",
       "\n",
       "    .dataframe tbody tr th {\n",
       "        vertical-align: top;\n",
       "    }\n",
       "\n",
       "    .dataframe thead th {\n",
       "        text-align: right;\n",
       "    }\n",
       "</style>\n",
       "<table border=\"1\" class=\"dataframe\">\n",
       "  <thead>\n",
       "    <tr style=\"text-align: right;\">\n",
       "      <th></th>\n",
       "      <th>userId</th>\n",
       "      <th>movieId</th>\n",
       "      <th>rating</th>\n",
       "      <th>timestamp</th>\n",
       "    </tr>\n",
       "  </thead>\n",
       "  <tbody>\n",
       "    <tr>\n",
       "      <th>0</th>\n",
       "      <td>196</td>\n",
       "      <td>242</td>\n",
       "      <td>3</td>\n",
       "      <td>881250949</td>\n",
       "    </tr>\n",
       "    <tr>\n",
       "      <th>1</th>\n",
       "      <td>186</td>\n",
       "      <td>302</td>\n",
       "      <td>3</td>\n",
       "      <td>891717742</td>\n",
       "    </tr>\n",
       "    <tr>\n",
       "      <th>2</th>\n",
       "      <td>22</td>\n",
       "      <td>377</td>\n",
       "      <td>1</td>\n",
       "      <td>878887116</td>\n",
       "    </tr>\n",
       "    <tr>\n",
       "      <th>3</th>\n",
       "      <td>244</td>\n",
       "      <td>51</td>\n",
       "      <td>2</td>\n",
       "      <td>880606923</td>\n",
       "    </tr>\n",
       "    <tr>\n",
       "      <th>4</th>\n",
       "      <td>166</td>\n",
       "      <td>346</td>\n",
       "      <td>1</td>\n",
       "      <td>886397596</td>\n",
       "    </tr>\n",
       "    <tr>\n",
       "      <th>...</th>\n",
       "      <td>...</td>\n",
       "      <td>...</td>\n",
       "      <td>...</td>\n",
       "      <td>...</td>\n",
       "    </tr>\n",
       "    <tr>\n",
       "      <th>99995</th>\n",
       "      <td>880</td>\n",
       "      <td>476</td>\n",
       "      <td>3</td>\n",
       "      <td>880175444</td>\n",
       "    </tr>\n",
       "    <tr>\n",
       "      <th>99996</th>\n",
       "      <td>716</td>\n",
       "      <td>204</td>\n",
       "      <td>5</td>\n",
       "      <td>879795543</td>\n",
       "    </tr>\n",
       "    <tr>\n",
       "      <th>99997</th>\n",
       "      <td>276</td>\n",
       "      <td>1090</td>\n",
       "      <td>1</td>\n",
       "      <td>874795795</td>\n",
       "    </tr>\n",
       "    <tr>\n",
       "      <th>99998</th>\n",
       "      <td>13</td>\n",
       "      <td>225</td>\n",
       "      <td>2</td>\n",
       "      <td>882399156</td>\n",
       "    </tr>\n",
       "    <tr>\n",
       "      <th>99999</th>\n",
       "      <td>12</td>\n",
       "      <td>203</td>\n",
       "      <td>3</td>\n",
       "      <td>879959583</td>\n",
       "    </tr>\n",
       "  </tbody>\n",
       "</table>\n",
       "<p>100000 rows × 4 columns</p>\n",
       "</div>"
      ],
      "text/plain": [
       "       userId  movieId  rating  timestamp\n",
       "0         196      242       3  881250949\n",
       "1         186      302       3  891717742\n",
       "2          22      377       1  878887116\n",
       "3         244       51       2  880606923\n",
       "4         166      346       1  886397596\n",
       "...       ...      ...     ...        ...\n",
       "99995     880      476       3  880175444\n",
       "99996     716      204       5  879795543\n",
       "99997     276     1090       1  874795795\n",
       "99998      13      225       2  882399156\n",
       "99999      12      203       3  879959583\n",
       "\n",
       "[100000 rows x 4 columns]"
      ]
     },
     "execution_count": 4,
     "metadata": {},
     "output_type": "execute_result"
    }
   ],
   "source": [
    "df"
   ]
  },
  {
   "cell_type": "code",
   "execution_count": 6,
   "metadata": {},
   "outputs": [
    {
     "name": "stdout",
     "output_type": "stream",
     "text": [
      "(943, 1682)\n",
      "(943, 1682)\n"
     ]
    }
   ],
   "source": [
    "def get_user_item_matrix(dataframe, userIndexTag, itemIndexTag,ratingTag, test_size_ratio, base_1 = False):\n",
    "    first = 0\n",
    "    if base_1:\n",
    "        first = 1\n",
    "    n_users = dataframe[userIndexTag].unique().shape[0]\n",
    "    n_items = dataframe[itemIndexTag].unique().shape[0]\n",
    "    train_data, test_data = train_test_split(dataframe, test_size=test_size_ratio)\n",
    "\n",
    "    R = np.zeros((n_users, n_items))\n",
    "    T = np.zeros((n_users, n_items))\n",
    "    print(R.shape)\n",
    "\n",
    "    for index, line in train_data.iterrows():\n",
    "        R[line[userIndexTag] - first, line[itemIndexTag] - first] = line[ratingTag]\n",
    "\n",
    "\n",
    "    for index, line in test_data.iterrows():\n",
    "        T[line[userIndexTag] - first, line[itemIndexTag] - first] = line[ratingTag]\n",
    "    print(T.shape)\n",
    "    return R,T\n",
    "R_train, R_test = get_user_item_matrix(df, 'userId','movieId','rating',0.25, base_1 = True)"
   ]
  },
  {
   "cell_type": "code",
   "execution_count": 7,
   "metadata": {},
   "outputs": [
    {
     "data": {
      "text/plain": [
       "array([0., 3., 4., ..., 0., 0., 0.])"
      ]
     },
     "execution_count": 7,
     "metadata": {},
     "output_type": "execute_result"
    }
   ],
   "source": [
    "R_train[0]"
   ]
  },
  {
   "cell_type": "code",
   "execution_count": 8,
   "metadata": {
    "tags": []
   },
   "outputs": [],
   "source": [
    "R_rated_indexes_train = R_train.nonzero()\n",
    "R_rated_indexes_test = R_test.nonzero()"
   ]
  },
  {
   "cell_type": "code",
   "execution_count": 9,
   "metadata": {
    "tags": []
   },
   "outputs": [],
   "source": [
    "I_train = R_train.copy()\n",
    "T_test = R_test.copy()\n",
    "I_train[I_train==0] = 0\n",
    "I_train[I_train!=0] = 1\n",
    "T_test[T_test==0] = 0\n",
    "T_test[T_test!=0] = 1"
   ]
  },
  {
   "cell_type": "code",
   "execution_count": 10,
   "metadata": {
    "tags": []
   },
   "outputs": [],
   "source": [
    "def get_estimated_R(SM, R_tr, R_ts, R_rated_indexes_tr, R_rated_indexes_ts, k = -1, means = 0,divide_by_weights_sum = True, count_diag = False, relevant_rate = 1, perc_points = 100):\n",
    "    if k==-1:\n",
    "        R_est = cf_helper.predictions(R_tr, SM, divide_by_weights_sum= divide_by_weights_sum, count_diag = count_diag, means = means)\n",
    "    else:\n",
    "        R_est = cf_helper.predictions_K_neighbours(R_tr, SM, k=k, means = means, divide_by_weights_sum= divide_by_weights_sum, count_diag = count_diag)\n",
    "    rmse_tr= cf_helper.rmse(R_tr,R_est)\n",
    "    rmse_ts = cf_helper.rmse(R_ts, R_est)\n",
    "    perc = cf_helper.get_percentiles(R_ts, R_est, like = relevant_rate, points = perc_points, number_of_random_items = 500)\n",
    "    print(rmse_tr,rmse_ts)\n",
    "    return R_est, perc, rmse_ts"
   ]
  },
  {
   "cell_type": "code",
   "execution_count": 11,
   "metadata": {
    "tags": []
   },
   "outputs": [],
   "source": [
    "perc_points = 100\n",
    "relevant_rate = 5"
   ]
  },
  {
   "cell_type": "code",
   "execution_count": 12,
   "metadata": {
    "tags": []
   },
   "outputs": [],
   "source": [
    "SM_pearson2, user_means2 = cf_helper.getPearsonSimilarityMatrix_non_zeros(R_train)"
   ]
  },
  {
   "cell_type": "code",
   "execution_count": 13,
   "metadata": {
    "tags": []
   },
   "outputs": [],
   "source": [
    "SM_jaccard, _ = cf_helper.calcultaSimilarityMatrix(R_train, dist_type ='jaccard_with_negatives')\n",
    "SM_pearson, user_means = cf_helper.calcultaSimilarityMatrix(R_train, dist_type ='pearson')\n",
    "SM_cosine, _ = cf_helper.calcultaSimilarityMatrix(R_train, dist_type ='cosine')"
   ]
  },
  {
   "cell_type": "code",
   "execution_count": 14,
   "metadata": {},
   "outputs": [
    {
     "name": "stdout",
     "output_type": "stream",
     "text": [
      "1.905656049874064 1.950034167206693\n"
     ]
    }
   ],
   "source": [
    "R_est_pearson2, perc_pearson2, rmse_pearson2 = get_estimated_R(SM_pearson2, R_train, R_test, R_rated_indexes_train, \n",
    "                                                               R_rated_indexes_test, \n",
    "                                                               means = user_means2, perc_points = perc_points, relevant_rate = relevant_rate)"
   ]
  },
  {
   "cell_type": "code",
   "execution_count": 15,
   "metadata": {},
   "outputs": [
    {
     "name": "stdout",
     "output_type": "stream",
     "text": [
      "2.8947386812561113 2.958207499865513\n"
     ]
    }
   ],
   "source": [
    "R_est_pearson, perc_pearson, rmse_pearson = get_estimated_R(SM_pearson, R_train, R_test, R_rated_indexes_train, \n",
    "                                                            R_rated_indexes_test, means = user_means, \n",
    "                                                            perc_points = perc_points, relevant_rate = relevant_rate)"
   ]
  },
  {
   "cell_type": "code",
   "execution_count": 16,
   "metadata": {},
   "outputs": [
    {
     "name": "stdout",
     "output_type": "stream",
     "text": [
      "2.9996547217296636 3.048018664752882\n"
     ]
    }
   ],
   "source": [
    "R_est_cosine, perc_cosine, rmse_cosine = get_estimated_R(SM_cosine, R_train, R_test, R_rated_indexes_train, R_rated_indexes_test, perc_points = perc_points, relevant_rate = relevant_rate, means = 0)"
   ]
  },
  {
   "cell_type": "code",
   "execution_count": 17,
   "metadata": {},
   "outputs": [
    {
     "name": "stdout",
     "output_type": "stream",
     "text": [
      "2.9574430286519586 3.0098922342963452\n"
     ]
    }
   ],
   "source": [
    "R_est_jaccard, perc_jaccard, rmse_jaccard = get_estimated_R(SM_jaccard,R_train, R_test, R_rated_indexes_train, R_rated_indexes_test, perc_points = perc_points, relevant_rate = relevant_rate)"
   ]
  },
  {
   "cell_type": "code",
   "execution_count": 18,
   "metadata": {
    "tags": []
   },
   "outputs": [],
   "source": [
    "mu_train = R_train[R_rated_indexes_train].mean()\n",
    "percentiles_train_media = cf_helper.get_percentiles(R_test, mu_train*np.ones(R_train.shape), like = 5)"
   ]
  },
  {
   "cell_type": "code",
   "execution_count": 19,
   "metadata": {
    "tags": []
   },
   "outputs": [],
   "source": [
    "def get_biased_data(R_tr, bias):\n",
    "    R_tr_b = R_tr.copy()\n",
    "    R_tr_b[R_tr==0] = bias\n",
    "    return R_tr_b"
   ]
  },
  {
   "cell_type": "code",
   "execution_count": 20,
   "metadata": {},
   "outputs": [
    {
     "name": "stdout",
     "output_type": "stream",
     "text": [
      "0.22920655937231926 1.0715665662489595\n"
     ]
    }
   ],
   "source": [
    "R_train_biased = get_biased_data(R_train, mu_train)\n",
    "SM_biased, user_means_biased = cf_helper.calcultaSimilarityMatrix(R_train_biased, dist_type ='pearson')\n",
    "R_est_biased, perc_biased, rmse_biased = get_estimated_R(SM_biased, R_train_biased, R_test, R_rated_indexes_train, R_rated_indexes_test, means=user_means_biased, relevant_rate = relevant_rate)"
   ]
  },
  {
   "cell_type": "code",
   "execution_count": 21,
   "metadata": {},
   "outputs": [
    {
     "name": "stderr",
     "output_type": "stream",
     "text": [
      "/Users/matias/Desktop/Projects/deep learning/python tests/sistemas-de-recomendacion/cf_helper_2.py:537: UserWarning: Matplotlib is currently using module://ipykernel.pylab.backend_inline, which is a non-GUI backend, so cannot show the figure.\n",
      "  f.show()\n"
     ]
    },
    {
     "data": {
      "image/png": "[encoded data removed]",
      "text/plain": [
       "<Figure size 864x432 with 2 Axes>"
      ]
     },
     "metadata": {
      "needs_background": "light"
     },
     "output_type": "display_data"
    }
   ],
   "source": [
    "%matplotlib inline\n",
    "perc_basis_vect = [perc_pearson, perc_pearson2,perc_cosine, perc_jaccard, perc_biased]\n",
    "rmse_basis_vect = [rmse_pearson, rmse_pearson2,rmse_cosine, rmse_jaccard, rmse_biased]\n",
    "names_basis_vect = ['Pearson','Pearson-2','Cosine','Jaccard', 'Biased']\n",
    "cf_helper.plot_percentiles(names_basis_vect, rmse_basis_vect, perc_basis_vect,\n",
    "                 parameter_name ='', title= 'Distintos estimadores de similitud, Hits vs position',\n",
    "                 featured_idx = 4, featured_text = 'Biased')"
   ]
  },
  {
   "cell_type": "code",
   "execution_count": 22,
   "metadata": {},
   "outputs": [
    {
     "name": "stdout",
     "output_type": "stream",
     "text": [
      "\n",
      " Ejemplo: si k=2 y hits=30 \n",
      " El 30% de los items relevantes se encuentran dentro de los primeros 20 items (1000 * k/100)\n",
      "Error in callback <function install_repl_displayhook.<locals>.post_execute at 0x7f8d9fc33950> (for post_execute):\n"
     ]
    },
    {
     "name": "stderr",
     "output_type": "stream",
     "text": [
      "/Users/matias/opt/anaconda3/envs/deep_learning/lib/python3.6/site-packages/ipykernel_launcher.py:26: UserWarning: Matplotlib is currently using module://ipykernel.pylab.backend_inline, which is a non-GUI backend, so cannot show the figure.\n"
     ]
    },
    {
     "ename": "ValueError",
     "evalue": "Invalid RGBA argument: 'R'",
     "output_type": "error",
     "traceback": [
      "\u001b[0;31m---------------------------------------------------------------------------\u001b[0m",
      "\u001b[0;31mValueError\u001b[0m                                Traceback (most recent call last)",
      "\u001b[0;32m~/opt/anaconda3/envs/deep_learning/lib/python3.6/site-packages/matplotlib/pyplot.py\u001b[0m in \u001b[0;36mpost_execute\u001b[0;34m()\u001b[0m\n\u001b[1;32m    136\u001b[0m             \u001b[0;32mdef\u001b[0m \u001b[0mpost_execute\u001b[0m\u001b[0;34m(\u001b[0m\u001b[0;34m)\u001b[0m\u001b[0;34m:\u001b[0m\u001b[0;34m\u001b[0m\u001b[0;34m\u001b[0m\u001b[0m\n\u001b[1;32m    137\u001b[0m                 \u001b[0;32mif\u001b[0m \u001b[0mmatplotlib\u001b[0m\u001b[0;34m.\u001b[0m\u001b[0mis_interactive\u001b[0m\u001b[0;34m(\u001b[0m\u001b[0;34m)\u001b[0m\u001b[0;34m:\u001b[0m\u001b[0;34m\u001b[0m\u001b[0;34m\u001b[0m\u001b[0m\n\u001b[0;32m--> 138\u001b[0;31m                     \u001b[0mdraw_all\u001b[0m\u001b[0;34m(\u001b[0m\u001b[0;34m)\u001b[0m\u001b[0;34m\u001b[0m\u001b[0;34m\u001b[0m\u001b[0m\n\u001b[0m\u001b[1;32m    139\u001b[0m \u001b[0;34m\u001b[0m\u001b[0m\n\u001b[1;32m    140\u001b[0m             \u001b[0;31m# IPython >= 2\u001b[0m\u001b[0;34m\u001b[0m\u001b[0;34m\u001b[0m\u001b[0;34m\u001b[0m\u001b[0m\n",
      "\u001b[0;32m~/opt/anaconda3/envs/deep_learning/lib/python3.6/site-packages/matplotlib/_pylab_helpers.py\u001b[0m in \u001b[0;36mdraw_all\u001b[0;34m(cls, force)\u001b[0m\n\u001b[1;32m    136\u001b[0m         \u001b[0;32mfor\u001b[0m \u001b[0mmanager\u001b[0m \u001b[0;32min\u001b[0m \u001b[0mcls\u001b[0m\u001b[0;34m.\u001b[0m\u001b[0mget_all_fig_managers\u001b[0m\u001b[0;34m(\u001b[0m\u001b[0;34m)\u001b[0m\u001b[0;34m:\u001b[0m\u001b[0;34m\u001b[0m\u001b[0;34m\u001b[0m\u001b[0m\n\u001b[1;32m    137\u001b[0m             \u001b[0;32mif\u001b[0m \u001b[0mforce\u001b[0m \u001b[0;32mor\u001b[0m \u001b[0mmanager\u001b[0m\u001b[0;34m.\u001b[0m\u001b[0mcanvas\u001b[0m\u001b[0;34m.\u001b[0m\u001b[0mfigure\u001b[0m\u001b[0;34m.\u001b[0m\u001b[0mstale\u001b[0m\u001b[0;34m:\u001b[0m\u001b[0;34m\u001b[0m\u001b[0;34m\u001b[0m\u001b[0m\n\u001b[0;32m--> 138\u001b[0;31m                 \u001b[0mmanager\u001b[0m\u001b[0;34m.\u001b[0m\u001b[0mcanvas\u001b[0m\u001b[0;34m.\u001b[0m\u001b[0mdraw_idle\u001b[0m\u001b[0;34m(\u001b[0m\u001b[0;34m)\u001b[0m\u001b[0;34m\u001b[0m\u001b[0;34m\u001b[0m\u001b[0m\n\u001b[0m\u001b[1;32m    139\u001b[0m \u001b[0;34m\u001b[0m\u001b[0m\n\u001b[1;32m    140\u001b[0m \u001b[0;34m\u001b[0m\u001b[0m\n",
      "\u001b[0;32m~/opt/anaconda3/envs/deep_learning/lib/python3.6/site-packages/matplotlib/backend_bases.py\u001b[0m in \u001b[0;36mdraw_idle\u001b[0;34m(self, *args, **kwargs)\u001b[0m\n\u001b[1;32m   2010\u001b[0m         \u001b[0;32mif\u001b[0m \u001b[0;32mnot\u001b[0m \u001b[0mself\u001b[0m\u001b[0;34m.\u001b[0m\u001b[0m_is_idle_drawing\u001b[0m\u001b[0;34m:\u001b[0m\u001b[0;34m\u001b[0m\u001b[0;34m\u001b[0m\u001b[0m\n\u001b[1;32m   2011\u001b[0m             \u001b[0;32mwith\u001b[0m \u001b[0mself\u001b[0m\u001b[0;34m.\u001b[0m\u001b[0m_idle_draw_cntx\u001b[0m\u001b[0;34m(\u001b[0m\u001b[0;34m)\u001b[0m\u001b[0;34m:\u001b[0m\u001b[0;34m\u001b[0m\u001b[0;34m\u001b[0m\u001b[0m\n\u001b[0;32m-> 2012\u001b[0;31m                 \u001b[0mself\u001b[0m\u001b[0;34m.\u001b[0m\u001b[0mdraw\u001b[0m\u001b[0;34m(\u001b[0m\u001b[0;34m*\u001b[0m\u001b[0margs\u001b[0m\u001b[0;34m,\u001b[0m \u001b[0;34m**\u001b[0m\u001b[0mkwargs\u001b[0m\u001b[0;34m)\u001b[0m\u001b[0;34m\u001b[0m\u001b[0;34m\u001b[0m\u001b[0m\n\u001b[0m\u001b[1;32m   2013\u001b[0m \u001b[0;34m\u001b[0m\u001b[0m\n\u001b[1;32m   2014\u001b[0m     \u001b[0;34m@\u001b[0m\u001b[0mcbook\u001b[0m\u001b[0;34m.\u001b[0m\u001b[0mdeprecated\u001b[0m\u001b[0;34m(\u001b[0m\u001b[0;34m\"3.2\"\u001b[0m\u001b[0;34m)\u001b[0m\u001b[0;34m\u001b[0m\u001b[0;34m\u001b[0m\u001b[0m\n",
      "\u001b[0;32m~/opt/anaconda3/envs/deep_learning/lib/python3.6/site-packages/matplotlib/backends/backend_agg.py\u001b[0m in \u001b[0;36mdraw\u001b[0;34m(self)\u001b[0m\n\u001b[1;32m    405\u001b[0m              (self.toolbar._wait_cursor_for_draw_cm() if self.toolbar\n\u001b[1;32m    406\u001b[0m               else nullcontext()):\n\u001b[0;32m--> 407\u001b[0;31m             \u001b[0mself\u001b[0m\u001b[0;34m.\u001b[0m\u001b[0mfigure\u001b[0m\u001b[0;34m.\u001b[0m\u001b[0mdraw\u001b[0m\u001b[0;34m(\u001b[0m\u001b[0mself\u001b[0m\u001b[0;34m.\u001b[0m\u001b[0mrenderer\u001b[0m\u001b[0;34m)\u001b[0m\u001b[0;34m\u001b[0m\u001b[0;34m\u001b[0m\u001b[0m\n\u001b[0m\u001b[1;32m    408\u001b[0m             \u001b[0;31m# A GUI class may be need to update a window using this draw, so\u001b[0m\u001b[0;34m\u001b[0m\u001b[0;34m\u001b[0m\u001b[0;34m\u001b[0m\u001b[0m\n\u001b[1;32m    409\u001b[0m             \u001b[0;31m# don't forget to call the superclass.\u001b[0m\u001b[0;34m\u001b[0m\u001b[0;34m\u001b[0m\u001b[0;34m\u001b[0m\u001b[0m\n",
      "\u001b[0;32m~/opt/anaconda3/envs/deep_learning/lib/python3.6/site-packages/matplotlib/artist.py\u001b[0m in \u001b[0;36mdraw_wrapper\u001b[0;34m(artist, renderer, *args, **kwargs)\u001b[0m\n\u001b[1;32m     39\u001b[0m                 \u001b[0mrenderer\u001b[0m\u001b[0;34m.\u001b[0m\u001b[0mstart_filter\u001b[0m\u001b[0;34m(\u001b[0m\u001b[0;34m)\u001b[0m\u001b[0;34m\u001b[0m\u001b[0;34m\u001b[0m\u001b[0m\n\u001b[1;32m     40\u001b[0m \u001b[0;34m\u001b[0m\u001b[0m\n\u001b[0;32m---> 41\u001b[0;31m             \u001b[0;32mreturn\u001b[0m \u001b[0mdraw\u001b[0m\u001b[0;34m(\u001b[0m\u001b[0martist\u001b[0m\u001b[0;34m,\u001b[0m \u001b[0mrenderer\u001b[0m\u001b[0;34m,\u001b[0m \u001b[0;34m*\u001b[0m\u001b[0margs\u001b[0m\u001b[0;34m,\u001b[0m \u001b[0;34m**\u001b[0m\u001b[0mkwargs\u001b[0m\u001b[0;34m)\u001b[0m\u001b[0;34m\u001b[0m\u001b[0;34m\u001b[0m\u001b[0m\n\u001b[0m\u001b[1;32m     42\u001b[0m         \u001b[0;32mfinally\u001b[0m\u001b[0;34m:\u001b[0m\u001b[0;34m\u001b[0m\u001b[0;34m\u001b[0m\u001b[0m\n\u001b[1;32m     43\u001b[0m             \u001b[0;32mif\u001b[0m \u001b[0martist\u001b[0m\u001b[0;34m.\u001b[0m\u001b[0mget_agg_filter\u001b[0m\u001b[0;34m(\u001b[0m\u001b[0;34m)\u001b[0m \u001b[0;32mis\u001b[0m \u001b[0;32mnot\u001b[0m \u001b[0;32mNone\u001b[0m\u001b[0;34m:\u001b[0m\u001b[0;34m\u001b[0m\u001b[0;34m\u001b[0m\u001b[0m\n",
      "\u001b[0;32m~/opt/anaconda3/envs/deep_learning/lib/python3.6/site-packages/matplotlib/figure.py\u001b[0m in \u001b[0;36mdraw\u001b[0;34m(self, renderer)\u001b[0m\n\u001b[1;32m   1862\u001b[0m             \u001b[0mself\u001b[0m\u001b[0;34m.\u001b[0m\u001b[0mpatch\u001b[0m\u001b[0;34m.\u001b[0m\u001b[0mdraw\u001b[0m\u001b[0;34m(\u001b[0m\u001b[0mrenderer\u001b[0m\u001b[0;34m)\u001b[0m\u001b[0;34m\u001b[0m\u001b[0;34m\u001b[0m\u001b[0m\n\u001b[1;32m   1863\u001b[0m             mimage._draw_list_compositing_images(\n\u001b[0;32m-> 1864\u001b[0;31m                 renderer, self, artists, self.suppressComposite)\n\u001b[0m\u001b[1;32m   1865\u001b[0m \u001b[0;34m\u001b[0m\u001b[0m\n\u001b[1;32m   1866\u001b[0m             \u001b[0mrenderer\u001b[0m\u001b[0;34m.\u001b[0m\u001b[0mclose_group\u001b[0m\u001b[0;34m(\u001b[0m\u001b[0;34m'figure'\u001b[0m\u001b[0;34m)\u001b[0m\u001b[0;34m\u001b[0m\u001b[0;34m\u001b[0m\u001b[0m\n",
      "\u001b[0;32m~/opt/anaconda3/envs/deep_learning/lib/python3.6/site-packages/matplotlib/image.py\u001b[0m in \u001b[0;36m_draw_list_compositing_images\u001b[0;34m(renderer, parent, artists, suppress_composite)\u001b[0m\n\u001b[1;32m    129\u001b[0m     \u001b[0;32mif\u001b[0m \u001b[0mnot_composite\u001b[0m \u001b[0;32mor\u001b[0m \u001b[0;32mnot\u001b[0m \u001b[0mhas_images\u001b[0m\u001b[0;34m:\u001b[0m\u001b[0;34m\u001b[0m\u001b[0;34m\u001b[0m\u001b[0m\n\u001b[1;32m    130\u001b[0m         \u001b[0;32mfor\u001b[0m \u001b[0ma\u001b[0m \u001b[0;32min\u001b[0m \u001b[0martists\u001b[0m\u001b[0;34m:\u001b[0m\u001b[0;34m\u001b[0m\u001b[0;34m\u001b[0m\u001b[0m\n\u001b[0;32m--> 131\u001b[0;31m             \u001b[0ma\u001b[0m\u001b[0;34m.\u001b[0m\u001b[0mdraw\u001b[0m\u001b[0;34m(\u001b[0m\u001b[0mrenderer\u001b[0m\u001b[0;34m)\u001b[0m\u001b[0;34m\u001b[0m\u001b[0;34m\u001b[0m\u001b[0m\n\u001b[0m\u001b[1;32m    132\u001b[0m     \u001b[0;32melse\u001b[0m\u001b[0;34m:\u001b[0m\u001b[0;34m\u001b[0m\u001b[0;34m\u001b[0m\u001b[0m\n\u001b[1;32m    133\u001b[0m         \u001b[0;31m# Composite any adjacent images together\u001b[0m\u001b[0;34m\u001b[0m\u001b[0;34m\u001b[0m\u001b[0;34m\u001b[0m\u001b[0m\n",
      "\u001b[0;32m~/opt/anaconda3/envs/deep_learning/lib/python3.6/site-packages/matplotlib/artist.py\u001b[0m in \u001b[0;36mdraw_wrapper\u001b[0;34m(artist, renderer, *args, **kwargs)\u001b[0m\n\u001b[1;32m     39\u001b[0m                 \u001b[0mrenderer\u001b[0m\u001b[0;34m.\u001b[0m\u001b[0mstart_filter\u001b[0m\u001b[0;34m(\u001b[0m\u001b[0;34m)\u001b[0m\u001b[0;34m\u001b[0m\u001b[0;34m\u001b[0m\u001b[0m\n\u001b[1;32m     40\u001b[0m \u001b[0;34m\u001b[0m\u001b[0m\n\u001b[0;32m---> 41\u001b[0;31m             \u001b[0;32mreturn\u001b[0m \u001b[0mdraw\u001b[0m\u001b[0;34m(\u001b[0m\u001b[0martist\u001b[0m\u001b[0;34m,\u001b[0m \u001b[0mrenderer\u001b[0m\u001b[0;34m,\u001b[0m \u001b[0;34m*\u001b[0m\u001b[0margs\u001b[0m\u001b[0;34m,\u001b[0m \u001b[0;34m**\u001b[0m\u001b[0mkwargs\u001b[0m\u001b[0;34m)\u001b[0m\u001b[0;34m\u001b[0m\u001b[0;34m\u001b[0m\u001b[0m\n\u001b[0m\u001b[1;32m     42\u001b[0m         \u001b[0;32mfinally\u001b[0m\u001b[0;34m:\u001b[0m\u001b[0;34m\u001b[0m\u001b[0;34m\u001b[0m\u001b[0m\n\u001b[1;32m     43\u001b[0m             \u001b[0;32mif\u001b[0m \u001b[0martist\u001b[0m\u001b[0;34m.\u001b[0m\u001b[0mget_agg_filter\u001b[0m\u001b[0;34m(\u001b[0m\u001b[0;34m)\u001b[0m \u001b[0;32mis\u001b[0m \u001b[0;32mnot\u001b[0m \u001b[0;32mNone\u001b[0m\u001b[0;34m:\u001b[0m\u001b[0;34m\u001b[0m\u001b[0;34m\u001b[0m\u001b[0m\n",
      "\u001b[0;32m~/opt/anaconda3/envs/deep_learning/lib/python3.6/site-packages/matplotlib/cbook/deprecation.py\u001b[0m in \u001b[0;36mwrapper\u001b[0;34m(*inner_args, **inner_kwargs)\u001b[0m\n\u001b[1;32m    409\u001b[0m                          \u001b[0;32melse\u001b[0m \u001b[0mdeprecation_addendum\u001b[0m\u001b[0;34m,\u001b[0m\u001b[0;34m\u001b[0m\u001b[0;34m\u001b[0m\u001b[0m\n\u001b[1;32m    410\u001b[0m                 **kwargs)\n\u001b[0;32m--> 411\u001b[0;31m         \u001b[0;32mreturn\u001b[0m \u001b[0mfunc\u001b[0m\u001b[0;34m(\u001b[0m\u001b[0;34m*\u001b[0m\u001b[0minner_args\u001b[0m\u001b[0;34m,\u001b[0m \u001b[0;34m**\u001b[0m\u001b[0minner_kwargs\u001b[0m\u001b[0;34m)\u001b[0m\u001b[0;34m\u001b[0m\u001b[0;34m\u001b[0m\u001b[0m\n\u001b[0m\u001b[1;32m    412\u001b[0m \u001b[0;34m\u001b[0m\u001b[0m\n\u001b[1;32m    413\u001b[0m     \u001b[0;32mreturn\u001b[0m \u001b[0mwrapper\u001b[0m\u001b[0;34m\u001b[0m\u001b[0;34m\u001b[0m\u001b[0m\n",
      "\u001b[0;32m~/opt/anaconda3/envs/deep_learning/lib/python3.6/site-packages/matplotlib/axes/_base.py\u001b[0m in \u001b[0;36mdraw\u001b[0;34m(self, renderer, inframe)\u001b[0m\n\u001b[1;32m   2745\u001b[0m             \u001b[0mrenderer\u001b[0m\u001b[0;34m.\u001b[0m\u001b[0mstop_rasterizing\u001b[0m\u001b[0;34m(\u001b[0m\u001b[0;34m)\u001b[0m\u001b[0;34m\u001b[0m\u001b[0;34m\u001b[0m\u001b[0m\n\u001b[1;32m   2746\u001b[0m \u001b[0;34m\u001b[0m\u001b[0m\n\u001b[0;32m-> 2747\u001b[0;31m         \u001b[0mmimage\u001b[0m\u001b[0;34m.\u001b[0m\u001b[0m_draw_list_compositing_images\u001b[0m\u001b[0;34m(\u001b[0m\u001b[0mrenderer\u001b[0m\u001b[0;34m,\u001b[0m \u001b[0mself\u001b[0m\u001b[0;34m,\u001b[0m \u001b[0martists\u001b[0m\u001b[0;34m)\u001b[0m\u001b[0;34m\u001b[0m\u001b[0;34m\u001b[0m\u001b[0m\n\u001b[0m\u001b[1;32m   2748\u001b[0m \u001b[0;34m\u001b[0m\u001b[0m\n\u001b[1;32m   2749\u001b[0m         \u001b[0mrenderer\u001b[0m\u001b[0;34m.\u001b[0m\u001b[0mclose_group\u001b[0m\u001b[0;34m(\u001b[0m\u001b[0;34m'axes'\u001b[0m\u001b[0;34m)\u001b[0m\u001b[0;34m\u001b[0m\u001b[0;34m\u001b[0m\u001b[0m\n",
      "\u001b[0;32m~/opt/anaconda3/envs/deep_learning/lib/python3.6/site-packages/matplotlib/image.py\u001b[0m in \u001b[0;36m_draw_list_compositing_images\u001b[0;34m(renderer, parent, artists, suppress_composite)\u001b[0m\n\u001b[1;32m    129\u001b[0m     \u001b[0;32mif\u001b[0m \u001b[0mnot_composite\u001b[0m \u001b[0;32mor\u001b[0m \u001b[0;32mnot\u001b[0m \u001b[0mhas_images\u001b[0m\u001b[0;34m:\u001b[0m\u001b[0;34m\u001b[0m\u001b[0;34m\u001b[0m\u001b[0m\n\u001b[1;32m    130\u001b[0m         \u001b[0;32mfor\u001b[0m \u001b[0ma\u001b[0m \u001b[0;32min\u001b[0m \u001b[0martists\u001b[0m\u001b[0;34m:\u001b[0m\u001b[0;34m\u001b[0m\u001b[0;34m\u001b[0m\u001b[0m\n\u001b[0;32m--> 131\u001b[0;31m             \u001b[0ma\u001b[0m\u001b[0;34m.\u001b[0m\u001b[0mdraw\u001b[0m\u001b[0;34m(\u001b[0m\u001b[0mrenderer\u001b[0m\u001b[0;34m)\u001b[0m\u001b[0;34m\u001b[0m\u001b[0;34m\u001b[0m\u001b[0m\n\u001b[0m\u001b[1;32m    132\u001b[0m     \u001b[0;32melse\u001b[0m\u001b[0;34m:\u001b[0m\u001b[0;34m\u001b[0m\u001b[0;34m\u001b[0m\u001b[0m\n\u001b[1;32m    133\u001b[0m         \u001b[0;31m# Composite any adjacent images together\u001b[0m\u001b[0;34m\u001b[0m\u001b[0;34m\u001b[0m\u001b[0;34m\u001b[0m\u001b[0m\n",
      "\u001b[0;32m~/opt/anaconda3/envs/deep_learning/lib/python3.6/site-packages/matplotlib/artist.py\u001b[0m in \u001b[0;36mdraw_wrapper\u001b[0;34m(artist, renderer, *args, **kwargs)\u001b[0m\n\u001b[1;32m     39\u001b[0m                 \u001b[0mrenderer\u001b[0m\u001b[0;34m.\u001b[0m\u001b[0mstart_filter\u001b[0m\u001b[0;34m(\u001b[0m\u001b[0;34m)\u001b[0m\u001b[0;34m\u001b[0m\u001b[0;34m\u001b[0m\u001b[0m\n\u001b[1;32m     40\u001b[0m \u001b[0;34m\u001b[0m\u001b[0m\n\u001b[0;32m---> 41\u001b[0;31m             \u001b[0;32mreturn\u001b[0m \u001b[0mdraw\u001b[0m\u001b[0;34m(\u001b[0m\u001b[0martist\u001b[0m\u001b[0;34m,\u001b[0m \u001b[0mrenderer\u001b[0m\u001b[0;34m,\u001b[0m \u001b[0;34m*\u001b[0m\u001b[0margs\u001b[0m\u001b[0;34m,\u001b[0m \u001b[0;34m**\u001b[0m\u001b[0mkwargs\u001b[0m\u001b[0;34m)\u001b[0m\u001b[0;34m\u001b[0m\u001b[0;34m\u001b[0m\u001b[0m\n\u001b[0m\u001b[1;32m     42\u001b[0m         \u001b[0;32mfinally\u001b[0m\u001b[0;34m:\u001b[0m\u001b[0;34m\u001b[0m\u001b[0;34m\u001b[0m\u001b[0m\n\u001b[1;32m     43\u001b[0m             \u001b[0;32mif\u001b[0m \u001b[0martist\u001b[0m\u001b[0;34m.\u001b[0m\u001b[0mget_agg_filter\u001b[0m\u001b[0;34m(\u001b[0m\u001b[0;34m)\u001b[0m \u001b[0;32mis\u001b[0m \u001b[0;32mnot\u001b[0m \u001b[0;32mNone\u001b[0m\u001b[0;34m:\u001b[0m\u001b[0;34m\u001b[0m\u001b[0;34m\u001b[0m\u001b[0m\n",
      "\u001b[0;32m~/opt/anaconda3/envs/deep_learning/lib/python3.6/site-packages/matplotlib/lines.py\u001b[0m in \u001b[0;36mdraw\u001b[0;34m(self, renderer)\u001b[0m\n\u001b[1;32m    765\u001b[0m                 \u001b[0mgc\u001b[0m\u001b[0;34m.\u001b[0m\u001b[0mset_url\u001b[0m\u001b[0;34m(\u001b[0m\u001b[0mself\u001b[0m\u001b[0;34m.\u001b[0m\u001b[0mget_url\u001b[0m\u001b[0;34m(\u001b[0m\u001b[0;34m)\u001b[0m\u001b[0;34m)\u001b[0m\u001b[0;34m\u001b[0m\u001b[0;34m\u001b[0m\u001b[0m\n\u001b[1;32m    766\u001b[0m \u001b[0;34m\u001b[0m\u001b[0m\n\u001b[0;32m--> 767\u001b[0;31m                 \u001b[0mlc_rgba\u001b[0m \u001b[0;34m=\u001b[0m \u001b[0mmcolors\u001b[0m\u001b[0;34m.\u001b[0m\u001b[0mto_rgba\u001b[0m\u001b[0;34m(\u001b[0m\u001b[0mself\u001b[0m\u001b[0;34m.\u001b[0m\u001b[0m_color\u001b[0m\u001b[0;34m,\u001b[0m \u001b[0mself\u001b[0m\u001b[0;34m.\u001b[0m\u001b[0m_alpha\u001b[0m\u001b[0;34m)\u001b[0m\u001b[0;34m\u001b[0m\u001b[0;34m\u001b[0m\u001b[0m\n\u001b[0m\u001b[1;32m    768\u001b[0m                 \u001b[0mgc\u001b[0m\u001b[0;34m.\u001b[0m\u001b[0mset_foreground\u001b[0m\u001b[0;34m(\u001b[0m\u001b[0mlc_rgba\u001b[0m\u001b[0;34m,\u001b[0m \u001b[0misRGBA\u001b[0m\u001b[0;34m=\u001b[0m\u001b[0;32mTrue\u001b[0m\u001b[0;34m)\u001b[0m\u001b[0;34m\u001b[0m\u001b[0;34m\u001b[0m\u001b[0m\n\u001b[1;32m    769\u001b[0m \u001b[0;34m\u001b[0m\u001b[0m\n",
      "\u001b[0;32m~/opt/anaconda3/envs/deep_learning/lib/python3.6/site-packages/matplotlib/colors.py\u001b[0m in \u001b[0;36mto_rgba\u001b[0;34m(c, alpha)\u001b[0m\n\u001b[1;32m    187\u001b[0m         \u001b[0mrgba\u001b[0m \u001b[0;34m=\u001b[0m \u001b[0;32mNone\u001b[0m\u001b[0;34m\u001b[0m\u001b[0;34m\u001b[0m\u001b[0m\n\u001b[1;32m    188\u001b[0m     \u001b[0;32mif\u001b[0m \u001b[0mrgba\u001b[0m \u001b[0;32mis\u001b[0m \u001b[0;32mNone\u001b[0m\u001b[0;34m:\u001b[0m  \u001b[0;31m# Suppress exception chaining of cache lookup failure.\u001b[0m\u001b[0;34m\u001b[0m\u001b[0;34m\u001b[0m\u001b[0m\n\u001b[0;32m--> 189\u001b[0;31m         \u001b[0mrgba\u001b[0m \u001b[0;34m=\u001b[0m \u001b[0m_to_rgba_no_colorcycle\u001b[0m\u001b[0;34m(\u001b[0m\u001b[0mc\u001b[0m\u001b[0;34m,\u001b[0m \u001b[0malpha\u001b[0m\u001b[0;34m)\u001b[0m\u001b[0;34m\u001b[0m\u001b[0;34m\u001b[0m\u001b[0m\n\u001b[0m\u001b[1;32m    190\u001b[0m         \u001b[0;32mtry\u001b[0m\u001b[0;34m:\u001b[0m\u001b[0;34m\u001b[0m\u001b[0;34m\u001b[0m\u001b[0m\n\u001b[1;32m    191\u001b[0m             \u001b[0m_colors_full_map\u001b[0m\u001b[0;34m.\u001b[0m\u001b[0mcache\u001b[0m\u001b[0;34m[\u001b[0m\u001b[0mc\u001b[0m\u001b[0;34m,\u001b[0m \u001b[0malpha\u001b[0m\u001b[0;34m]\u001b[0m \u001b[0;34m=\u001b[0m \u001b[0mrgba\u001b[0m\u001b[0;34m\u001b[0m\u001b[0;34m\u001b[0m\u001b[0m\n",
      "\u001b[0;32m~/opt/anaconda3/envs/deep_learning/lib/python3.6/site-packages/matplotlib/colors.py\u001b[0m in \u001b[0;36m_to_rgba_no_colorcycle\u001b[0;34m(c, alpha)\u001b[0m\n\u001b[1;32m    258\u001b[0m                     f\"Value must be within 0-1 range\")\n\u001b[1;32m    259\u001b[0m             \u001b[0;32mreturn\u001b[0m \u001b[0mc\u001b[0m\u001b[0;34m,\u001b[0m \u001b[0mc\u001b[0m\u001b[0;34m,\u001b[0m \u001b[0mc\u001b[0m\u001b[0;34m,\u001b[0m \u001b[0malpha\u001b[0m \u001b[0;32mif\u001b[0m \u001b[0malpha\u001b[0m \u001b[0;32mis\u001b[0m \u001b[0;32mnot\u001b[0m \u001b[0;32mNone\u001b[0m \u001b[0;32melse\u001b[0m \u001b[0;36m1.\u001b[0m\u001b[0;34m\u001b[0m\u001b[0;34m\u001b[0m\u001b[0m\n\u001b[0;32m--> 260\u001b[0;31m         \u001b[0;32mraise\u001b[0m \u001b[0mValueError\u001b[0m\u001b[0;34m(\u001b[0m\u001b[0;34mf\"Invalid RGBA argument: {orig_c!r}\"\u001b[0m\u001b[0;34m)\u001b[0m\u001b[0;34m\u001b[0m\u001b[0;34m\u001b[0m\u001b[0m\n\u001b[0m\u001b[1;32m    261\u001b[0m     \u001b[0;31m# tuple color.\u001b[0m\u001b[0;34m\u001b[0m\u001b[0;34m\u001b[0m\u001b[0;34m\u001b[0m\u001b[0m\n\u001b[1;32m    262\u001b[0m     \u001b[0;32mif\u001b[0m \u001b[0;32mnot\u001b[0m \u001b[0mnp\u001b[0m\u001b[0;34m.\u001b[0m\u001b[0miterable\u001b[0m\u001b[0;34m(\u001b[0m\u001b[0mc\u001b[0m\u001b[0;34m)\u001b[0m\u001b[0;34m:\u001b[0m\u001b[0;34m\u001b[0m\u001b[0;34m\u001b[0m\u001b[0m\n",
      "\u001b[0;31mValueError\u001b[0m: Invalid RGBA argument: 'R'"
     ]
    },
    {
     "ename": "ValueError",
     "evalue": "Invalid RGBA argument: 'R'",
     "output_type": "error",
     "traceback": [
      "\u001b[0;31m---------------------------------------------------------------------------\u001b[0m",
      "\u001b[0;31mValueError\u001b[0m                                Traceback (most recent call last)",
      "\u001b[0;32m~/opt/anaconda3/envs/deep_learning/lib/python3.6/site-packages/IPython/core/formatters.py\u001b[0m in \u001b[0;36m__call__\u001b[0;34m(self, obj)\u001b[0m\n\u001b[1;32m    339\u001b[0m                 \u001b[0;32mpass\u001b[0m\u001b[0;34m\u001b[0m\u001b[0;34m\u001b[0m\u001b[0m\n\u001b[1;32m    340\u001b[0m             \u001b[0;32melse\u001b[0m\u001b[0;34m:\u001b[0m\u001b[0;34m\u001b[0m\u001b[0;34m\u001b[0m\u001b[0m\n\u001b[0;32m--> 341\u001b[0;31m                 \u001b[0;32mreturn\u001b[0m \u001b[0mprinter\u001b[0m\u001b[0;34m(\u001b[0m\u001b[0mobj\u001b[0m\u001b[0;34m)\u001b[0m\u001b[0;34m\u001b[0m\u001b[0;34m\u001b[0m\u001b[0m\n\u001b[0m\u001b[1;32m    342\u001b[0m             \u001b[0;31m# Finally look for special method names\u001b[0m\u001b[0;34m\u001b[0m\u001b[0;34m\u001b[0m\u001b[0;34m\u001b[0m\u001b[0m\n\u001b[1;32m    343\u001b[0m             \u001b[0mmethod\u001b[0m \u001b[0;34m=\u001b[0m \u001b[0mget_real_method\u001b[0m\u001b[0;34m(\u001b[0m\u001b[0mobj\u001b[0m\u001b[0;34m,\u001b[0m \u001b[0mself\u001b[0m\u001b[0;34m.\u001b[0m\u001b[0mprint_method\u001b[0m\u001b[0;34m)\u001b[0m\u001b[0;34m\u001b[0m\u001b[0;34m\u001b[0m\u001b[0m\n",
      "\u001b[0;32m~/opt/anaconda3/envs/deep_learning/lib/python3.6/site-packages/IPython/core/pylabtools.py\u001b[0m in \u001b[0;36m<lambda>\u001b[0;34m(fig)\u001b[0m\n\u001b[1;32m    246\u001b[0m \u001b[0;34m\u001b[0m\u001b[0m\n\u001b[1;32m    247\u001b[0m     \u001b[0;32mif\u001b[0m \u001b[0;34m'png'\u001b[0m \u001b[0;32min\u001b[0m \u001b[0mformats\u001b[0m\u001b[0;34m:\u001b[0m\u001b[0;34m\u001b[0m\u001b[0;34m\u001b[0m\u001b[0m\n\u001b[0;32m--> 248\u001b[0;31m         \u001b[0mpng_formatter\u001b[0m\u001b[0;34m.\u001b[0m\u001b[0mfor_type\u001b[0m\u001b[0;34m(\u001b[0m\u001b[0mFigure\u001b[0m\u001b[0;34m,\u001b[0m \u001b[0;32mlambda\u001b[0m \u001b[0mfig\u001b[0m\u001b[0;34m:\u001b[0m \u001b[0mprint_figure\u001b[0m\u001b[0;34m(\u001b[0m\u001b[0mfig\u001b[0m\u001b[0;34m,\u001b[0m \u001b[0;34m'png'\u001b[0m\u001b[0;34m,\u001b[0m \u001b[0;34m**\u001b[0m\u001b[0mkwargs\u001b[0m\u001b[0;34m)\u001b[0m\u001b[0;34m)\u001b[0m\u001b[0;34m\u001b[0m\u001b[0;34m\u001b[0m\u001b[0m\n\u001b[0m\u001b[1;32m    249\u001b[0m     \u001b[0;32mif\u001b[0m \u001b[0;34m'retina'\u001b[0m \u001b[0;32min\u001b[0m \u001b[0mformats\u001b[0m \u001b[0;32mor\u001b[0m \u001b[0;34m'png2x'\u001b[0m \u001b[0;32min\u001b[0m \u001b[0mformats\u001b[0m\u001b[0;34m:\u001b[0m\u001b[0;34m\u001b[0m\u001b[0;34m\u001b[0m\u001b[0m\n\u001b[1;32m    250\u001b[0m         \u001b[0mpng_formatter\u001b[0m\u001b[0;34m.\u001b[0m\u001b[0mfor_type\u001b[0m\u001b[0;34m(\u001b[0m\u001b[0mFigure\u001b[0m\u001b[0;34m,\u001b[0m \u001b[0;32mlambda\u001b[0m \u001b[0mfig\u001b[0m\u001b[0;34m:\u001b[0m \u001b[0mretina_figure\u001b[0m\u001b[0;34m(\u001b[0m\u001b[0mfig\u001b[0m\u001b[0;34m,\u001b[0m \u001b[0;34m**\u001b[0m\u001b[0mkwargs\u001b[0m\u001b[0;34m)\u001b[0m\u001b[0;34m)\u001b[0m\u001b[0;34m\u001b[0m\u001b[0;34m\u001b[0m\u001b[0m\n",
      "\u001b[0;32m~/opt/anaconda3/envs/deep_learning/lib/python3.6/site-packages/IPython/core/pylabtools.py\u001b[0m in \u001b[0;36mprint_figure\u001b[0;34m(fig, fmt, bbox_inches, **kwargs)\u001b[0m\n\u001b[1;32m    130\u001b[0m         \u001b[0mFigureCanvasBase\u001b[0m\u001b[0;34m(\u001b[0m\u001b[0mfig\u001b[0m\u001b[0;34m)\u001b[0m\u001b[0;34m\u001b[0m\u001b[0;34m\u001b[0m\u001b[0m\n\u001b[1;32m    131\u001b[0m \u001b[0;34m\u001b[0m\u001b[0m\n\u001b[0;32m--> 132\u001b[0;31m     \u001b[0mfig\u001b[0m\u001b[0;34m.\u001b[0m\u001b[0mcanvas\u001b[0m\u001b[0;34m.\u001b[0m\u001b[0mprint_figure\u001b[0m\u001b[0;34m(\u001b[0m\u001b[0mbytes_io\u001b[0m\u001b[0;34m,\u001b[0m \u001b[0;34m**\u001b[0m\u001b[0mkw\u001b[0m\u001b[0;34m)\u001b[0m\u001b[0;34m\u001b[0m\u001b[0;34m\u001b[0m\u001b[0m\n\u001b[0m\u001b[1;32m    133\u001b[0m     \u001b[0mdata\u001b[0m \u001b[0;34m=\u001b[0m \u001b[0mbytes_io\u001b[0m\u001b[0;34m.\u001b[0m\u001b[0mgetvalue\u001b[0m\u001b[0;34m(\u001b[0m\u001b[0;34m)\u001b[0m\u001b[0;34m\u001b[0m\u001b[0;34m\u001b[0m\u001b[0m\n\u001b[1;32m    134\u001b[0m     \u001b[0;32mif\u001b[0m \u001b[0mfmt\u001b[0m \u001b[0;34m==\u001b[0m \u001b[0;34m'svg'\u001b[0m\u001b[0;34m:\u001b[0m\u001b[0;34m\u001b[0m\u001b[0;34m\u001b[0m\u001b[0m\n",
      "\u001b[0;32m~/opt/anaconda3/envs/deep_learning/lib/python3.6/site-packages/matplotlib/backend_bases.py\u001b[0m in \u001b[0;36mprint_figure\u001b[0;34m(self, filename, dpi, facecolor, edgecolor, orientation, format, bbox_inches, pad_inches, bbox_extra_artists, backend, **kwargs)\u001b[0m\n\u001b[1;32m   2191\u001b[0m                            else suppress())\n\u001b[1;32m   2192\u001b[0m                     \u001b[0;32mwith\u001b[0m \u001b[0mctx\u001b[0m\u001b[0;34m:\u001b[0m\u001b[0;34m\u001b[0m\u001b[0;34m\u001b[0m\u001b[0m\n\u001b[0;32m-> 2193\u001b[0;31m                         \u001b[0mself\u001b[0m\u001b[0;34m.\u001b[0m\u001b[0mfigure\u001b[0m\u001b[0;34m.\u001b[0m\u001b[0mdraw\u001b[0m\u001b[0;34m(\u001b[0m\u001b[0mrenderer\u001b[0m\u001b[0;34m)\u001b[0m\u001b[0;34m\u001b[0m\u001b[0;34m\u001b[0m\u001b[0m\n\u001b[0m\u001b[1;32m   2194\u001b[0m \u001b[0;34m\u001b[0m\u001b[0m\n\u001b[1;32m   2195\u001b[0m                     bbox_inches = self.figure.get_tightbbox(\n",
      "\u001b[0;32m~/opt/anaconda3/envs/deep_learning/lib/python3.6/site-packages/matplotlib/artist.py\u001b[0m in \u001b[0;36mdraw_wrapper\u001b[0;34m(artist, renderer, *args, **kwargs)\u001b[0m\n\u001b[1;32m     39\u001b[0m                 \u001b[0mrenderer\u001b[0m\u001b[0;34m.\u001b[0m\u001b[0mstart_filter\u001b[0m\u001b[0;34m(\u001b[0m\u001b[0;34m)\u001b[0m\u001b[0;34m\u001b[0m\u001b[0;34m\u001b[0m\u001b[0m\n\u001b[1;32m     40\u001b[0m \u001b[0;34m\u001b[0m\u001b[0m\n\u001b[0;32m---> 41\u001b[0;31m             \u001b[0;32mreturn\u001b[0m \u001b[0mdraw\u001b[0m\u001b[0;34m(\u001b[0m\u001b[0martist\u001b[0m\u001b[0;34m,\u001b[0m \u001b[0mrenderer\u001b[0m\u001b[0;34m,\u001b[0m \u001b[0;34m*\u001b[0m\u001b[0margs\u001b[0m\u001b[0;34m,\u001b[0m \u001b[0;34m**\u001b[0m\u001b[0mkwargs\u001b[0m\u001b[0;34m)\u001b[0m\u001b[0;34m\u001b[0m\u001b[0;34m\u001b[0m\u001b[0m\n\u001b[0m\u001b[1;32m     42\u001b[0m         \u001b[0;32mfinally\u001b[0m\u001b[0;34m:\u001b[0m\u001b[0;34m\u001b[0m\u001b[0;34m\u001b[0m\u001b[0m\n\u001b[1;32m     43\u001b[0m             \u001b[0;32mif\u001b[0m \u001b[0martist\u001b[0m\u001b[0;34m.\u001b[0m\u001b[0mget_agg_filter\u001b[0m\u001b[0;34m(\u001b[0m\u001b[0;34m)\u001b[0m \u001b[0;32mis\u001b[0m \u001b[0;32mnot\u001b[0m \u001b[0;32mNone\u001b[0m\u001b[0;34m:\u001b[0m\u001b[0;34m\u001b[0m\u001b[0;34m\u001b[0m\u001b[0m\n",
      "\u001b[0;32m~/opt/anaconda3/envs/deep_learning/lib/python3.6/site-packages/matplotlib/figure.py\u001b[0m in \u001b[0;36mdraw\u001b[0;34m(self, renderer)\u001b[0m\n\u001b[1;32m   1862\u001b[0m             \u001b[0mself\u001b[0m\u001b[0;34m.\u001b[0m\u001b[0mpatch\u001b[0m\u001b[0;34m.\u001b[0m\u001b[0mdraw\u001b[0m\u001b[0;34m(\u001b[0m\u001b[0mrenderer\u001b[0m\u001b[0;34m)\u001b[0m\u001b[0;34m\u001b[0m\u001b[0;34m\u001b[0m\u001b[0m\n\u001b[1;32m   1863\u001b[0m             mimage._draw_list_compositing_images(\n\u001b[0;32m-> 1864\u001b[0;31m                 renderer, self, artists, self.suppressComposite)\n\u001b[0m\u001b[1;32m   1865\u001b[0m \u001b[0;34m\u001b[0m\u001b[0m\n\u001b[1;32m   1866\u001b[0m             \u001b[0mrenderer\u001b[0m\u001b[0;34m.\u001b[0m\u001b[0mclose_group\u001b[0m\u001b[0;34m(\u001b[0m\u001b[0;34m'figure'\u001b[0m\u001b[0;34m)\u001b[0m\u001b[0;34m\u001b[0m\u001b[0;34m\u001b[0m\u001b[0m\n",
      "\u001b[0;32m~/opt/anaconda3/envs/deep_learning/lib/python3.6/site-packages/matplotlib/image.py\u001b[0m in \u001b[0;36m_draw_list_compositing_images\u001b[0;34m(renderer, parent, artists, suppress_composite)\u001b[0m\n\u001b[1;32m    129\u001b[0m     \u001b[0;32mif\u001b[0m \u001b[0mnot_composite\u001b[0m \u001b[0;32mor\u001b[0m \u001b[0;32mnot\u001b[0m \u001b[0mhas_images\u001b[0m\u001b[0;34m:\u001b[0m\u001b[0;34m\u001b[0m\u001b[0;34m\u001b[0m\u001b[0m\n\u001b[1;32m    130\u001b[0m         \u001b[0;32mfor\u001b[0m \u001b[0ma\u001b[0m \u001b[0;32min\u001b[0m \u001b[0martists\u001b[0m\u001b[0;34m:\u001b[0m\u001b[0;34m\u001b[0m\u001b[0;34m\u001b[0m\u001b[0m\n\u001b[0;32m--> 131\u001b[0;31m             \u001b[0ma\u001b[0m\u001b[0;34m.\u001b[0m\u001b[0mdraw\u001b[0m\u001b[0;34m(\u001b[0m\u001b[0mrenderer\u001b[0m\u001b[0;34m)\u001b[0m\u001b[0;34m\u001b[0m\u001b[0;34m\u001b[0m\u001b[0m\n\u001b[0m\u001b[1;32m    132\u001b[0m     \u001b[0;32melse\u001b[0m\u001b[0;34m:\u001b[0m\u001b[0;34m\u001b[0m\u001b[0;34m\u001b[0m\u001b[0m\n\u001b[1;32m    133\u001b[0m         \u001b[0;31m# Composite any adjacent images together\u001b[0m\u001b[0;34m\u001b[0m\u001b[0;34m\u001b[0m\u001b[0;34m\u001b[0m\u001b[0m\n",
      "\u001b[0;32m~/opt/anaconda3/envs/deep_learning/lib/python3.6/site-packages/matplotlib/artist.py\u001b[0m in \u001b[0;36mdraw_wrapper\u001b[0;34m(artist, renderer, *args, **kwargs)\u001b[0m\n\u001b[1;32m     39\u001b[0m                 \u001b[0mrenderer\u001b[0m\u001b[0;34m.\u001b[0m\u001b[0mstart_filter\u001b[0m\u001b[0;34m(\u001b[0m\u001b[0;34m)\u001b[0m\u001b[0;34m\u001b[0m\u001b[0;34m\u001b[0m\u001b[0m\n\u001b[1;32m     40\u001b[0m \u001b[0;34m\u001b[0m\u001b[0m\n\u001b[0;32m---> 41\u001b[0;31m             \u001b[0;32mreturn\u001b[0m \u001b[0mdraw\u001b[0m\u001b[0;34m(\u001b[0m\u001b[0martist\u001b[0m\u001b[0;34m,\u001b[0m \u001b[0mrenderer\u001b[0m\u001b[0;34m,\u001b[0m \u001b[0;34m*\u001b[0m\u001b[0margs\u001b[0m\u001b[0;34m,\u001b[0m \u001b[0;34m**\u001b[0m\u001b[0mkwargs\u001b[0m\u001b[0;34m)\u001b[0m\u001b[0;34m\u001b[0m\u001b[0;34m\u001b[0m\u001b[0m\n\u001b[0m\u001b[1;32m     42\u001b[0m         \u001b[0;32mfinally\u001b[0m\u001b[0;34m:\u001b[0m\u001b[0;34m\u001b[0m\u001b[0;34m\u001b[0m\u001b[0m\n\u001b[1;32m     43\u001b[0m             \u001b[0;32mif\u001b[0m \u001b[0martist\u001b[0m\u001b[0;34m.\u001b[0m\u001b[0mget_agg_filter\u001b[0m\u001b[0;34m(\u001b[0m\u001b[0;34m)\u001b[0m \u001b[0;32mis\u001b[0m \u001b[0;32mnot\u001b[0m \u001b[0;32mNone\u001b[0m\u001b[0;34m:\u001b[0m\u001b[0;34m\u001b[0m\u001b[0;34m\u001b[0m\u001b[0m\n",
      "\u001b[0;32m~/opt/anaconda3/envs/deep_learning/lib/python3.6/site-packages/matplotlib/cbook/deprecation.py\u001b[0m in \u001b[0;36mwrapper\u001b[0;34m(*inner_args, **inner_kwargs)\u001b[0m\n\u001b[1;32m    409\u001b[0m                          \u001b[0;32melse\u001b[0m \u001b[0mdeprecation_addendum\u001b[0m\u001b[0;34m,\u001b[0m\u001b[0;34m\u001b[0m\u001b[0;34m\u001b[0m\u001b[0m\n\u001b[1;32m    410\u001b[0m                 **kwargs)\n\u001b[0;32m--> 411\u001b[0;31m         \u001b[0;32mreturn\u001b[0m \u001b[0mfunc\u001b[0m\u001b[0;34m(\u001b[0m\u001b[0;34m*\u001b[0m\u001b[0minner_args\u001b[0m\u001b[0;34m,\u001b[0m \u001b[0;34m**\u001b[0m\u001b[0minner_kwargs\u001b[0m\u001b[0;34m)\u001b[0m\u001b[0;34m\u001b[0m\u001b[0;34m\u001b[0m\u001b[0m\n\u001b[0m\u001b[1;32m    412\u001b[0m \u001b[0;34m\u001b[0m\u001b[0m\n\u001b[1;32m    413\u001b[0m     \u001b[0;32mreturn\u001b[0m \u001b[0mwrapper\u001b[0m\u001b[0;34m\u001b[0m\u001b[0;34m\u001b[0m\u001b[0m\n",
      "\u001b[0;32m~/opt/anaconda3/envs/deep_learning/lib/python3.6/site-packages/matplotlib/axes/_base.py\u001b[0m in \u001b[0;36mdraw\u001b[0;34m(self, renderer, inframe)\u001b[0m\n\u001b[1;32m   2745\u001b[0m             \u001b[0mrenderer\u001b[0m\u001b[0;34m.\u001b[0m\u001b[0mstop_rasterizing\u001b[0m\u001b[0;34m(\u001b[0m\u001b[0;34m)\u001b[0m\u001b[0;34m\u001b[0m\u001b[0;34m\u001b[0m\u001b[0m\n\u001b[1;32m   2746\u001b[0m \u001b[0;34m\u001b[0m\u001b[0m\n\u001b[0;32m-> 2747\u001b[0;31m         \u001b[0mmimage\u001b[0m\u001b[0;34m.\u001b[0m\u001b[0m_draw_list_compositing_images\u001b[0m\u001b[0;34m(\u001b[0m\u001b[0mrenderer\u001b[0m\u001b[0;34m,\u001b[0m \u001b[0mself\u001b[0m\u001b[0;34m,\u001b[0m \u001b[0martists\u001b[0m\u001b[0;34m)\u001b[0m\u001b[0;34m\u001b[0m\u001b[0;34m\u001b[0m\u001b[0m\n\u001b[0m\u001b[1;32m   2748\u001b[0m \u001b[0;34m\u001b[0m\u001b[0m\n\u001b[1;32m   2749\u001b[0m         \u001b[0mrenderer\u001b[0m\u001b[0;34m.\u001b[0m\u001b[0mclose_group\u001b[0m\u001b[0;34m(\u001b[0m\u001b[0;34m'axes'\u001b[0m\u001b[0;34m)\u001b[0m\u001b[0;34m\u001b[0m\u001b[0;34m\u001b[0m\u001b[0m\n",
      "\u001b[0;32m~/opt/anaconda3/envs/deep_learning/lib/python3.6/site-packages/matplotlib/image.py\u001b[0m in \u001b[0;36m_draw_list_compositing_images\u001b[0;34m(renderer, parent, artists, suppress_composite)\u001b[0m\n\u001b[1;32m    129\u001b[0m     \u001b[0;32mif\u001b[0m \u001b[0mnot_composite\u001b[0m \u001b[0;32mor\u001b[0m \u001b[0;32mnot\u001b[0m \u001b[0mhas_images\u001b[0m\u001b[0;34m:\u001b[0m\u001b[0;34m\u001b[0m\u001b[0;34m\u001b[0m\u001b[0m\n\u001b[1;32m    130\u001b[0m         \u001b[0;32mfor\u001b[0m \u001b[0ma\u001b[0m \u001b[0;32min\u001b[0m \u001b[0martists\u001b[0m\u001b[0;34m:\u001b[0m\u001b[0;34m\u001b[0m\u001b[0;34m\u001b[0m\u001b[0m\n\u001b[0;32m--> 131\u001b[0;31m             \u001b[0ma\u001b[0m\u001b[0;34m.\u001b[0m\u001b[0mdraw\u001b[0m\u001b[0;34m(\u001b[0m\u001b[0mrenderer\u001b[0m\u001b[0;34m)\u001b[0m\u001b[0;34m\u001b[0m\u001b[0;34m\u001b[0m\u001b[0m\n\u001b[0m\u001b[1;32m    132\u001b[0m     \u001b[0;32melse\u001b[0m\u001b[0;34m:\u001b[0m\u001b[0;34m\u001b[0m\u001b[0;34m\u001b[0m\u001b[0m\n\u001b[1;32m    133\u001b[0m         \u001b[0;31m# Composite any adjacent images together\u001b[0m\u001b[0;34m\u001b[0m\u001b[0;34m\u001b[0m\u001b[0;34m\u001b[0m\u001b[0m\n",
      "\u001b[0;32m~/opt/anaconda3/envs/deep_learning/lib/python3.6/site-packages/matplotlib/artist.py\u001b[0m in \u001b[0;36mdraw_wrapper\u001b[0;34m(artist, renderer, *args, **kwargs)\u001b[0m\n\u001b[1;32m     39\u001b[0m                 \u001b[0mrenderer\u001b[0m\u001b[0;34m.\u001b[0m\u001b[0mstart_filter\u001b[0m\u001b[0;34m(\u001b[0m\u001b[0;34m)\u001b[0m\u001b[0;34m\u001b[0m\u001b[0;34m\u001b[0m\u001b[0m\n\u001b[1;32m     40\u001b[0m \u001b[0;34m\u001b[0m\u001b[0m\n\u001b[0;32m---> 41\u001b[0;31m             \u001b[0;32mreturn\u001b[0m \u001b[0mdraw\u001b[0m\u001b[0;34m(\u001b[0m\u001b[0martist\u001b[0m\u001b[0;34m,\u001b[0m \u001b[0mrenderer\u001b[0m\u001b[0;34m,\u001b[0m \u001b[0;34m*\u001b[0m\u001b[0margs\u001b[0m\u001b[0;34m,\u001b[0m \u001b[0;34m**\u001b[0m\u001b[0mkwargs\u001b[0m\u001b[0;34m)\u001b[0m\u001b[0;34m\u001b[0m\u001b[0;34m\u001b[0m\u001b[0m\n\u001b[0m\u001b[1;32m     42\u001b[0m         \u001b[0;32mfinally\u001b[0m\u001b[0;34m:\u001b[0m\u001b[0;34m\u001b[0m\u001b[0;34m\u001b[0m\u001b[0m\n\u001b[1;32m     43\u001b[0m             \u001b[0;32mif\u001b[0m \u001b[0martist\u001b[0m\u001b[0;34m.\u001b[0m\u001b[0mget_agg_filter\u001b[0m\u001b[0;34m(\u001b[0m\u001b[0;34m)\u001b[0m \u001b[0;32mis\u001b[0m \u001b[0;32mnot\u001b[0m \u001b[0;32mNone\u001b[0m\u001b[0;34m:\u001b[0m\u001b[0;34m\u001b[0m\u001b[0;34m\u001b[0m\u001b[0m\n",
      "\u001b[0;32m~/opt/anaconda3/envs/deep_learning/lib/python3.6/site-packages/matplotlib/lines.py\u001b[0m in \u001b[0;36mdraw\u001b[0;34m(self, renderer)\u001b[0m\n\u001b[1;32m    765\u001b[0m                 \u001b[0mgc\u001b[0m\u001b[0;34m.\u001b[0m\u001b[0mset_url\u001b[0m\u001b[0;34m(\u001b[0m\u001b[0mself\u001b[0m\u001b[0;34m.\u001b[0m\u001b[0mget_url\u001b[0m\u001b[0;34m(\u001b[0m\u001b[0;34m)\u001b[0m\u001b[0;34m)\u001b[0m\u001b[0;34m\u001b[0m\u001b[0;34m\u001b[0m\u001b[0m\n\u001b[1;32m    766\u001b[0m \u001b[0;34m\u001b[0m\u001b[0m\n\u001b[0;32m--> 767\u001b[0;31m                 \u001b[0mlc_rgba\u001b[0m \u001b[0;34m=\u001b[0m \u001b[0mmcolors\u001b[0m\u001b[0;34m.\u001b[0m\u001b[0mto_rgba\u001b[0m\u001b[0;34m(\u001b[0m\u001b[0mself\u001b[0m\u001b[0;34m.\u001b[0m\u001b[0m_color\u001b[0m\u001b[0;34m,\u001b[0m \u001b[0mself\u001b[0m\u001b[0;34m.\u001b[0m\u001b[0m_alpha\u001b[0m\u001b[0;34m)\u001b[0m\u001b[0;34m\u001b[0m\u001b[0;34m\u001b[0m\u001b[0m\n\u001b[0m\u001b[1;32m    768\u001b[0m                 \u001b[0mgc\u001b[0m\u001b[0;34m.\u001b[0m\u001b[0mset_foreground\u001b[0m\u001b[0;34m(\u001b[0m\u001b[0mlc_rgba\u001b[0m\u001b[0;34m,\u001b[0m \u001b[0misRGBA\u001b[0m\u001b[0;34m=\u001b[0m\u001b[0;32mTrue\u001b[0m\u001b[0;34m)\u001b[0m\u001b[0;34m\u001b[0m\u001b[0;34m\u001b[0m\u001b[0m\n\u001b[1;32m    769\u001b[0m \u001b[0;34m\u001b[0m\u001b[0m\n",
      "\u001b[0;32m~/opt/anaconda3/envs/deep_learning/lib/python3.6/site-packages/matplotlib/colors.py\u001b[0m in \u001b[0;36mto_rgba\u001b[0;34m(c, alpha)\u001b[0m\n\u001b[1;32m    187\u001b[0m         \u001b[0mrgba\u001b[0m \u001b[0;34m=\u001b[0m \u001b[0;32mNone\u001b[0m\u001b[0;34m\u001b[0m\u001b[0;34m\u001b[0m\u001b[0m\n\u001b[1;32m    188\u001b[0m     \u001b[0;32mif\u001b[0m \u001b[0mrgba\u001b[0m \u001b[0;32mis\u001b[0m \u001b[0;32mNone\u001b[0m\u001b[0;34m:\u001b[0m  \u001b[0;31m# Suppress exception chaining of cache lookup failure.\u001b[0m\u001b[0;34m\u001b[0m\u001b[0;34m\u001b[0m\u001b[0m\n\u001b[0;32m--> 189\u001b[0;31m         \u001b[0mrgba\u001b[0m \u001b[0;34m=\u001b[0m \u001b[0m_to_rgba_no_colorcycle\u001b[0m\u001b[0;34m(\u001b[0m\u001b[0mc\u001b[0m\u001b[0;34m,\u001b[0m \u001b[0malpha\u001b[0m\u001b[0;34m)\u001b[0m\u001b[0;34m\u001b[0m\u001b[0;34m\u001b[0m\u001b[0m\n\u001b[0m\u001b[1;32m    190\u001b[0m         \u001b[0;32mtry\u001b[0m\u001b[0;34m:\u001b[0m\u001b[0;34m\u001b[0m\u001b[0;34m\u001b[0m\u001b[0m\n\u001b[1;32m    191\u001b[0m             \u001b[0m_colors_full_map\u001b[0m\u001b[0;34m.\u001b[0m\u001b[0mcache\u001b[0m\u001b[0;34m[\u001b[0m\u001b[0mc\u001b[0m\u001b[0;34m,\u001b[0m \u001b[0malpha\u001b[0m\u001b[0;34m]\u001b[0m \u001b[0;34m=\u001b[0m \u001b[0mrgba\u001b[0m\u001b[0;34m\u001b[0m\u001b[0;34m\u001b[0m\u001b[0m\n",
      "\u001b[0;32m~/opt/anaconda3/envs/deep_learning/lib/python3.6/site-packages/matplotlib/colors.py\u001b[0m in \u001b[0;36m_to_rgba_no_colorcycle\u001b[0;34m(c, alpha)\u001b[0m\n\u001b[1;32m    258\u001b[0m                     f\"Value must be within 0-1 range\")\n\u001b[1;32m    259\u001b[0m             \u001b[0;32mreturn\u001b[0m \u001b[0mc\u001b[0m\u001b[0;34m,\u001b[0m \u001b[0mc\u001b[0m\u001b[0;34m,\u001b[0m \u001b[0mc\u001b[0m\u001b[0;34m,\u001b[0m \u001b[0malpha\u001b[0m \u001b[0;32mif\u001b[0m \u001b[0malpha\u001b[0m \u001b[0;32mis\u001b[0m \u001b[0;32mnot\u001b[0m \u001b[0;32mNone\u001b[0m \u001b[0;32melse\u001b[0m \u001b[0;36m1.\u001b[0m\u001b[0;34m\u001b[0m\u001b[0;34m\u001b[0m\u001b[0m\n\u001b[0;32m--> 260\u001b[0;31m         \u001b[0;32mraise\u001b[0m \u001b[0mValueError\u001b[0m\u001b[0;34m(\u001b[0m\u001b[0;34mf\"Invalid RGBA argument: {orig_c!r}\"\u001b[0m\u001b[0;34m)\u001b[0m\u001b[0;34m\u001b[0m\u001b[0;34m\u001b[0m\u001b[0m\n\u001b[0m\u001b[1;32m    261\u001b[0m     \u001b[0;31m# tuple color.\u001b[0m\u001b[0;34m\u001b[0m\u001b[0;34m\u001b[0m\u001b[0;34m\u001b[0m\u001b[0m\n\u001b[1;32m    262\u001b[0m     \u001b[0;32mif\u001b[0m \u001b[0;32mnot\u001b[0m \u001b[0mnp\u001b[0m\u001b[0;34m.\u001b[0m\u001b[0miterable\u001b[0m\u001b[0;34m(\u001b[0m\u001b[0mc\u001b[0m\u001b[0;34m)\u001b[0m\u001b[0;34m:\u001b[0m\u001b[0;34m\u001b[0m\u001b[0;34m\u001b[0m\u001b[0m\n",
      "\u001b[0;31mValueError\u001b[0m: Invalid RGBA argument: 'R'"
     ]
    },
    {
     "data": {
      "text/plain": [
       "<Figure size 864x432 with 2 Axes>"
      ]
     },
     "metadata": {
      "needs_background": "light"
     },
     "output_type": "display_data"
    }
   ],
   "source": [
    "f, ([ax1, ax2]) = plt.subplots(1,2, sharex=False, sharey=False, figsize=(12, 6)) #, figsize=(10, 10)\n",
    "plt_jaccard, = ax1.plot(*perc_jaccard, color = 'k', label = 'jaccard, rmse = %.4f'%rmse_jaccard)\n",
    "plt_cosine, = ax1.plot(*perc_cosine, color = 'y', label = 'cosine, rmse = %.4f'%rmse_cosine)\n",
    "plt_pearson, = ax1.plot(*perc_pearson, color = 'b', label = 'pearson, rmse = %.4f'%rmse_pearson)\n",
    "plt_pearson2, = ax1.plot(*perc_pearson2, color = 'R', label = 'pearson2, rmse = %.4f'%rmse_pearson2)\n",
    "\n",
    "ax1.plot(*percentiles_train_media, linestyle = \":\", color = 'k')\n",
    "\n",
    "ax1.legend(handles=[plt_pearson, plt_pearson2, plt_cosine, plt_jaccard], loc = 'best', prop = fontP)\n",
    "ax1.set_xlabel('K [%], default = 1000')\n",
    "ax1.set_ylabel('hits [%]')\n",
    "\n",
    "ax2.plot(*perc_jaccard,  color = 'k')\n",
    "ax2.plot(*perc_cosine,  color = 'y')\n",
    "ax2.plot(*perc_pearson, color = 'b')\n",
    "ax2.plot(*perc_pearson2, color = 'r')\n",
    "\n",
    "ax2.legend(handles=[plt_pearson, plt_cosine, plt_jaccard], loc = 'best', prop = fontP)\n",
    "ax2.set_xlabel('K [%], default = 1000')\n",
    "ax2.set_ylabel('hits [%]')\n",
    "ax2.set_ylim([0,35])\n",
    "ax2.set_xlim([0,2])\n",
    "\n",
    "print('\\n Ejemplo: si k=2 y hits=30 \\n El 30% de los items relevantes se encuentran dentro de los primeros 20 items (1000 * k/100)')\n",
    "f.suptitle('Distintos estimadores de similitud, Hits vs position', fontsize = 15)\n",
    "f.show()"
   ]
  },
  {
   "cell_type": "markdown",
   "metadata": {},
   "source": [
    "# Matrix Factorization"
   ]
  },
  {
   "cell_type": "code",
   "execution_count": 23,
   "metadata": {
    "tags": []
   },
   "outputs": [],
   "source": [
    "from cf_helper_2 import Matrix_Factorization_baselines_SGD"
   ]
  },
  {
   "cell_type": "code",
   "execution_count": 24,
   "metadata": {
    "tags": []
   },
   "outputs": [],
   "source": [
    "mu = R_train[R_train.nonzero() ].mean()"
   ]
  },
  {
   "cell_type": "code",
   "execution_count": null,
   "metadata": {},
   "outputs": [
    {
     "name": "stdout",
     "output_type": "stream",
     "text": [
      "epoch = -1 accuracy (train, test): (6.1640, 5.9480), rmse (train, test): (1.126675, 1.122626)\n",
      "epoch = 0 accuracy (train, test): (6.1640, 5.9480), rmse (train, test): (0.976177, 0.988495)\n",
      "epoch = 1 accuracy (train, test): (6.1640, 5.9480), rmse (train, test): (0.951647, 0.969107)\n",
      "epoch = 2 accuracy (train, test): (6.1640, 5.9480), rmse (train, test): (0.940873, 0.961224)\n",
      "epoch = 3 accuracy (train, test): (6.1640, 5.9480), rmse (train, test): (0.934751, 0.957022)\n",
      "epoch = 4 accuracy (train, test): (6.1640, 5.9480), rmse (train, test): (0.930836, 0.954502)\n",
      "epoch = 5 accuracy (train, test): (6.1640, 5.9480), rmse (train, test): (0.928143, 0.952880)\n",
      "epoch = 6 accuracy (train, test): (6.1640, 5.9480), rmse (train, test): (0.926195, 0.951784)\n",
      "epoch = 7 accuracy (train, test): (6.1640, 5.9480), rmse (train, test): (0.924730, 0.951015)\n",
      "epoch = 8 accuracy (train, test): (6.1640, 5.9480), rmse (train, test): (0.923593, 0.950459)\n",
      "epoch = 9 accuracy (train, test): (6.1640, 5.9480), rmse (train, test): (0.922687, 0.950046)\n",
      "epoch = 10 accuracy (train, test): (6.1640, 5.9480), rmse (train, test): (0.921951, 0.949733)\n",
      "epoch = 11 accuracy (train, test): (6.1640, 5.9480), rmse (train, test): (0.921341, 0.949491)\n",
      "epoch = 12 accuracy (train, test): (6.1640, 5.9480), rmse (train, test): (0.920827, 0.949300)\n",
      "epoch = 13 accuracy (train, test): (6.1640, 5.9480), rmse (train, test): (0.920389, 0.949148)\n",
      "epoch = 14 accuracy (train, test): (6.1640, 5.9480), rmse (train, test): (0.920010, 0.949024)\n",
      "epoch = 15 accuracy (train, test): (6.1640, 5.9480), rmse (train, test): (0.919680, 0.948923)\n",
      "epoch = 16 accuracy (train, test): (6.1640, 5.9480), rmse (train, test): (0.919389, 0.948839)\n",
      "epoch = 17 accuracy (train, test): (6.1640, 5.9440), rmse (train, test): (0.919131, 0.948768)\n",
      "epoch = 18 accuracy (train, test): (6.1640, 5.9440), rmse (train, test): (0.918900, 0.948709)\n",
      "epoch = 19 accuracy (train, test): (6.1640, 5.9440), rmse (train, test): (0.918692, 0.948659)\n",
      "epoch = 20 accuracy (train, test): (6.1640, 5.9440), rmse (train, test): (0.918504, 0.948616)\n",
      "epoch = 21 accuracy (train, test): (6.1640, 5.9440), rmse (train, test): (0.918333, 0.948579)\n",
      "epoch = 22 accuracy (train, test): (6.1640, 5.9440), rmse (train, test): (0.918177, 0.948547)\n",
      "epoch = 23 accuracy (train, test): (6.1640, 5.9440), rmse (train, test): (0.918033, 0.948519)\n",
      "epoch = 24 accuracy (train, test): (6.1640, 5.9440), rmse (train, test): (0.917901, 0.948496)\n",
      "epoch = 25 accuracy (train, test): (6.1640, 5.9440), rmse (train, test): (0.917778, 0.948475)\n",
      "epoch = 26 accuracy (train, test): (6.1640, 5.9440), rmse (train, test): (0.917665, 0.948457)\n",
      "epoch = 27 accuracy (train, test): (6.1640, 5.9440), rmse (train, test): (0.917559, 0.948442)\n",
      "epoch = 28 accuracy (train, test): (6.1640, 5.9440), rmse (train, test): (0.917459, 0.948428)\n",
      "epoch = 29 accuracy (train, test): (6.1640, 5.9440), rmse (train, test): (0.917366, 0.948416)\n",
      "epoch = 30 accuracy (train, test): (6.1640, 5.9440), rmse (train, test): (0.917278, 0.948405)\n",
      "epoch = 31 accuracy (train, test): (6.1640, 5.9440), rmse (train, test): (0.917195, 0.948396)\n",
      "epoch = 32 accuracy (train, test): (6.1640, 5.9440), rmse (train, test): (0.917116, 0.948387)\n",
      "epoch = 33 accuracy (train, test): (6.1640, 5.9440), rmse (train, test): (0.917040, 0.948379)\n",
      "epoch = 34 accuracy (train, test): (6.1640, 5.9440), rmse (train, test): (0.916967, 0.948371)\n",
      "epoch = 35 accuracy (train, test): (6.1640, 5.9440), rmse (train, test): (0.916896, 0.948363)\n",
      "epoch = 36 accuracy (train, test): (6.1640, 5.9440), rmse (train, test): (0.916827, 0.948354)\n",
      "epoch = 37 accuracy (train, test): (6.1640, 5.9440), rmse (train, test): (0.916758, 0.948345)\n",
      "epoch = 38 accuracy (train, test): (6.1640, 5.9440), rmse (train, test): (0.916690, 0.948335)\n",
      "epoch = 39 accuracy (train, test): (6.1640, 5.9440), rmse (train, test): (0.916620, 0.948322)\n",
      "epoch = 40 accuracy (train, test): (6.1640, 5.9440), rmse (train, test): (0.916549, 0.948307)\n",
      "epoch = 41 accuracy (train, test): (6.1640, 5.9440), rmse (train, test): (0.916474, 0.948289)\n",
      "epoch = 42 accuracy (train, test): (6.1640, 5.9440), rmse (train, test): (0.916394, 0.948266)\n",
      "epoch = 43 accuracy (train, test): (6.1640, 5.9440), rmse (train, test): (0.916307, 0.948237)\n",
      "epoch = 44 accuracy (train, test): (6.1640, 5.9440), rmse (train, test): (0.916212, 0.948202)\n",
      "epoch = 45 accuracy (train, test): (6.1640, 5.9440), rmse (train, test): (0.916105, 0.948157)\n",
      "epoch = 46 accuracy (train, test): (6.1640, 5.9440), rmse (train, test): (0.915983, 0.948102)\n",
      "epoch = 47 accuracy (train, test): (6.1640, 5.9440), rmse (train, test): (0.915842, 0.948032)\n",
      "epoch = 48 accuracy (train, test): (6.1640, 5.9440), rmse (train, test): (0.915677, 0.947946)\n",
      "epoch = 49 accuracy (train, test): (6.1640, 5.9440), rmse (train, test): (0.915483, 0.947838)\n",
      "epoch = 50 accuracy (train, test): (6.1640, 5.9440), rmse (train, test): (0.915254, 0.947705)\n",
      "epoch = 51 accuracy (train, test): (6.1640, 5.9440), rmse (train, test): (0.914981, 0.947542)\n",
      "epoch = 52 accuracy (train, test): (6.1640, 5.9440), rmse (train, test): (0.914656, 0.947343)\n",
      "epoch = 53 accuracy (train, test): (6.1640, 5.9440), rmse (train, test): (0.914270, 0.947100)\n",
      "epoch = 54 accuracy (train, test): (6.1640, 5.9440), rmse (train, test): (0.913812, 0.946809)\n",
      "epoch = 55 accuracy (train, test): (6.1640, 5.9440), rmse (train, test): (0.913274, 0.946461)\n",
      "epoch = 56 accuracy (train, test): (6.1640, 5.9480), rmse (train, test): (0.912645, 0.946052)\n",
      "epoch = 57 accuracy (train, test): (6.1640, 5.9480), rmse (train, test): (0.911918, 0.945577)\n",
      "epoch = 58 accuracy (train, test): (6.1640, 5.9480), rmse (train, test): (0.911089, 0.945032)\n",
      "epoch = 59 accuracy (train, test): (6.1640, 5.9480), rmse (train, test): (0.910156, 0.944420)\n",
      "epoch = 60 accuracy (train, test): (6.1640, 5.9480), rmse (train, test): (0.909125, 0.943743)\n",
      "epoch = 61 accuracy (train, test): (6.1640, 5.9480), rmse (train, test): (0.908006, 0.943010)\n",
      "epoch = 62 accuracy (train, test): (6.1640, 5.9480), rmse (train, test): (0.906814, 0.942233)\n",
      "epoch = 63 accuracy (train, test): (6.1640, 5.9480), rmse (train, test): (0.905568, 0.941426)\n",
      "epoch = 64 accuracy (train, test): (6.1640, 5.9480), rmse (train, test): (0.904290, 0.940605)\n",
      "epoch = 65 accuracy (train, test): (6.1640, 5.9480), rmse (train, test): (0.903004, 0.939787)\n",
      "epoch = 66 accuracy (train, test): (6.1640, 5.9480), rmse (train, test): (0.901730, 0.938985)\n",
      "epoch = 67 accuracy (train, test): (6.1640, 5.9480), rmse (train, test): (0.900487, 0.938213)\n",
      "epoch = 68 accuracy (train, test): (6.1640, 5.9480), rmse (train, test): (0.899288, 0.937480)\n",
      "epoch = 69 accuracy (train, test): (6.1640, 5.9480), rmse (train, test): (0.898144, 0.936792)\n",
      "epoch = 70 accuracy (train, test): (6.1640, 5.9480), rmse (train, test): (0.897060, 0.936152)\n",
      "epoch = 71 accuracy (train, test): (6.1640, 5.9480), rmse (train, test): (0.896039, 0.935562)\n",
      "epoch = 72 accuracy (train, test): (6.1640, 5.9480), rmse (train, test): (0.895081, 0.935020)\n",
      "epoch = 73 accuracy (train, test): (6.1640, 5.9480), rmse (train, test): (0.894183, 0.934524)\n",
      "epoch = 74 accuracy (train, test): (6.1640, 5.9480), rmse (train, test): (0.893341, 0.934072)\n",
      "epoch = 75 accuracy (train, test): (6.1640, 5.9480), rmse (train, test): (0.892552, 0.933659)\n",
      "epoch = 76 accuracy (train, test): (6.1640, 5.9480), rmse (train, test): (0.891811, 0.933283)\n",
      "epoch = 77 accuracy (train, test): (6.1640, 5.9480), rmse (train, test): (0.891114, 0.932940)\n",
      "epoch = 78 accuracy (train, test): (6.1640, 5.9480), rmse (train, test): (0.890455, 0.932626)\n",
      "epoch = 79 accuracy (train, test): (6.1640, 5.9480), rmse (train, test): (0.889829, 0.932338)\n",
      "epoch = 80 accuracy (train, test): (6.1640, 5.9480), rmse (train, test): (0.889233, 0.932074)\n",
      "epoch = 81 accuracy (train, test): (6.1640, 5.9480), rmse (train, test): (0.888663, 0.931831)\n",
      "epoch = 82 accuracy (train, test): (6.1640, 5.9480), rmse (train, test): (0.888113, 0.931605)\n",
      "epoch = 83 accuracy (train, test): (6.1640, 5.9480), rmse (train, test): (0.887582, 0.931395)\n",
      "epoch = 84 accuracy (train, test): (6.1640, 5.9480), rmse (train, test): (0.887064, 0.931199)\n",
      "epoch = 85 accuracy (train, test): (6.1640, 5.9480), rmse (train, test): (0.886557, 0.931014)\n",
      "epoch = 86 accuracy (train, test): (6.1640, 5.9480), rmse (train, test): (0.886058, 0.930839)\n",
      "epoch = 87 accuracy (train, test): (6.1640, 5.9480), rmse (train, test): (0.885563, 0.930672)\n",
      "epoch = 88 accuracy (train, test): (6.1640, 5.9480), rmse (train, test): (0.885070, 0.930512)\n",
      "epoch = 89 accuracy (train, test): (6.1640, 5.9480), rmse (train, test): (0.884575, 0.930358)\n",
      "epoch = 90 accuracy (train, test): (6.1640, 5.9480), rmse (train, test): (0.884076, 0.930208)\n",
      "epoch = 91 accuracy (train, test): (6.1640, 5.9480), rmse (train, test): (0.883571, 0.930060)\n",
      "epoch = 92 accuracy (train, test): (6.1640, 5.9480), rmse (train, test): (0.883057, 0.929915)\n",
      "epoch = 93 accuracy (train, test): (6.1640, 5.9480), rmse (train, test): (0.882531, 0.929771)\n",
      "epoch = 94 accuracy (train, test): (6.1640, 5.9480), rmse (train, test): (0.881991, 0.929626)\n",
      "epoch = 95 accuracy (train, test): (6.1640, 5.9480), rmse (train, test): (0.881435, 0.929482)\n",
      "epoch = 96 accuracy (train, test): (6.1640, 5.9480), rmse (train, test): (0.880862, 0.929335)\n",
      "epoch = 97 accuracy (train, test): (6.1640, 5.9480), rmse (train, test): (0.880270, 0.929187)\n",
      "epoch = 98 accuracy (train, test): (6.1640, 5.9480), rmse (train, test): (0.879657, 0.929036)\n",
      "epoch = 99 accuracy (train, test): (6.1640, 5.9480), rmse (train, test): (0.879021, 0.928883)\n",
      "epoch = 100 accuracy (train, test): (6.1640, 5.9480), rmse (train, test): (0.878363, 0.928726)\n",
      "epoch = 101 accuracy (train, test): (6.1640, 5.9480), rmse (train, test): (0.877680, 0.928567)\n",
      "epoch = 102 accuracy (train, test): (6.1640, 5.9480), rmse (train, test): (0.876973, 0.928403)\n",
      "epoch = 103 accuracy (train, test): (6.1640, 5.9480), rmse (train, test): (0.876242, 0.928237)\n",
      "epoch = 104 accuracy (train, test): (6.1640, 5.9480), rmse (train, test): (0.875487, 0.928067)\n",
      "epoch = 105 accuracy (train, test): (6.1640, 5.9480), rmse (train, test): (0.874708, 0.927895)\n",
      "epoch = 106 accuracy (train, test): (6.1640, 5.9480), rmse (train, test): (0.873905, 0.927719)\n",
      "epoch = 107 accuracy (train, test): (6.1640, 5.9480), rmse (train, test): (0.873080, 0.927542)\n",
      "epoch = 108 accuracy (train, test): (6.1640, 5.9480), rmse (train, test): (0.872235, 0.927362)\n",
      "epoch = 109 accuracy (train, test): (6.1640, 5.9480), rmse (train, test): (0.871370, 0.927181)\n",
      "epoch = 110 accuracy (train, test): (6.1640, 5.9480), rmse (train, test): (0.870486, 0.926999)\n",
      "epoch = 111 accuracy (train, test): (6.1640, 5.9480), rmse (train, test): (0.869587, 0.926817)\n",
      "epoch = 112 accuracy (train, test): (6.1640, 5.9480), rmse (train, test): (0.868672, 0.926635)\n",
      "epoch = 113 accuracy (train, test): (6.1640, 5.9480), rmse (train, test): (0.867745, 0.926453)\n",
      "epoch = 114 accuracy (train, test): (6.1640, 5.9480), rmse (train, test): (0.866808, 0.926272)\n",
      "epoch = 115 accuracy (train, test): (6.1640, 5.9480), rmse (train, test): (0.865861, 0.926093)\n",
      "epoch = 116 accuracy (train, test): (6.1640, 5.9480), rmse (train, test): (0.864906, 0.925916)\n",
      "epoch = 117 accuracy (train, test): (6.1640, 5.9480), rmse (train, test): (0.863947, 0.925741)\n",
      "epoch = 118 accuracy (train, test): (6.1640, 5.9480), rmse (train, test): (0.862983, 0.925569)\n",
      "epoch = 119 accuracy (train, test): (6.1640, 5.9480), rmse (train, test): (0.862017, 0.925399)\n",
      "epoch = 120 accuracy (train, test): (6.1640, 5.9480), rmse (train, test): (0.861050, 0.925233)\n",
      "epoch = 121 accuracy (train, test): (6.1640, 5.9480), rmse (train, test): (0.860084, 0.925070)\n",
      "epoch = 122 accuracy (train, test): (6.1640, 5.9480), rmse (train, test): (0.859119, 0.924911)\n",
      "epoch = 123 accuracy (train, test): (6.1640, 5.9480), rmse (train, test): (0.858157, 0.924755)\n",
      "epoch = 124 accuracy (train, test): (6.1640, 5.9480), rmse (train, test): (0.857199, 0.924604)\n",
      "epoch = 125 accuracy (train, test): (6.1640, 5.9480), rmse (train, test): (0.856245, 0.924456)\n",
      "epoch = 126 accuracy (train, test): (6.1640, 5.9480), rmse (train, test): (0.855297, 0.924312)\n",
      "epoch = 127 accuracy (train, test): (6.1640, 5.9480), rmse (train, test): (0.854354, 0.924171)\n",
      "epoch = 128 accuracy (train, test): (6.1640, 5.9480), rmse (train, test): (0.853418, 0.924035)\n",
      "epoch = 129 accuracy (train, test): (6.1640, 5.9480), rmse (train, test): (0.852489, 0.923902)\n",
      "epoch = 130 accuracy (train, test): (6.1640, 5.9480), rmse (train, test): (0.851568, 0.923774)\n",
      "epoch = 131 accuracy (train, test): (6.1640, 5.9480), rmse (train, test): (0.850654, 0.923649)\n",
      "epoch = 132 accuracy (train, test): (6.1640, 5.9480), rmse (train, test): (0.849749, 0.923527)\n",
      "epoch = 133 accuracy (train, test): (6.1640, 5.9480), rmse (train, test): (0.848852, 0.923410)\n",
      "epoch = 134 accuracy (train, test): (6.1640, 5.9480), rmse (train, test): (0.847963, 0.923296)\n",
      "epoch = 135 accuracy (train, test): (6.1640, 5.9480), rmse (train, test): (0.847084, 0.923186)\n",
      "epoch = 136 accuracy (train, test): (6.1640, 5.9480), rmse (train, test): (0.846213, 0.923079)\n",
      "epoch = 137 accuracy (train, test): (6.1640, 5.9480), rmse (train, test): (0.845351, 0.922975)\n",
      "epoch = 138 accuracy (train, test): (6.1640, 5.9480), rmse (train, test): (0.844498, 0.922875)\n",
      "epoch = 139 accuracy (train, test): (6.1640, 5.9480), rmse (train, test): (0.843655, 0.922779)\n",
      "epoch = 140 accuracy (train, test): (6.1640, 5.9480), rmse (train, test): (0.842820, 0.922686)\n",
      "epoch = 141 accuracy (train, test): (6.1640, 5.9480), rmse (train, test): (0.841995, 0.922595)\n",
      "epoch = 142 accuracy (train, test): (6.1640, 5.9480), rmse (train, test): (0.841179, 0.922509)\n",
      "epoch = 143 accuracy (train, test): (6.1640, 5.9480), rmse (train, test): (0.840371, 0.922425)\n",
      "epoch = 144 accuracy (train, test): (6.1640, 5.9480), rmse (train, test): (0.839573, 0.922344)\n",
      "epoch = 145 accuracy (train, test): (6.1640, 5.9480), rmse (train, test): (0.838784, 0.922266)\n",
      "epoch = 146 accuracy (train, test): (6.1640, 5.9480), rmse (train, test): (0.838004, 0.922192)\n",
      "epoch = 147 accuracy (train, test): (6.1640, 5.9480), rmse (train, test): (0.837233, 0.922120)\n",
      "epoch = 148 accuracy (train, test): (6.1640, 5.9480), rmse (train, test): (0.836471, 0.922051)\n",
      "epoch = 149 accuracy (train, test): (6.1640, 5.9480), rmse (train, test): (0.835718, 0.921985)\n",
      "epoch = 150 accuracy (train, test): (6.1640, 5.9480), rmse (train, test): (0.834973, 0.921921)\n",
      "epoch = 151 accuracy (train, test): (6.1640, 5.9480), rmse (train, test): (0.834237, 0.921860)\n",
      "epoch = 152 accuracy (train, test): (6.1640, 5.9480), rmse (train, test): (0.833510, 0.921802)\n",
      "epoch = 153 accuracy (train, test): (6.1640, 5.9480), rmse (train, test): (0.832791, 0.921746)\n",
      "epoch = 154 accuracy (train, test): (6.1640, 5.9480), rmse (train, test): (0.832081, 0.921693)\n",
      "epoch = 155 accuracy (train, test): (6.1640, 5.9480), rmse (train, test): (0.831379, 0.921643)\n",
      "epoch = 156 accuracy (train, test): (6.1640, 5.9480), rmse (train, test): (0.830686, 0.921594)\n",
      "epoch = 157 accuracy (train, test): (6.1640, 5.9480), rmse (train, test): (0.830001, 0.921548)\n",
      "epoch = 158 accuracy (train, test): (6.1640, 5.9480), rmse (train, test): (0.829324, 0.921504)\n",
      "epoch = 159 accuracy (train, test): (6.1640, 5.9480), rmse (train, test): (0.828656, 0.921463)\n",
      "epoch = 160 accuracy (train, test): (6.1640, 5.9480), rmse (train, test): (0.827996, 0.921423)\n",
      "epoch = 161 accuracy (train, test): (6.1640, 5.9480), rmse (train, test): (0.827343, 0.921385)\n",
      "epoch = 162 accuracy (train, test): (6.1640, 5.9480), rmse (train, test): (0.826699, 0.921350)\n",
      "epoch = 163 accuracy (train, test): (6.1640, 5.9480), rmse (train, test): (0.826063, 0.921316)\n",
      "epoch = 164 accuracy (train, test): (6.1640, 5.9480), rmse (train, test): (0.825435, 0.921285)\n",
      "epoch = 165 accuracy (train, test): (6.1640, 5.9480), rmse (train, test): (0.824815, 0.921255)\n",
      "epoch = 166 accuracy (train, test): (6.1640, 5.9480), rmse (train, test): (0.824202, 0.921226)\n",
      "epoch = 167 accuracy (train, test): (6.1640, 5.9480), rmse (train, test): (0.823598, 0.921200)\n",
      "epoch = 168 accuracy (train, test): (6.1640, 5.9480), rmse (train, test): (0.823001, 0.921175)\n",
      "epoch = 169 accuracy (train, test): (6.1640, 5.9480), rmse (train, test): (0.822412, 0.921151)\n",
      "epoch = 170 accuracy (train, test): (6.1640, 5.9480), rmse (train, test): (0.821831, 0.921130)\n",
      "epoch = 171 accuracy (train, test): (6.1640, 5.9480), rmse (train, test): (0.821258, 0.921109)\n",
      "epoch = 172 accuracy (train, test): (6.1640, 5.9480), rmse (train, test): (0.820692, 0.921090)\n",
      "epoch = 173 accuracy (train, test): (6.1640, 5.9480), rmse (train, test): (0.820134, 0.921072)\n",
      "epoch = 174 accuracy (train, test): (6.1640, 5.9480), rmse (train, test): (0.819583, 0.921056)\n",
      "epoch = 175 accuracy (train, test): (6.1640, 5.9480), rmse (train, test): (0.819040, 0.921041)\n",
      "epoch = 176 accuracy (train, test): (6.1640, 5.9480), rmse (train, test): (0.818504, 0.921026)\n",
      "epoch = 177 accuracy (train, test): (6.1640, 5.9480), rmse (train, test): (0.817975, 0.921013)\n",
      "epoch = 178 accuracy (train, test): (6.1640, 5.9480), rmse (train, test): (0.817454, 0.921001)\n",
      "epoch = 179 accuracy (train, test): (6.1640, 5.9480), rmse (train, test): (0.816940, 0.920991)\n",
      "epoch = 180 accuracy (train, test): (6.1640, 5.9480), rmse (train, test): (0.816433, 0.920981)\n",
      "epoch = 181 accuracy (train, test): (6.1640, 5.9480), rmse (train, test): (0.815933, 0.920971)\n",
      "epoch = 182 accuracy (train, test): (6.1640, 5.9480), rmse (train, test): (0.815440, 0.920963)\n",
      "epoch = 183 accuracy (train, test): (6.1640, 5.9480), rmse (train, test): (0.814954, 0.920956)\n",
      "epoch = 184 accuracy (train, test): (6.1640, 5.9480), rmse (train, test): (0.814475, 0.920949)\n",
      "epoch = 185 accuracy (train, test): (6.1640, 5.9480), rmse (train, test): (0.814003, 0.920943)\n",
      "epoch = 186 accuracy (train, test): (6.1640, 5.9480), rmse (train, test): (0.813538, 0.920938)\n",
      "epoch = 187 accuracy (train, test): (6.1640, 5.9480), rmse (train, test): (0.813079, 0.920933)\n",
      "epoch = 188 accuracy (train, test): (6.1640, 5.9480), rmse (train, test): (0.812626, 0.920930)\n",
      "epoch = 189 accuracy (train, test): (6.1640, 5.9480), rmse (train, test): (0.812180, 0.920926)\n",
      "epoch = 190 accuracy (train, test): (6.1640, 5.9480), rmse (train, test): (0.811740, 0.920923)\n",
      "epoch = 191 accuracy (train, test): (6.1640, 5.9480), rmse (train, test): (0.811306, 0.920921)\n",
      "epoch = 192 accuracy (train, test): (6.1640, 5.9480), rmse (train, test): (0.810879, 0.920919)\n",
      "epoch = 193 accuracy (train, test): (6.1640, 5.9480), rmse (train, test): (0.810457, 0.920917)\n",
      "epoch = 194 accuracy (train, test): (6.1640, 5.9480), rmse (train, test): (0.810042, 0.920916)\n",
      "epoch = 195 accuracy (train, test): (6.1640, 5.9480), rmse (train, test): (0.809632, 0.920916)\n",
      "epoch = 196 accuracy (train, test): (6.1640, 5.9480), rmse (train, test): (0.809228, 0.920915)\n",
      "epoch = 197 accuracy (train, test): (6.1640, 5.9480), rmse (train, test): (0.808829, 0.920915)\n",
      "epoch = 198 accuracy (train, test): (6.1640, 5.9480), rmse (train, test): (0.808436, 0.920916)\n",
      "epoch = 199 accuracy (train, test): (6.1640, 5.9480), rmse (train, test): (0.808048, 0.920916)\n",
      "epoch = 200 accuracy (train, test): (6.1640, 5.9480), rmse (train, test): (0.807666, 0.920917)\n",
      "epoch = 201 accuracy (train, test): (6.1640, 5.9480), rmse (train, test): (0.807289, 0.920918)\n",
      "epoch = 202 accuracy (train, test): (6.1640, 5.9480), rmse (train, test): (0.806917, 0.920919)\n",
      "epoch = 203 accuracy (train, test): (6.1640, 5.9480), rmse (train, test): (0.806550, 0.920920)\n",
      "epoch = 204 accuracy (train, test): (6.1640, 5.9480), rmse (train, test): (0.806188, 0.920922)\n",
      "epoch = 205 accuracy (train, test): (6.1640, 5.9480), rmse (train, test): (0.805831, 0.920924)\n",
      "epoch = 206 accuracy (train, test): (6.1640, 5.9480), rmse (train, test): (0.805478, 0.920926)\n",
      "epoch = 207 accuracy (train, test): (6.1640, 5.9480), rmse (train, test): (0.805130, 0.920928)\n",
      "epoch = 208 accuracy (train, test): (6.1640, 5.9480), rmse (train, test): (0.804787, 0.920930)\n",
      "epoch = 209 accuracy (train, test): (6.1640, 5.9480), rmse (train, test): (0.804448, 0.920932)\n",
      "epoch = 210 accuracy (train, test): (6.1640, 5.9480), rmse (train, test): (0.804114, 0.920934)\n",
      "epoch = 211 accuracy (train, test): (6.1640, 5.9480), rmse (train, test): (0.803784, 0.920937)\n",
      "epoch = 212 accuracy (train, test): (6.1640, 5.9480), rmse (train, test): (0.803458, 0.920939)\n",
      "epoch = 213 accuracy (train, test): (6.1640, 5.9480), rmse (train, test): (0.803136, 0.920942)\n",
      "epoch = 214 accuracy (train, test): (6.1640, 5.9480), rmse (train, test): (0.802818, 0.920944)\n",
      "epoch = 215 accuracy (train, test): (6.1640, 5.9480), rmse (train, test): (0.802505, 0.920947)\n",
      "epoch = 216 accuracy (train, test): (6.1640, 5.9480), rmse (train, test): (0.802195, 0.920949)\n",
      "epoch = 217 accuracy (train, test): (6.1640, 5.9480), rmse (train, test): (0.801889, 0.920952)\n",
      "epoch = 218 accuracy (train, test): (6.1640, 5.9480), rmse (train, test): (0.801587, 0.920955)\n",
      "epoch = 219 accuracy (train, test): (6.1640, 5.9480), rmse (train, test): (0.801289, 0.920957)\n",
      "epoch = 220 accuracy (train, test): (6.1640, 5.9480), rmse (train, test): (0.800994, 0.920960)\n",
      "epoch = 221 accuracy (train, test): (6.1640, 5.9480), rmse (train, test): (0.800703, 0.920963)\n",
      "epoch = 222 accuracy (train, test): (6.1640, 5.9480), rmse (train, test): (0.800416, 0.920966)\n",
      "epoch = 223 accuracy (train, test): (6.1640, 5.9480), rmse (train, test): (0.800132, 0.920969)\n",
      "epoch = 224 accuracy (train, test): (6.1640, 5.9480), rmse (train, test): (0.799851, 0.920971)\n",
      "epoch = 225 accuracy (train, test): (6.1640, 5.9480), rmse (train, test): (0.799574, 0.920974)\n",
      "epoch = 226 accuracy (train, test): (6.1640, 5.9480), rmse (train, test): (0.799301, 0.920977)\n",
      "epoch = 227 accuracy (train, test): (6.1640, 5.9480), rmse (train, test): (0.799030, 0.920980)\n",
      "epoch = 228 accuracy (train, test): (6.1640, 5.9480), rmse (train, test): (0.798763, 0.920983)\n",
      "epoch = 229 accuracy (train, test): (6.1640, 5.9480), rmse (train, test): (0.798499, 0.920985)\n",
      "epoch = 230 accuracy (train, test): (6.1640, 5.9480), rmse (train, test): (0.798238, 0.920988)\n",
      "epoch = 231 accuracy (train, test): (6.1640, 5.9480), rmse (train, test): (0.797980, 0.920991)\n",
      "epoch = 232 accuracy (train, test): (6.1640, 5.9480), rmse (train, test): (0.797725, 0.920994)\n",
      "epoch = 233 accuracy (train, test): (6.1640, 5.9480), rmse (train, test): (0.797474, 0.920996)\n",
      "epoch = 234 accuracy (train, test): (6.1640, 5.9480), rmse (train, test): (0.797225, 0.920999)\n",
      "epoch = 235 accuracy (train, test): (6.1640, 5.9480), rmse (train, test): (0.796979, 0.921002)\n",
      "epoch = 236 accuracy (train, test): (6.1640, 5.9480), rmse (train, test): (0.796736, 0.921005)\n",
      "epoch = 237 accuracy (train, test): (6.1640, 5.9480), rmse (train, test): (0.796496, 0.921007)\n",
      "epoch = 238 accuracy (train, test): (6.1640, 5.9480), rmse (train, test): (0.796259, 0.921010)\n",
      "epoch = 239 accuracy (train, test): (6.1640, 5.9480), rmse (train, test): (0.796025, 0.921013)\n",
      "epoch = 240 accuracy (train, test): (6.1640, 5.9480), rmse (train, test): (0.795793, 0.921015)\n",
      "epoch = 241 accuracy (train, test): (6.1640, 5.9480), rmse (train, test): (0.795564, 0.921018)\n",
      "epoch = 242 accuracy (train, test): (6.1640, 5.9480), rmse (train, test): (0.795338, 0.921021)\n",
      "epoch = 243 accuracy (train, test): (6.1640, 5.9480), rmse (train, test): (0.795115, 0.921024)\n",
      "epoch = 244 accuracy (train, test): (6.1640, 5.9480), rmse (train, test): (0.794894, 0.921026)\n",
      "epoch = 245 accuracy (train, test): (6.1640, 5.9480), rmse (train, test): (0.794676, 0.921029)\n",
      "epoch = 246 accuracy (train, test): (6.1640, 5.9480), rmse (train, test): (0.794460, 0.921031)\n",
      "epoch = 247 accuracy (train, test): (6.1640, 5.9480), rmse (train, test): (0.794247, 0.921034)\n",
      "epoch = 248 accuracy (train, test): (6.1640, 5.9480), rmse (train, test): (0.794037, 0.921037)\n",
      "epoch = 249 accuracy (train, test): (6.1640, 5.9480), rmse (train, test): (0.793829, 0.921039)\n",
      "epoch = 250 accuracy (train, test): (6.1640, 5.9480), rmse (train, test): (0.793623, 0.921042)\n",
      "epoch = 251 accuracy (train, test): (6.1640, 5.9480), rmse (train, test): (0.793420, 0.921044)\n",
      "epoch = 252 accuracy (train, test): (6.1640, 5.9480), rmse (train, test): (0.793220, 0.921047)\n",
      "epoch = 253 accuracy (train, test): (6.1640, 5.9480), rmse (train, test): (0.793021, 0.921050)\n",
      "epoch = 254 accuracy (train, test): (6.1640, 5.9480), rmse (train, test): (0.792825, 0.921052)\n",
      "epoch = 255 accuracy (train, test): (6.1640, 5.9480), rmse (train, test): (0.792632, 0.921055)\n",
      "epoch = 256 accuracy (train, test): (6.1640, 5.9480), rmse (train, test): (0.792441, 0.921057)\n",
      "epoch = 257 accuracy (train, test): (6.1640, 5.9480), rmse (train, test): (0.792252, 0.921060)\n",
      "epoch = 258 accuracy (train, test): (6.1640, 5.9480), rmse (train, test): (0.792065, 0.921062)\n",
      "epoch = 259 accuracy (train, test): (6.1640, 5.9480), rmse (train, test): (0.791881, 0.921065)\n",
      "epoch = 260 accuracy (train, test): (6.1640, 5.9480), rmse (train, test): (0.791699, 0.921067)\n",
      "epoch = 261 accuracy (train, test): (6.1640, 5.9480), rmse (train, test): (0.791519, 0.921070)\n",
      "epoch = 262 accuracy (train, test): (6.1640, 5.9480), rmse (train, test): (0.791341, 0.921072)\n",
      "epoch = 263 accuracy (train, test): (6.1640, 5.9480), rmse (train, test): (0.791166, 0.921074)\n",
      "epoch = 264 accuracy (train, test): (6.1640, 5.9480), rmse (train, test): (0.790992, 0.921077)\n",
      "epoch = 265 accuracy (train, test): (6.1640, 5.9480), rmse (train, test): (0.790821, 0.921079)\n",
      "epoch = 266 accuracy (train, test): (6.1640, 5.9480), rmse (train, test): (0.790651, 0.921081)\n",
      "epoch = 267 accuracy (train, test): (6.1640, 5.9480), rmse (train, test): (0.790484, 0.921084)\n",
      "epoch = 268 accuracy (train, test): (6.1640, 5.9480), rmse (train, test): (0.790319, 0.921086)\n",
      "epoch = 269 accuracy (train, test): (6.1640, 5.9480), rmse (train, test): (0.790156, 0.921088)\n",
      "epoch = 270 accuracy (train, test): (6.1640, 5.9480), rmse (train, test): (0.789995, 0.921091)\n",
      "epoch = 271 accuracy (train, test): (6.1640, 5.9480), rmse (train, test): (0.789835, 0.921093)\n",
      "epoch = 272 accuracy (train, test): (6.1640, 5.9480), rmse (train, test): (0.789678, 0.921095)\n",
      "epoch = 273 accuracy (train, test): (6.1640, 5.9480), rmse (train, test): (0.789523, 0.921097)\n",
      "epoch = 274 accuracy (train, test): (6.1640, 5.9480), rmse (train, test): (0.789369, 0.921100)\n",
      "epoch = 275 accuracy (train, test): (6.1640, 5.9480), rmse (train, test): (0.789218, 0.921102)\n",
      "epoch = 276 accuracy (train, test): (6.1640, 5.9480), rmse (train, test): (0.789068, 0.921104)\n",
      "epoch = 277 accuracy (train, test): (6.1640, 5.9480), rmse (train, test): (0.788920, 0.921106)\n",
      "epoch = 278 accuracy (train, test): (6.1640, 5.9480), rmse (train, test): (0.788774, 0.921108)\n",
      "epoch = 279 accuracy (train, test): (6.1640, 5.9480), rmse (train, test): (0.788629, 0.921110)\n",
      "epoch = 280 accuracy (train, test): (6.1640, 5.9480), rmse (train, test): (0.788487, 0.921112)\n",
      "epoch = 281 accuracy (train, test): (6.1640, 5.9480), rmse (train, test): (0.788346, 0.921114)\n",
      "epoch = 282 accuracy (train, test): (6.1640, 5.9480), rmse (train, test): (0.788207, 0.921116)\n",
      "epoch = 283 accuracy (train, test): (6.1640, 5.9480), rmse (train, test): (0.788069, 0.921118)\n",
      "epoch = 284 accuracy (train, test): (6.1640, 5.9480), rmse (train, test): (0.787934, 0.921120)\n",
      "epoch = 285 accuracy (train, test): (6.1640, 5.9480), rmse (train, test): (0.787799, 0.921122)\n",
      "epoch = 286 accuracy (train, test): (6.1640, 5.9480), rmse (train, test): (0.787667, 0.921124)\n",
      "epoch = 287 accuracy (train, test): (6.1640, 5.9480), rmse (train, test): (0.787536, 0.921125)\n",
      "epoch = 288 accuracy (train, test): (6.1640, 5.9480), rmse (train, test): (0.787407, 0.921127)\n",
      "epoch = 289 accuracy (train, test): (6.1640, 5.9480), rmse (train, test): (0.787279, 0.921129)\n",
      "epoch = 290 accuracy (train, test): (6.1640, 5.9480), rmse (train, test): (0.787153, 0.921131)\n",
      "epoch = 291 accuracy (train, test): (6.1640, 5.9480), rmse (train, test): (0.787028, 0.921132)\n",
      "epoch = 292 accuracy (train, test): (6.1640, 5.9480), rmse (train, test): (0.786905, 0.921134)\n",
      "epoch = 293 accuracy (train, test): (6.1640, 5.9480), rmse (train, test): (0.786783, 0.921136)\n",
      "epoch = 294 accuracy (train, test): (6.1640, 5.9480), rmse (train, test): (0.786663, 0.921137)\n",
      "epoch = 295 accuracy (train, test): (6.1640, 5.9480), rmse (train, test): (0.786545, 0.921139)\n",
      "epoch = 296 accuracy (train, test): (6.1640, 5.9480), rmse (train, test): (0.786427, 0.921141)\n",
      "epoch = 297 accuracy (train, test): (6.1640, 5.9480), rmse (train, test): (0.786311, 0.921142)\n",
      "epoch = 298 accuracy (train, test): (6.1640, 5.9480), rmse (train, test): (0.786197, 0.921144)\n",
      "epoch = 299 accuracy (train, test): (6.1640, 5.9480), rmse (train, test): (0.786084, 0.921145)\n",
      "epoch = 300 accuracy (train, test): (6.1640, 5.9480), rmse (train, test): (0.785972, 0.921146)\n",
      "epoch = 301 accuracy (train, test): (6.1640, 5.9480), rmse (train, test): (0.785861, 0.921148)\n",
      "epoch = 302 accuracy (train, test): (6.1640, 5.9480), rmse (train, test): (0.785752, 0.921149)\n",
      "epoch = 303 accuracy (train, test): (6.1640, 5.9480), rmse (train, test): (0.785644, 0.921151)\n",
      "epoch = 304 accuracy (train, test): (6.1640, 5.9480), rmse (train, test): (0.785538, 0.921152)\n",
      "epoch = 305 accuracy (train, test): (6.1640, 5.9480), rmse (train, test): (0.785433, 0.921153)\n",
      "epoch = 306 accuracy (train, test): (6.1640, 5.9480), rmse (train, test): (0.785328, 0.921154)\n",
      "epoch = 307 accuracy (train, test): (6.1640, 5.9480), rmse (train, test): (0.785226, 0.921156)\n",
      "epoch = 308 accuracy (train, test): (6.1640, 5.9480), rmse (train, test): (0.785124, 0.921157)\n",
      "epoch = 309 accuracy (train, test): (6.1640, 5.9480), rmse (train, test): (0.785024, 0.921158)\n",
      "epoch = 310 accuracy (train, test): (6.1640, 5.9480), rmse (train, test): (0.784924, 0.921159)\n",
      "epoch = 311 accuracy (train, test): (6.1640, 5.9480), rmse (train, test): (0.784826, 0.921160)\n",
      "epoch = 312 accuracy (train, test): (6.1640, 5.9480), rmse (train, test): (0.784729, 0.921161)\n",
      "epoch = 313 accuracy (train, test): (6.1640, 5.9480), rmse (train, test): (0.784634, 0.921162)\n",
      "epoch = 314 accuracy (train, test): (6.1640, 5.9480), rmse (train, test): (0.784539, 0.921163)\n",
      "epoch = 315 accuracy (train, test): (6.1640, 5.9480), rmse (train, test): (0.784445, 0.921164)\n",
      "epoch = 316 accuracy (train, test): (6.1640, 5.9480), rmse (train, test): (0.784353, 0.921165)\n",
      "epoch = 317 accuracy (train, test): (6.1640, 5.9480), rmse (train, test): (0.784261, 0.921166)\n",
      "epoch = 318 accuracy (train, test): (6.1640, 5.9480), rmse (train, test): (0.784171, 0.921167)\n",
      "epoch = 319 accuracy (train, test): (6.1640, 5.9480), rmse (train, test): (0.784082, 0.921168)\n",
      "epoch = 320 accuracy (train, test): (6.1640, 5.9480), rmse (train, test): (0.783993, 0.921169)\n",
      "epoch = 321 accuracy (train, test): (6.1640, 5.9480), rmse (train, test): (0.783906, 0.921170)\n",
      "epoch = 322 accuracy (train, test): (6.1640, 5.9480), rmse (train, test): (0.783820, 0.921170)\n",
      "epoch = 323 accuracy (train, test): (6.1640, 5.9480), rmse (train, test): (0.783735, 0.921171)\n",
      "epoch = 324 accuracy (train, test): (6.1640, 5.9480), rmse (train, test): (0.783650, 0.921172)\n",
      "epoch = 325 accuracy (train, test): (6.1640, 5.9480), rmse (train, test): (0.783567, 0.921173)\n",
      "epoch = 326 accuracy (train, test): (6.1640, 5.9480), rmse (train, test): (0.783485, 0.921173)\n",
      "epoch = 327 accuracy (train, test): (6.1640, 5.9480), rmse (train, test): (0.783403, 0.921174)\n",
      "epoch = 328 accuracy (train, test): (6.1640, 5.9480), rmse (train, test): (0.783323, 0.921175)\n",
      "epoch = 329 accuracy (train, test): (6.1640, 5.9480), rmse (train, test): (0.783243, 0.921175)\n",
      "epoch = 330 accuracy (train, test): (6.1640, 5.9480), rmse (train, test): (0.783164, 0.921176)\n",
      "epoch = 331 accuracy (train, test): (6.1640, 5.9480), rmse (train, test): (0.783086, 0.921176)\n",
      "epoch = 332 accuracy (train, test): (6.1640, 5.9480), rmse (train, test): (0.783009, 0.921177)\n",
      "epoch = 333 accuracy (train, test): (6.1640, 5.9480), rmse (train, test): (0.782933, 0.921177)\n",
      "epoch = 334 accuracy (train, test): (6.1640, 5.9480), rmse (train, test): (0.782858, 0.921178)\n",
      "epoch = 335 accuracy (train, test): (6.1640, 5.9480), rmse (train, test): (0.782784, 0.921178)\n",
      "epoch = 336 accuracy (train, test): (6.1640, 5.9480), rmse (train, test): (0.782710, 0.921179)\n",
      "epoch = 337 accuracy (train, test): (6.1640, 5.9480), rmse (train, test): (0.782637, 0.921179)\n",
      "epoch = 338 accuracy (train, test): (6.1640, 5.9480), rmse (train, test): (0.782565, 0.921180)\n",
      "epoch = 339 accuracy (train, test): (6.1640, 5.9480), rmse (train, test): (0.782494, 0.921180)\n",
      "epoch = 340 accuracy (train, test): (6.1640, 5.9480), rmse (train, test): (0.782424, 0.921180)\n",
      "epoch = 341 accuracy (train, test): (6.1640, 5.9480), rmse (train, test): (0.782354, 0.921181)\n",
      "epoch = 342 accuracy (train, test): (6.1640, 5.9480), rmse (train, test): (0.782285, 0.921181)\n",
      "epoch = 343 accuracy (train, test): (6.1640, 5.9480), rmse (train, test): (0.782217, 0.921181)\n",
      "epoch = 344 accuracy (train, test): (6.1640, 5.9480), rmse (train, test): (0.782150, 0.921182)\n",
      "epoch = 345 accuracy (train, test): (6.1640, 5.9480), rmse (train, test): (0.782083, 0.921182)\n",
      "epoch = 346 accuracy (train, test): (6.1640, 5.9480), rmse (train, test): (0.782017, 0.921182)\n",
      "epoch = 347 accuracy (train, test): (6.1640, 5.9480), rmse (train, test): (0.781952, 0.921183)\n",
      "epoch = 348 accuracy (train, test): (6.1640, 5.9480), rmse (train, test): (0.781888, 0.921183)\n",
      "epoch = 349 accuracy (train, test): (6.1640, 5.9480), rmse (train, test): (0.781824, 0.921183)\n",
      "epoch = 350 accuracy (train, test): (6.1640, 5.9480), rmse (train, test): (0.781761, 0.921183)\n",
      "epoch = 351 accuracy (train, test): (6.1640, 5.9480), rmse (train, test): (0.781699, 0.921183)\n",
      "epoch = 352 accuracy (train, test): (6.1640, 5.9480), rmse (train, test): (0.781637, 0.921184)\n",
      "epoch = 353 accuracy (train, test): (6.1640, 5.9480), rmse (train, test): (0.781576, 0.921184)\n",
      "epoch = 354 accuracy (train, test): (6.1640, 5.9480), rmse (train, test): (0.781516, 0.921184)\n",
      "epoch = 355 accuracy (train, test): (6.1640, 5.9480), rmse (train, test): (0.781456, 0.921184)\n",
      "epoch = 356 accuracy (train, test): (6.1640, 5.9480), rmse (train, test): (0.781397, 0.921184)\n",
      "epoch = 357 accuracy (train, test): (6.1640, 5.9480), rmse (train, test): (0.781338, 0.921184)\n",
      "epoch = 358 accuracy (train, test): (6.1640, 5.9480), rmse (train, test): (0.781281, 0.921184)\n",
      "epoch = 359 accuracy (train, test): (6.1640, 5.9480), rmse (train, test): (0.781223, 0.921184)\n",
      "epoch = 360 accuracy (train, test): (6.1640, 5.9480), rmse (train, test): (0.781167, 0.921184)\n",
      "epoch = 361 accuracy (train, test): (6.1640, 5.9480), rmse (train, test): (0.781111, 0.921184)\n",
      "epoch = 362 accuracy (train, test): (6.1640, 5.9480), rmse (train, test): (0.781055, 0.921185)\n",
      "epoch = 363 accuracy (train, test): (6.1640, 5.9480), rmse (train, test): (0.781001, 0.921185)\n",
      "epoch = 364 accuracy (train, test): (6.1640, 5.9480), rmse (train, test): (0.780946, 0.921185)\n",
      "epoch = 365 accuracy (train, test): (6.1640, 5.9480), rmse (train, test): (0.780893, 0.921185)\n",
      "epoch = 366 accuracy (train, test): (6.1640, 5.9480), rmse (train, test): (0.780840, 0.921185)\n",
      "epoch = 367 accuracy (train, test): (6.1640, 5.9480), rmse (train, test): (0.780787, 0.921185)\n",
      "epoch = 368 accuracy (train, test): (6.1640, 5.9480), rmse (train, test): (0.780735, 0.921185)\n",
      "epoch = 369 accuracy (train, test): (6.1640, 5.9480), rmse (train, test): (0.780684, 0.921184)\n",
      "epoch = 370 accuracy (train, test): (6.1640, 5.9480), rmse (train, test): (0.780633, 0.921184)\n",
      "epoch = 371 accuracy (train, test): (6.1640, 5.9480), rmse (train, test): (0.780582, 0.921184)\n",
      "epoch = 372 accuracy (train, test): (6.1640, 5.9480), rmse (train, test): (0.780532, 0.921184)\n",
      "epoch = 373 accuracy (train, test): (6.1640, 5.9480), rmse (train, test): (0.780483, 0.921184)\n",
      "epoch = 374 accuracy (train, test): (6.1640, 5.9480), rmse (train, test): (0.780434, 0.921184)\n",
      "epoch = 375 accuracy (train, test): (6.1640, 5.9480), rmse (train, test): (0.780386, 0.921184)\n",
      "epoch = 376 accuracy (train, test): (6.1640, 5.9480), rmse (train, test): (0.780338, 0.921184)\n",
      "epoch = 377 accuracy (train, test): (6.1640, 5.9480), rmse (train, test): (0.780291, 0.921184)\n",
      "epoch = 378 accuracy (train, test): (6.1640, 5.9480), rmse (train, test): (0.780244, 0.921184)\n",
      "epoch = 379 accuracy (train, test): (6.1640, 5.9480), rmse (train, test): (0.780197, 0.921184)\n",
      "epoch = 380 accuracy (train, test): (6.1640, 5.9480), rmse (train, test): (0.780152, 0.921184)\n",
      "epoch = 381 accuracy (train, test): (6.1640, 5.9480), rmse (train, test): (0.780106, 0.921183)\n",
      "epoch = 382 accuracy (train, test): (6.1640, 5.9480), rmse (train, test): (0.780061, 0.921183)\n",
      "epoch = 383 accuracy (train, test): (6.1640, 5.9480), rmse (train, test): (0.780017, 0.921183)\n",
      "epoch = 384 accuracy (train, test): (6.1640, 5.9480), rmse (train, test): (0.779973, 0.921183)\n",
      "epoch = 385 accuracy (train, test): (6.1640, 5.9480), rmse (train, test): (0.779929, 0.921183)\n",
      "epoch = 386 accuracy (train, test): (6.1640, 5.9480), rmse (train, test): (0.779886, 0.921183)\n",
      "epoch = 387 accuracy (train, test): (6.1640, 5.9480), rmse (train, test): (0.779843, 0.921183)\n",
      "epoch = 388 accuracy (train, test): (6.1640, 5.9480), rmse (train, test): (0.779801, 0.921182)\n",
      "epoch = 389 accuracy (train, test): (6.1640, 5.9480), rmse (train, test): (0.779759, 0.921182)\n",
      "epoch = 390 accuracy (train, test): (6.1640, 5.9480), rmse (train, test): (0.779718, 0.921182)\n",
      "epoch = 391 accuracy (train, test): (6.1640, 5.9480), rmse (train, test): (0.779677, 0.921182)\n",
      "epoch = 392 accuracy (train, test): (6.1640, 5.9480), rmse (train, test): (0.779636, 0.921182)\n",
      "epoch = 393 accuracy (train, test): (6.1640, 5.9480), rmse (train, test): (0.779596, 0.921181)\n",
      "epoch = 394 accuracy (train, test): (6.1640, 5.9480), rmse (train, test): (0.779556, 0.921181)\n",
      "epoch = 395 accuracy (train, test): (6.1640, 5.9480), rmse (train, test): (0.779516, 0.921181)\n",
      "epoch = 396 accuracy (train, test): (6.1640, 5.9480), rmse (train, test): (0.779477, 0.921181)\n",
      "epoch = 397 accuracy (train, test): (6.1640, 5.9480), rmse (train, test): (0.779439, 0.921181)\n",
      "epoch = 398 accuracy (train, test): (6.1640, 5.9480), rmse (train, test): (0.779401, 0.921180)\n",
      "epoch = 399 accuracy (train, test): (6.1640, 5.9480), rmse (train, test): (0.779363, 0.921180)\n"
     ]
    }
   ],
   "source": [
    "# gamma: Learning rate\n",
    "P, Q, bu, bi, train_rmse_vector, test_rmse_vector, train_accuracy_vector, train_accuracy_vector, gamma, lmbda \\\n",
    "= Matrix_Factorization_baselines_SGD(R_train , R_test, R_rated_indexes_train, R_rated_indexes_test, mu, k=18 \n",
    "                                     ,sigma = 0.002,\n",
    "                           gamma= 0.01, lmbda = 0.15, alpha = 0., \n",
    "                           n_epochs = 400, error_calc_frec = 1,\n",
    "                           accuracy_thres = 0, like = 1, dislike = -1)"
   ]
  },
  {
   "cell_type": "code",
   "execution_count": 159,
   "metadata": {},
   "outputs": [
    {
     "data": {
      "image/png": "[encoded data removed]",
      "text/plain": [
       "<matplotlib.figure.Figure at 0x128d32b00>"
      ]
     },
     "metadata": {},
     "output_type": "display_data"
    }
   ],
   "source": [
    "plt.plot(train_rmse_vector)\n",
    "plt.plot(test_rmse_vector)\n",
    "plt.show()"
   ]
  },
  {
   "cell_type": "code",
   "execution_count": 153,
   "metadata": {},
   "outputs": [
    {
     "data": {
      "image/png": "[encoded data removed]",
      "text/plain": [
       "<matplotlib.figure.Figure at 0x13992c978>"
      ]
     },
     "metadata": {},
     "output_type": "display_data"
    }
   ],
   "source": [
    "# Lambda = 0.1\n",
    "plt.plot(train_rmse_vector)\n",
    "plt.plot(test_rmse_vector)\n",
    "plt.show()"
   ]
  }
 ],
 "metadata": {
  "anaconda-cloud": {},
  "kernelspec": {
   "display_name": "Python 3",
   "language": "python",
   "name": "python3"
  },
  "language_info": {
   "codemirror_mode": {
    "name": "ipython",
    "version": 3
   },
   "file_extension": ".py",
   "mimetype": "text/x-python",
   "name": "python",
   "nbconvert_exporter": "python",
   "pygments_lexer": "ipython3",
   "version": "3.6.13"
  },
  "toc": {
   "nav_menu": {},
   "number_sections": true,
   "sideBar": true,
   "skip_h1_title": true,
   "toc_cell": false,
   "toc_position": {},
   "toc_section_display": "block",
   "toc_window_display": false
  }
 },
 "nbformat": 4,
 "nbformat_minor": 4
}
