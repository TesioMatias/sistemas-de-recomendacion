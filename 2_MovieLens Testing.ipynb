{
 "cells": [
  {
   "cell_type": "code",
   "execution_count": 1,
   "metadata": {},
   "outputs": [
    {
     "data": {
      "text/plain": [
       "<module 'cf_helper_2' from '/Users/julianganzabal/facultad/lab-ml/Sistemas-de-Recomendacion/cf_helper_2.py'>"
      ]
     },
     "execution_count": 1,
     "metadata": {},
     "output_type": "execute_result"
    }
   ],
   "source": [
    "import pandas as pd\n",
    "import numpy as np\n",
    "from sklearn.model_selection import train_test_split\n",
    "import cf_helper_2 as cf_helper\n",
    "import matplotlib.pyplot as plt\n",
    "import importlib\n",
    "%matplotlib notebook\n",
    "from matplotlib.font_manager import FontProperties\n",
    "fontP = FontProperties()\n",
    "fontP.set_size('small')\n",
    "importlib.reload(cf_helper)"
   ]
  },
  {
   "cell_type": "code",
   "execution_count": 2,
   "metadata": {
    "collapsed": true
   },
   "outputs": [],
   "source": [
    "#df = pd.read_csv('movielens/ml-latest-small/ratings.csv')[['userId','movieId','rating']]\n",
    "header = ['userId', 'movieId', 'rating', 'timestamp']\n",
    "df = pd.read_csv('./ml-100k/u.data', sep='\\t', names=header)"
   ]
  },
  {
   "cell_type": "code",
   "execution_count": 3,
   "metadata": {},
   "outputs": [
    {
     "name": "stdout",
     "output_type": "stream",
     "text": [
      "(943, 1682)\n",
      "(943, 1682)\n"
     ]
    }
   ],
   "source": [
    "def get_user_item_matrix(dataframe, userIndexTag, itemIndexTag,ratingTag, test_size_ratio, base_1 = False):\n",
    "    first = 0\n",
    "    if base_1:\n",
    "        first = 1\n",
    "    n_users = dataframe[userIndexTag].unique().shape[0]\n",
    "    n_items = dataframe[itemIndexTag].unique().shape[0]\n",
    "    train_data, test_data = train_test_split(dataframe, test_size=test_size_ratio)\n",
    "\n",
    "    R = np.zeros((n_users, n_items))\n",
    "    T = np.zeros((n_users, n_items))\n",
    "    print(R.shape)\n",
    "\n",
    "    for index, line in train_data.iterrows():\n",
    "        R[line[userIndexTag] - first, line[itemIndexTag] - first] = line[ratingTag]\n",
    "\n",
    "\n",
    "    for index, line in test_data.iterrows():\n",
    "        T[line[userIndexTag] - first, line[itemIndexTag] - first] = line[ratingTag]\n",
    "    print(T.shape)\n",
    "    return R,T\n",
    "R_train, R_test = get_user_item_matrix(df, 'userId','movieId','rating',0.25, base_1 = True)"
   ]
  },
  {
   "cell_type": "code",
   "execution_count": 4,
   "metadata": {
    "collapsed": true
   },
   "outputs": [],
   "source": [
    "R_rated_indexes_train = R_train.nonzero()\n",
    "R_rated_indexes_test = R_test.nonzero()"
   ]
  },
  {
   "cell_type": "code",
   "execution_count": 5,
   "metadata": {
    "collapsed": true
   },
   "outputs": [],
   "source": [
    "I_train = R_train.copy()\n",
    "T_test = R_test.copy()\n",
    "I_train[I_train==0] = 0\n",
    "I_train[I_train!=0] = 1\n",
    "T_test[T_test==0] = 0\n",
    "T_test[T_test!=0] = 1"
   ]
  },
  {
   "cell_type": "code",
   "execution_count": 6,
   "metadata": {
    "collapsed": true
   },
   "outputs": [],
   "source": [
    "def get_estimated_R(SM, R_tr, R_ts, R_rated_indexes_tr, R_rated_indexes_ts, k = -1, means = 0,divide_by_weights_sum = True, count_diag = False, relevant_rate = 1, perc_points = 100):\n",
    "    if k==-1:\n",
    "        R_est = cf_helper.predictions(R_tr, SM, divide_by_weights_sum= divide_by_weights_sum, count_diag = count_diag, means = means)\n",
    "    else:\n",
    "        R_est = cf_helper.predictions_K_neighbours(R_tr, SM, k=k, means = means, divide_by_weights_sum= divide_by_weights_sum, count_diag = count_diag)\n",
    "    rmse_tr= cf_helper.rmse(R_tr,R_est)\n",
    "    rmse_ts = cf_helper.rmse(R_ts, R_est)\n",
    "    perc = cf_helper.get_percentiles(R_ts, R_est, like = relevant_rate, points = perc_points, number_of_random_items = 500)\n",
    "    print(rmse_tr,rmse_ts)\n",
    "    return R_est, perc, rmse_ts"
   ]
  },
  {
   "cell_type": "code",
   "execution_count": 7,
   "metadata": {
    "collapsed": true
   },
   "outputs": [],
   "source": [
    "perc_points = 100\n",
    "relevant_rate = 5"
   ]
  },
  {
   "cell_type": "code",
   "execution_count": 8,
   "metadata": {
    "collapsed": true
   },
   "outputs": [],
   "source": [
    "SM_pearson2, user_means2 = cf_helper.getPearsonSimilarityMatrix_non_zeros(R_train)"
   ]
  },
  {
   "cell_type": "code",
   "execution_count": 9,
   "metadata": {
    "collapsed": true
   },
   "outputs": [],
   "source": [
    "SM_jaccard, _ = cf_helper.calcultaSimilarityMatrix(R_train, dist_type ='jaccard_with_negatives')\n",
    "SM_pearson, user_means = cf_helper.calcultaSimilarityMatrix(R_train, dist_type ='pearson')\n",
    "SM_cosine, _ = cf_helper.calcultaSimilarityMatrix(R_train, dist_type ='cosine')"
   ]
  },
  {
   "cell_type": "code",
   "execution_count": 10,
   "metadata": {},
   "outputs": [
    {
     "name": "stdout",
     "output_type": "stream",
     "text": [
      "1.91495883673 1.95547461573\n"
     ]
    }
   ],
   "source": [
    "R_est_pearson2, perc_pearson2, rmse_pearson2 = get_estimated_R(SM_pearson2, R_train, R_test, R_rated_indexes_train, \n",
    "                                                               R_rated_indexes_test, \n",
    "                                                               means = user_means2, perc_points = perc_points, relevant_rate = relevant_rate)"
   ]
  },
  {
   "cell_type": "code",
   "execution_count": 11,
   "metadata": {},
   "outputs": [
    {
     "name": "stdout",
     "output_type": "stream",
     "text": [
      "2.90082707037 2.94041925163\n"
     ]
    }
   ],
   "source": [
    "R_est_pearson, perc_pearson, rmse_pearson = get_estimated_R(SM_pearson, R_train, R_test, R_rated_indexes_train, \n",
    "                                                            R_rated_indexes_test, means = user_means, \n",
    "                                                            perc_points = perc_points, relevant_rate = relevant_rate)"
   ]
  },
  {
   "cell_type": "code",
   "execution_count": 12,
   "metadata": {},
   "outputs": [
    {
     "name": "stdout",
     "output_type": "stream",
     "text": [
      "3.00587368978 3.03079327328\n"
     ]
    }
   ],
   "source": [
    "R_est_cosine, perc_cosine, rmse_cosine = get_estimated_R(SM_cosine, R_train, R_test, R_rated_indexes_train, R_rated_indexes_test, perc_points = perc_points, relevant_rate = relevant_rate, means = 0)"
   ]
  },
  {
   "cell_type": "code",
   "execution_count": 13,
   "metadata": {},
   "outputs": [
    {
     "name": "stdout",
     "output_type": "stream",
     "text": [
      "2.96441246543 2.99331452777\n"
     ]
    }
   ],
   "source": [
    "R_est_jaccard, perc_jaccard, rmse_jaccard = get_estimated_R(SM_jaccard,R_train, R_test, R_rated_indexes_train, R_rated_indexes_test, perc_points = perc_points, relevant_rate = relevant_rate)"
   ]
  },
  {
   "cell_type": "code",
   "execution_count": 14,
   "metadata": {
    "collapsed": true
   },
   "outputs": [],
   "source": [
    "mu_train = R_train[R_rated_indexes_train].mean()\n",
    "percentiles_train_media = cf_helper.get_percentiles(R_test, mu_train*np.ones(R_train.shape), like = 5)"
   ]
  },
  {
   "cell_type": "code",
   "execution_count": 15,
   "metadata": {
    "collapsed": true
   },
   "outputs": [],
   "source": [
    "def get_biased_data(R_tr, bias):\n",
    "    R_tr_b = R_tr.copy()\n",
    "    R_tr_b[R_tr==0] = bias\n",
    "    return R_tr_b"
   ]
  },
  {
   "cell_type": "code",
   "execution_count": 16,
   "metadata": {},
   "outputs": [
    {
     "name": "stdout",
     "output_type": "stream",
     "text": [
      "0.228962562889 1.07588903493\n"
     ]
    }
   ],
   "source": [
    "R_train_biased = get_biased_data(R_train, mu_train)\n",
    "SM_biased, user_means_biased = cf_helper.calcultaSimilarityMatrix(R_train_biased, dist_type ='pearson')\n",
    "R_est_biased, perc_biased, rmse_biased = get_estimated_R(SM_biased, R_train_biased, R_test, R_rated_indexes_train, R_rated_indexes_test, means=user_means_biased, relevant_rate = relevant_rate)"
   ]
  },
  {
   "cell_type": "code",
   "execution_count": 17,
   "metadata": {},
   "outputs": [
    {
     "name": "stderr",
     "output_type": "stream",
     "text": [
      "/Users/julianganzabal/anaconda3/envs/mllab/lib/python3.6/site-packages/matplotlib/figure.py:418: UserWarning: matplotlib is currently using a non-GUI backend, so cannot show the figure\n",
      "  \"matplotlib is currently using a non-GUI backend, \"\n"
     ]
    },
    {
     "data": {
      "image/png": "[encoded data removed]",
      "text/plain": [
       "<matplotlib.figure.Figure at 0x1111fa160>"
      ]
     },
     "metadata": {},
     "output_type": "display_data"
    }
   ],
   "source": [
    "%matplotlib inline\n",
    "perc_basis_vect = [perc_pearson, perc_pearson2,perc_cosine, perc_jaccard, perc_biased]\n",
    "rmse_basis_vect = [rmse_pearson, rmse_pearson2,rmse_cosine, rmse_jaccard, rmse_biased]\n",
    "names_basis_vect = ['Pearson','Pearson-2','Cosine','Jaccard', 'Biased']\n",
    "cf_helper.plot_percentiles(names_basis_vect, rmse_basis_vect, perc_basis_vect,\n",
    "                 parameter_name ='', title= 'Distintos estimadores de similitud, Hits vs position',\n",
    "                 featured_idx = 4, featured_text = 'Biased')"
   ]
  },
  {
   "cell_type": "code",
   "execution_count": 18,
   "metadata": {},
   "outputs": [
    {
     "name": "stdout",
     "output_type": "stream",
     "text": [
      "\n",
      " Ejemplo: si k=2 y hits=30 \n",
      " El 30% de los items relevantes se encuentran dentro de los primeros 20 items (1000 * k/100)\n"
     ]
    },
    {
     "name": "stderr",
     "output_type": "stream",
     "text": [
      "/Users/julianganzabal/anaconda3/envs/mllab/lib/python3.6/site-packages/matplotlib/figure.py:418: UserWarning: matplotlib is currently using a non-GUI backend, so cannot show the figure\n",
      "  \"matplotlib is currently using a non-GUI backend, \"\n"
     ]
    },
    {
     "data": {
      "image/png": "[encoded data removed]",
      "text/plain": [
       "<matplotlib.figure.Figure at 0x1276e3ba8>"
      ]
     },
     "metadata": {},
     "output_type": "display_data"
    }
   ],
   "source": [
    "f, ([ax1, ax2]) = plt.subplots(1,2, sharex=False, sharey=False, figsize=(12, 6)) #, figsize=(10, 10)\n",
    "plt_jaccard, = ax1.plot(*perc_jaccard, color = 'k', label = 'jaccard, rmse = %.4f'%rmse_jaccard)\n",
    "plt_cosine, = ax1.plot(*perc_cosine, color = 'y', label = 'cosine, rmse = %.4f'%rmse_cosine)\n",
    "plt_pearson, = ax1.plot(*perc_pearson, color = 'b', label = 'pearson, rmse = %.4f'%rmse_pearson)\n",
    "plt_pearson2, = ax1.plot(*perc_pearson2, color = 'R', label = 'pearson2, rmse = %.4f'%rmse_pearson2)\n",
    "\n",
    "ax1.plot(*percentiles_train_media, linestyle = \":\", color = 'k')\n",
    "\n",
    "ax1.legend(handles=[plt_pearson, plt_pearson2, plt_cosine, plt_jaccard], loc = 'best', prop = fontP)\n",
    "ax1.set_xlabel('K [%], default = 1000')\n",
    "ax1.set_ylabel('hits [%]')\n",
    "\n",
    "ax2.plot(*perc_jaccard,  color = 'k')\n",
    "ax2.plot(*perc_cosine,  color = 'y')\n",
    "ax2.plot(*perc_pearson, color = 'b')\n",
    "ax2.plot(*perc_pearson2, color = 'r')\n",
    "\n",
    "ax2.legend(handles=[plt_pearson, plt_cosine, plt_jaccard], loc = 'best', prop = fontP)\n",
    "ax2.set_xlabel('K [%], default = 1000')\n",
    "ax2.set_ylabel('hits [%]')\n",
    "ax2.set_ylim([0,35])\n",
    "ax2.set_xlim([0,2])\n",
    "\n",
    "print('\\n Ejemplo: si k=2 y hits=30 \\n El 30% de los items relevantes se encuentran dentro de los primeros 20 items (1000 * k/100)')\n",
    "f.suptitle('Distintos estimadores de similitud, Hits vs position', fontsize = 15)\n",
    "f.show()"
   ]
  },
  {
   "cell_type": "markdown",
   "metadata": {
    "collapsed": true
   },
   "source": [
    "# Matrix Factorization"
   ]
  },
  {
   "cell_type": "code",
   "execution_count": 19,
   "metadata": {
    "collapsed": true
   },
   "outputs": [],
   "source": [
    "from cf_helper_2 import Matrix_Factorization_baselines_SGD"
   ]
  },
  {
   "cell_type": "code",
   "execution_count": 33,
   "metadata": {
    "collapsed": true
   },
   "outputs": [],
   "source": [
    "mu = R_train[R_train.nonzero() ].mean()"
   ]
  },
  {
   "cell_type": "code",
   "execution_count": 158,
   "metadata": {},
   "outputs": [
    {
     "name": "stdout",
     "output_type": "stream",
     "text": [
      "epoch = -1 accuracy (train, test): (6.1107, 6.1080), rmse (train, test): (1.125070, 1.127476)\n",
      "epoch = 0 accuracy (train, test): (6.1107, 6.1080), rmse (train, test): (0.974719, 0.990081)\n",
      "epoch = 1 accuracy (train, test): (6.1107, 6.1080), rmse (train, test): (0.950083, 0.971001)\n",
      "epoch = 2 accuracy (train, test): (6.1107, 6.1080), rmse (train, test): (0.939294, 0.963105)\n",
      "epoch = 3 accuracy (train, test): (6.1107, 6.1080), rmse (train, test): (0.933177, 0.958844)\n",
      "epoch = 4 accuracy (train, test): (6.1107, 6.1080), rmse (train, test): (0.929276, 0.956265)\n",
      "epoch = 5 accuracy (train, test): (6.1107, 6.1080), rmse (train, test): (0.926600, 0.954592)\n",
      "epoch = 6 accuracy (train, test): (6.1107, 6.1080), rmse (train, test): (0.924669, 0.953452)\n",
      "epoch = 7 accuracy (train, test): (6.1107, 6.1080), rmse (train, test): (0.923220, 0.952645)\n",
      "epoch = 8 accuracy (train, test): (6.1107, 6.1080), rmse (train, test): (0.922098, 0.952057)\n",
      "epoch = 9 accuracy (train, test): (6.1107, 6.1080), rmse (train, test): (0.921207, 0.951618)\n",
      "epoch = 10 accuracy (train, test): (6.1107, 6.1080), rmse (train, test): (0.920483, 0.951284)\n",
      "epoch = 11 accuracy (train, test): (6.1107, 6.1080), rmse (train, test): (0.919885, 0.951026)\n",
      "epoch = 12 accuracy (train, test): (6.1107, 6.1080), rmse (train, test): (0.919382, 0.950824)\n",
      "epoch = 13 accuracy (train, test): (6.1107, 6.1080), rmse (train, test): (0.918953, 0.950664)\n",
      "epoch = 14 accuracy (train, test): (6.1107, 6.1080), rmse (train, test): (0.918583, 0.950536)\n",
      "epoch = 15 accuracy (train, test): (6.1107, 6.1080), rmse (train, test): (0.918261, 0.950432)\n",
      "epoch = 16 accuracy (train, test): (6.1107, 6.1080), rmse (train, test): (0.917977, 0.950348)\n",
      "epoch = 17 accuracy (train, test): (6.1107, 6.1040), rmse (train, test): (0.917725, 0.950280)\n",
      "epoch = 18 accuracy (train, test): (6.1107, 6.1040), rmse (train, test): (0.917499, 0.950224)\n",
      "epoch = 19 accuracy (train, test): (6.1107, 6.1040), rmse (train, test): (0.917296, 0.950178)\n",
      "epoch = 20 accuracy (train, test): (6.1107, 6.1040), rmse (train, test): (0.917112, 0.950141)\n",
      "epoch = 21 accuracy (train, test): (6.1107, 6.1040), rmse (train, test): (0.916945, 0.950110)\n",
      "epoch = 22 accuracy (train, test): (6.1107, 6.1040), rmse (train, test): (0.916791, 0.950085)\n",
      "epoch = 23 accuracy (train, test): (6.1107, 6.1040), rmse (train, test): (0.916650, 0.950065)\n",
      "epoch = 24 accuracy (train, test): (6.1107, 6.1040), rmse (train, test): (0.916520, 0.950049)\n",
      "epoch = 25 accuracy (train, test): (6.1107, 6.1040), rmse (train, test): (0.916398, 0.950036)\n",
      "epoch = 26 accuracy (train, test): (6.1107, 6.1040), rmse (train, test): (0.916285, 0.950025)\n",
      "epoch = 27 accuracy (train, test): (6.1107, 6.1040), rmse (train, test): (0.916180, 0.950017)\n",
      "epoch = 28 accuracy (train, test): (6.1107, 6.1040), rmse (train, test): (0.916080, 0.950011)\n",
      "epoch = 29 accuracy (train, test): (6.1107, 6.1040), rmse (train, test): (0.915986, 0.950006)\n",
      "epoch = 30 accuracy (train, test): (6.1107, 6.1040), rmse (train, test): (0.915896, 0.950002)\n",
      "epoch = 31 accuracy (train, test): (6.1107, 6.1040), rmse (train, test): (0.915810, 0.949998)\n",
      "epoch = 32 accuracy (train, test): (6.1107, 6.1040), rmse (train, test): (0.915726, 0.949995)\n",
      "epoch = 33 accuracy (train, test): (6.1107, 6.1040), rmse (train, test): (0.915645, 0.949991)\n",
      "epoch = 34 accuracy (train, test): (6.1107, 6.1040), rmse (train, test): (0.915565, 0.949987)\n",
      "epoch = 35 accuracy (train, test): (6.1107, 6.1040), rmse (train, test): (0.915485, 0.949981)\n",
      "epoch = 36 accuracy (train, test): (6.1107, 6.1040), rmse (train, test): (0.915404, 0.949973)\n",
      "epoch = 37 accuracy (train, test): (6.1107, 6.1040), rmse (train, test): (0.915320, 0.949961)\n",
      "epoch = 38 accuracy (train, test): (6.1107, 6.1040), rmse (train, test): (0.915232, 0.949946)\n",
      "epoch = 39 accuracy (train, test): (6.1107, 6.1040), rmse (train, test): (0.915139, 0.949926)\n",
      "epoch = 40 accuracy (train, test): (6.1107, 6.1040), rmse (train, test): (0.915036, 0.949899)\n",
      "epoch = 41 accuracy (train, test): (6.1107, 6.1040), rmse (train, test): (0.914922, 0.949863)\n",
      "epoch = 42 accuracy (train, test): (6.1107, 6.1040), rmse (train, test): (0.914794, 0.949817)\n",
      "epoch = 43 accuracy (train, test): (6.1107, 6.1040), rmse (train, test): (0.914646, 0.949756)\n",
      "epoch = 44 accuracy (train, test): (6.1107, 6.1040), rmse (train, test): (0.914474, 0.949679)\n",
      "epoch = 45 accuracy (train, test): (6.1107, 6.1040), rmse (train, test): (0.914271, 0.949581)\n",
      "epoch = 46 accuracy (train, test): (6.1107, 6.1040), rmse (train, test): (0.914030, 0.949457)\n",
      "epoch = 47 accuracy (train, test): (6.1107, 6.1040), rmse (train, test): (0.913743, 0.949301)\n",
      "epoch = 48 accuracy (train, test): (6.1107, 6.1040), rmse (train, test): (0.913400, 0.949108)\n",
      "epoch = 49 accuracy (train, test): (6.1107, 6.1040), rmse (train, test): (0.912989, 0.948870)\n",
      "epoch = 50 accuracy (train, test): (6.1107, 6.1040), rmse (train, test): (0.912499, 0.948580)\n",
      "epoch = 51 accuracy (train, test): (6.1107, 6.1040), rmse (train, test): (0.911919, 0.948231)\n",
      "epoch = 52 accuracy (train, test): (6.1107, 6.1040), rmse (train, test): (0.911236, 0.947816)\n",
      "epoch = 53 accuracy (train, test): (6.1107, 6.1040), rmse (train, test): (0.910443, 0.947330)\n",
      "epoch = 54 accuracy (train, test): (6.1107, 6.1040), rmse (train, test): (0.909532, 0.946771)\n",
      "epoch = 55 accuracy (train, test): (6.1107, 6.1040), rmse (train, test): (0.908503, 0.946139)\n",
      "epoch = 56 accuracy (train, test): (6.1107, 6.1040), rmse (train, test): (0.907361, 0.945441)\n",
      "epoch = 57 accuracy (train, test): (6.1107, 6.1040), rmse (train, test): (0.906119, 0.944685)\n",
      "epoch = 58 accuracy (train, test): (6.1107, 6.1040), rmse (train, test): (0.904794, 0.943886)\n",
      "epoch = 59 accuracy (train, test): (6.1107, 6.1040), rmse (train, test): (0.903411, 0.943062)\n",
      "epoch = 60 accuracy (train, test): (6.1107, 6.1040), rmse (train, test): (0.901997, 0.942230)\n",
      "epoch = 61 accuracy (train, test): (6.1107, 6.1040), rmse (train, test): (0.900578, 0.941409)\n",
      "epoch = 62 accuracy (train, test): (6.1107, 6.1040), rmse (train, test): (0.899180, 0.940615)\n",
      "epoch = 63 accuracy (train, test): (6.1107, 6.1040), rmse (train, test): (0.897824, 0.939860)\n",
      "epoch = 64 accuracy (train, test): (6.1107, 6.1040), rmse (train, test): (0.896526, 0.939154)\n",
      "epoch = 65 accuracy (train, test): (6.1107, 6.1040), rmse (train, test): (0.895295, 0.938501)\n",
      "epoch = 66 accuracy (train, test): (6.1107, 6.1040), rmse (train, test): (0.894138, 0.937904)\n",
      "epoch = 67 accuracy (train, test): (6.1107, 6.1040), rmse (train, test): (0.893057, 0.937361)\n",
      "epoch = 68 accuracy (train, test): (6.1107, 6.1040), rmse (train, test): (0.892049, 0.936872)\n",
      "epoch = 69 accuracy (train, test): (6.1107, 6.1040), rmse (train, test): (0.891113, 0.936431)\n",
      "epoch = 70 accuracy (train, test): (6.1107, 6.1040), rmse (train, test): (0.890242, 0.936036)\n",
      "epoch = 71 accuracy (train, test): (6.1107, 6.1040), rmse (train, test): (0.889432, 0.935681)\n",
      "epoch = 72 accuracy (train, test): (6.1107, 6.1040), rmse (train, test): (0.888677, 0.935364)\n",
      "epoch = 73 accuracy (train, test): (6.1107, 6.1040), rmse (train, test): (0.887972, 0.935079)\n",
      "epoch = 74 accuracy (train, test): (6.1107, 6.1040), rmse (train, test): (0.887312, 0.934822)\n",
      "epoch = 75 accuracy (train, test): (6.1107, 6.1040), rmse (train, test): (0.886690, 0.934591)\n",
      "epoch = 76 accuracy (train, test): (6.1107, 6.1040), rmse (train, test): (0.886102, 0.934383)\n",
      "epoch = 77 accuracy (train, test): (6.1107, 6.1040), rmse (train, test): (0.885545, 0.934193)\n",
      "epoch = 78 accuracy (train, test): (6.1107, 6.1040), rmse (train, test): (0.885012, 0.934020)\n",
      "epoch = 79 accuracy (train, test): (6.1107, 6.1040), rmse (train, test): (0.884501, 0.933862)\n",
      "epoch = 80 accuracy (train, test): (6.1107, 6.1040), rmse (train, test): (0.884009, 0.933716)\n",
      "epoch = 81 accuracy (train, test): (6.1107, 6.1040), rmse (train, test): (0.883530, 0.933581)\n",
      "epoch = 82 accuracy (train, test): (6.1107, 6.1040), rmse (train, test): (0.883063, 0.933454)\n",
      "epoch = 83 accuracy (train, test): (6.1107, 6.1040), rmse (train, test): (0.882604, 0.933335)\n",
      "epoch = 84 accuracy (train, test): (6.1107, 6.1040), rmse (train, test): (0.882151, 0.933222)\n",
      "epoch = 85 accuracy (train, test): (6.1107, 6.1040), rmse (train, test): (0.881700, 0.933113)\n",
      "epoch = 86 accuracy (train, test): (6.1107, 6.1040), rmse (train, test): (0.881250, 0.933008)\n"
     ]
    },
    {
     "name": "stdout",
     "output_type": "stream",
     "text": [
      "epoch = 87 accuracy (train, test): (6.1107, 6.1040), rmse (train, test): (0.880797, 0.932905)\n",
      "epoch = 88 accuracy (train, test): (6.1107, 6.1040), rmse (train, test): (0.880340, 0.932804)\n",
      "epoch = 89 accuracy (train, test): (6.1107, 6.1040), rmse (train, test): (0.879876, 0.932704)\n",
      "epoch = 90 accuracy (train, test): (6.1107, 6.1040), rmse (train, test): (0.879403, 0.932604)\n",
      "epoch = 91 accuracy (train, test): (6.1107, 6.1040), rmse (train, test): (0.878920, 0.932503)\n",
      "epoch = 92 accuracy (train, test): (6.1107, 6.1040), rmse (train, test): (0.878425, 0.932401)\n",
      "epoch = 93 accuracy (train, test): (6.1107, 6.1040), rmse (train, test): (0.877916, 0.932298)\n",
      "epoch = 94 accuracy (train, test): (6.1107, 6.1040), rmse (train, test): (0.877392, 0.932192)\n",
      "epoch = 95 accuracy (train, test): (6.1107, 6.1040), rmse (train, test): (0.876852, 0.932084)\n",
      "epoch = 96 accuracy (train, test): (6.1107, 6.1040), rmse (train, test): (0.876295, 0.931973)\n",
      "epoch = 97 accuracy (train, test): (6.1107, 6.1040), rmse (train, test): (0.875720, 0.931858)\n",
      "epoch = 98 accuracy (train, test): (6.1107, 6.1040), rmse (train, test): (0.875127, 0.931741)\n",
      "epoch = 99 accuracy (train, test): (6.1107, 6.1040), rmse (train, test): (0.874515, 0.931621)\n",
      "epoch = 100 accuracy (train, test): (6.1107, 6.1040), rmse (train, test): (0.873885, 0.931497)\n",
      "epoch = 101 accuracy (train, test): (6.1107, 6.1040), rmse (train, test): (0.873236, 0.931371)\n",
      "epoch = 102 accuracy (train, test): (6.1107, 6.1040), rmse (train, test): (0.872569, 0.931241)\n",
      "epoch = 103 accuracy (train, test): (6.1107, 6.1040), rmse (train, test): (0.871885, 0.931108)\n",
      "epoch = 104 accuracy (train, test): (6.1107, 6.1040), rmse (train, test): (0.871184, 0.930973)\n",
      "epoch = 105 accuracy (train, test): (6.1107, 6.1040), rmse (train, test): (0.870468, 0.930836)\n",
      "epoch = 106 accuracy (train, test): (6.1107, 6.1040), rmse (train, test): (0.869736, 0.930697)\n",
      "epoch = 107 accuracy (train, test): (6.1107, 6.1040), rmse (train, test): (0.868991, 0.930556)\n",
      "epoch = 108 accuracy (train, test): (6.1107, 6.1040), rmse (train, test): (0.868234, 0.930413)\n",
      "epoch = 109 accuracy (train, test): (6.1107, 6.1040), rmse (train, test): (0.867465, 0.930270)\n",
      "epoch = 110 accuracy (train, test): (6.1107, 6.1040), rmse (train, test): (0.866687, 0.930126)\n",
      "epoch = 111 accuracy (train, test): (6.1107, 6.1040), rmse (train, test): (0.865900, 0.929981)\n",
      "epoch = 112 accuracy (train, test): (6.1107, 6.1040), rmse (train, test): (0.865106, 0.929837)\n",
      "epoch = 113 accuracy (train, test): (6.1107, 6.1040), rmse (train, test): (0.864306, 0.929692)\n",
      "epoch = 114 accuracy (train, test): (6.1107, 6.1040), rmse (train, test): (0.863502, 0.929548)\n",
      "epoch = 115 accuracy (train, test): (6.1107, 6.1040), rmse (train, test): (0.862694, 0.929405)\n",
      "epoch = 116 accuracy (train, test): (6.1107, 6.1040), rmse (train, test): (0.861884, 0.929262)\n",
      "epoch = 117 accuracy (train, test): (6.1107, 6.1040), rmse (train, test): (0.861072, 0.929121)\n",
      "epoch = 118 accuracy (train, test): (6.1107, 6.1040), rmse (train, test): (0.860259, 0.928981)\n",
      "epoch = 119 accuracy (train, test): (6.1107, 6.1040), rmse (train, test): (0.859447, 0.928842)\n",
      "epoch = 120 accuracy (train, test): (6.1107, 6.1040), rmse (train, test): (0.858635, 0.928705)\n",
      "epoch = 121 accuracy (train, test): (6.1107, 6.1040), rmse (train, test): (0.857825, 0.928569)\n",
      "epoch = 122 accuracy (train, test): (6.1107, 6.1040), rmse (train, test): (0.857017, 0.928435)\n",
      "epoch = 123 accuracy (train, test): (6.1107, 6.1040), rmse (train, test): (0.856212, 0.928303)\n",
      "epoch = 124 accuracy (train, test): (6.1107, 6.1040), rmse (train, test): (0.855410, 0.928172)\n",
      "epoch = 125 accuracy (train, test): (6.1107, 6.1040), rmse (train, test): (0.854611, 0.928043)\n",
      "epoch = 126 accuracy (train, test): (6.1107, 6.1040), rmse (train, test): (0.853815, 0.927916)\n",
      "epoch = 127 accuracy (train, test): (6.1107, 6.1040), rmse (train, test): (0.853024, 0.927791)\n",
      "epoch = 128 accuracy (train, test): (6.1107, 6.1040), rmse (train, test): (0.852236, 0.927668)\n",
      "epoch = 129 accuracy (train, test): (6.1107, 6.1040), rmse (train, test): (0.851454, 0.927547)\n",
      "epoch = 130 accuracy (train, test): (6.1107, 6.1040), rmse (train, test): (0.850676, 0.927428)\n",
      "epoch = 131 accuracy (train, test): (6.1107, 6.1040), rmse (train, test): (0.849902, 0.927311)\n",
      "epoch = 132 accuracy (train, test): (6.1107, 6.1040), rmse (train, test): (0.849134, 0.927196)\n",
      "epoch = 133 accuracy (train, test): (6.1107, 6.1040), rmse (train, test): (0.848371, 0.927083)\n",
      "epoch = 134 accuracy (train, test): (6.1107, 6.1040), rmse (train, test): (0.847614, 0.926973)\n",
      "epoch = 135 accuracy (train, test): (6.1107, 6.1040), rmse (train, test): (0.846862, 0.926865)\n",
      "epoch = 136 accuracy (train, test): (6.1107, 6.1040), rmse (train, test): (0.846115, 0.926759)\n",
      "epoch = 137 accuracy (train, test): (6.1107, 6.1040), rmse (train, test): (0.845375, 0.926655)\n",
      "epoch = 138 accuracy (train, test): (6.1107, 6.1040), rmse (train, test): (0.844640, 0.926554)\n",
      "epoch = 139 accuracy (train, test): (6.1107, 6.1040), rmse (train, test): (0.843911, 0.926455)\n",
      "epoch = 140 accuracy (train, test): (6.1107, 6.1040), rmse (train, test): (0.843189, 0.926359)\n",
      "epoch = 141 accuracy (train, test): (6.1107, 6.1080), rmse (train, test): (0.842472, 0.926265)\n",
      "epoch = 142 accuracy (train, test): (6.1107, 6.1080), rmse (train, test): (0.841762, 0.926174)\n",
      "epoch = 143 accuracy (train, test): (6.1107, 6.1080), rmse (train, test): (0.841057, 0.926085)\n",
      "epoch = 144 accuracy (train, test): (6.1107, 6.1080), rmse (train, test): (0.840359, 0.925999)\n",
      "epoch = 145 accuracy (train, test): (6.1107, 6.1080), rmse (train, test): (0.839667, 0.925916)\n",
      "epoch = 146 accuracy (train, test): (6.1107, 6.1080), rmse (train, test): (0.838981, 0.925834)\n",
      "epoch = 147 accuracy (train, test): (6.1107, 6.1080), rmse (train, test): (0.838302, 0.925756)\n",
      "epoch = 148 accuracy (train, test): (6.1107, 6.1080), rmse (train, test): (0.837628, 0.925680)\n",
      "epoch = 149 accuracy (train, test): (6.1107, 6.1080), rmse (train, test): (0.836961, 0.925606)\n",
      "epoch = 150 accuracy (train, test): (6.1107, 6.1080), rmse (train, test): (0.836300, 0.925535)\n",
      "epoch = 151 accuracy (train, test): (6.1107, 6.1080), rmse (train, test): (0.835645, 0.925466)\n",
      "epoch = 152 accuracy (train, test): (6.1107, 6.1080), rmse (train, test): (0.834995, 0.925400)\n",
      "epoch = 153 accuracy (train, test): (6.1107, 6.1080), rmse (train, test): (0.834352, 0.925336)\n",
      "epoch = 154 accuracy (train, test): (6.1107, 6.1080), rmse (train, test): (0.833714, 0.925274)\n",
      "epoch = 155 accuracy (train, test): (6.1107, 6.1080), rmse (train, test): (0.833082, 0.925214)\n",
      "epoch = 156 accuracy (train, test): (6.1107, 6.1080), rmse (train, test): (0.832456, 0.925157)\n",
      "epoch = 157 accuracy (train, test): (6.1107, 6.1080), rmse (train, test): (0.831835, 0.925102)\n",
      "epoch = 158 accuracy (train, test): (6.1107, 6.1080), rmse (train, test): (0.831219, 0.925048)\n",
      "epoch = 159 accuracy (train, test): (6.1107, 6.1080), rmse (train, test): (0.830609, 0.924997)\n",
      "epoch = 160 accuracy (train, test): (6.1107, 6.1080), rmse (train, test): (0.830004, 0.924948)\n",
      "epoch = 161 accuracy (train, test): (6.1107, 6.1080), rmse (train, test): (0.829404, 0.924901)\n",
      "epoch = 162 accuracy (train, test): (6.1107, 6.1080), rmse (train, test): (0.828810, 0.924855)\n",
      "epoch = 163 accuracy (train, test): (6.1107, 6.1080), rmse (train, test): (0.828220, 0.924812)\n",
      "epoch = 164 accuracy (train, test): (6.1107, 6.1080), rmse (train, test): (0.827635, 0.924770)\n",
      "epoch = 165 accuracy (train, test): (6.1107, 6.1080), rmse (train, test): (0.827055, 0.924730)\n",
      "epoch = 166 accuracy (train, test): (6.1107, 6.1080), rmse (train, test): (0.826479, 0.924692)\n",
      "epoch = 167 accuracy (train, test): (6.1107, 6.1080), rmse (train, test): (0.825909, 0.924655)\n",
      "epoch = 168 accuracy (train, test): (6.1107, 6.1080), rmse (train, test): (0.825343, 0.924619)\n",
      "epoch = 169 accuracy (train, test): (6.1107, 6.1080), rmse (train, test): (0.824781, 0.924586)\n",
      "epoch = 170 accuracy (train, test): (6.1107, 6.1080), rmse (train, test): (0.824224, 0.924553)\n",
      "epoch = 171 accuracy (train, test): (6.1107, 6.1080), rmse (train, test): (0.823671, 0.924523)\n",
      "epoch = 172 accuracy (train, test): (6.1107, 6.1080), rmse (train, test): (0.823123, 0.924493)\n",
      "epoch = 173 accuracy (train, test): (6.1107, 6.1080), rmse (train, test): (0.822579, 0.924465)\n"
     ]
    },
    {
     "name": "stdout",
     "output_type": "stream",
     "text": [
      "epoch = 174 accuracy (train, test): (6.1107, 6.1080), rmse (train, test): (0.822039, 0.924438)\n",
      "epoch = 175 accuracy (train, test): (6.1107, 6.1080), rmse (train, test): (0.821503, 0.924412)\n",
      "epoch = 176 accuracy (train, test): (6.1107, 6.1080), rmse (train, test): (0.820972, 0.924388)\n",
      "epoch = 177 accuracy (train, test): (6.1107, 6.1080), rmse (train, test): (0.820444, 0.924365)\n",
      "epoch = 178 accuracy (train, test): (6.1107, 6.1080), rmse (train, test): (0.819921, 0.924343)\n",
      "epoch = 179 accuracy (train, test): (6.1107, 6.1080), rmse (train, test): (0.819402, 0.924322)\n",
      "epoch = 180 accuracy (train, test): (6.1107, 6.1080), rmse (train, test): (0.818887, 0.924302)\n",
      "epoch = 181 accuracy (train, test): (6.1107, 6.1080), rmse (train, test): (0.818376, 0.924283)\n",
      "epoch = 182 accuracy (train, test): (6.1107, 6.1080), rmse (train, test): (0.817869, 0.924265)\n",
      "epoch = 183 accuracy (train, test): (6.1107, 6.1080), rmse (train, test): (0.817367, 0.924248)\n",
      "epoch = 184 accuracy (train, test): (6.1107, 6.1080), rmse (train, test): (0.816868, 0.924232)\n",
      "epoch = 185 accuracy (train, test): (6.1107, 6.1080), rmse (train, test): (0.816373, 0.924217)\n",
      "epoch = 186 accuracy (train, test): (6.1107, 6.1080), rmse (train, test): (0.815882, 0.924203)\n",
      "epoch = 187 accuracy (train, test): (6.1107, 6.1080), rmse (train, test): (0.815396, 0.924189)\n",
      "epoch = 188 accuracy (train, test): (6.1107, 6.1080), rmse (train, test): (0.814913, 0.924177)\n",
      "epoch = 189 accuracy (train, test): (6.1107, 6.1080), rmse (train, test): (0.814435, 0.924165)\n",
      "epoch = 190 accuracy (train, test): (6.1107, 6.1080), rmse (train, test): (0.813960, 0.924154)\n",
      "epoch = 191 accuracy (train, test): (6.1107, 6.1080), rmse (train, test): (0.813489, 0.924144)\n",
      "epoch = 192 accuracy (train, test): (6.1107, 6.1080), rmse (train, test): (0.813023, 0.924134)\n",
      "epoch = 193 accuracy (train, test): (6.1107, 6.1080), rmse (train, test): (0.812561, 0.924126)\n",
      "epoch = 194 accuracy (train, test): (6.1107, 6.1080), rmse (train, test): (0.812102, 0.924117)\n",
      "epoch = 195 accuracy (train, test): (6.1107, 6.1080), rmse (train, test): (0.811648, 0.924110)\n",
      "epoch = 196 accuracy (train, test): (6.1107, 6.1080), rmse (train, test): (0.811198, 0.924103)\n",
      "epoch = 197 accuracy (train, test): (6.1107, 6.1080), rmse (train, test): (0.810751, 0.924097)\n",
      "epoch = 198 accuracy (train, test): (6.1107, 6.1080), rmse (train, test): (0.810309, 0.924091)\n",
      "epoch = 199 accuracy (train, test): (6.1107, 6.1080), rmse (train, test): (0.809871, 0.924086)\n",
      "epoch = 200 accuracy (train, test): (6.1107, 6.1080), rmse (train, test): (0.809437, 0.924082)\n",
      "epoch = 201 accuracy (train, test): (6.1107, 6.1080), rmse (train, test): (0.809008, 0.924077)\n",
      "epoch = 202 accuracy (train, test): (6.1107, 6.1080), rmse (train, test): (0.808582, 0.924074)\n",
      "epoch = 203 accuracy (train, test): (6.1107, 6.1080), rmse (train, test): (0.808160, 0.924071)\n",
      "epoch = 204 accuracy (train, test): (6.1107, 6.1080), rmse (train, test): (0.807743, 0.924068)\n",
      "epoch = 205 accuracy (train, test): (6.1107, 6.1080), rmse (train, test): (0.807330, 0.924066)\n",
      "epoch = 206 accuracy (train, test): (6.1107, 6.1080), rmse (train, test): (0.806920, 0.924064)\n",
      "epoch = 207 accuracy (train, test): (6.1107, 6.1080), rmse (train, test): (0.806515, 0.924063)\n",
      "epoch = 208 accuracy (train, test): (6.1107, 6.1080), rmse (train, test): (0.806114, 0.924062)\n",
      "epoch = 209 accuracy (train, test): (6.1107, 6.1080), rmse (train, test): (0.805717, 0.924062)\n",
      "epoch = 210 accuracy (train, test): (6.1107, 6.1080), rmse (train, test): (0.805324, 0.924061)\n",
      "epoch = 211 accuracy (train, test): (6.1107, 6.1080), rmse (train, test): (0.804936, 0.924062)\n",
      "epoch = 212 accuracy (train, test): (6.1107, 6.1080), rmse (train, test): (0.804551, 0.924062)\n",
      "epoch = 213 accuracy (train, test): (6.1107, 6.1080), rmse (train, test): (0.804171, 0.924063)\n",
      "epoch = 214 accuracy (train, test): (6.1107, 6.1080), rmse (train, test): (0.803794, 0.924064)\n",
      "epoch = 215 accuracy (train, test): (6.1107, 6.1080), rmse (train, test): (0.803422, 0.924065)\n",
      "epoch = 216 accuracy (train, test): (6.1107, 6.1080), rmse (train, test): (0.803054, 0.924067)\n",
      "epoch = 217 accuracy (train, test): (6.1107, 6.1080), rmse (train, test): (0.802690, 0.924069)\n",
      "epoch = 218 accuracy (train, test): (6.1107, 6.1080), rmse (train, test): (0.802330, 0.924071)\n",
      "epoch = 219 accuracy (train, test): (6.1107, 6.1080), rmse (train, test): (0.801973, 0.924073)\n",
      "epoch = 220 accuracy (train, test): (6.1107, 6.1080), rmse (train, test): (0.801621, 0.924076)\n",
      "epoch = 221 accuracy (train, test): (6.1107, 6.1080), rmse (train, test): (0.801273, 0.924079)\n",
      "epoch = 222 accuracy (train, test): (6.1107, 6.1080), rmse (train, test): (0.800929, 0.924082)\n",
      "epoch = 223 accuracy (train, test): (6.1107, 6.1080), rmse (train, test): (0.800589, 0.924085)\n",
      "epoch = 224 accuracy (train, test): (6.1107, 6.1080), rmse (train, test): (0.800253, 0.924089)\n",
      "epoch = 225 accuracy (train, test): (6.1107, 6.1080), rmse (train, test): (0.799921, 0.924092)\n",
      "epoch = 226 accuracy (train, test): (6.1107, 6.1080), rmse (train, test): (0.799593, 0.924096)\n",
      "epoch = 227 accuracy (train, test): (6.1107, 6.1080), rmse (train, test): (0.799268, 0.924100)\n",
      "epoch = 228 accuracy (train, test): (6.1107, 6.1080), rmse (train, test): (0.798948, 0.924104)\n",
      "epoch = 229 accuracy (train, test): (6.1107, 6.1080), rmse (train, test): (0.798631, 0.924108)\n",
      "epoch = 230 accuracy (train, test): (6.1107, 6.1080), rmse (train, test): (0.798318, 0.924112)\n",
      "epoch = 231 accuracy (train, test): (6.1107, 6.1080), rmse (train, test): (0.798009, 0.924116)\n",
      "epoch = 232 accuracy (train, test): (6.1107, 6.1080), rmse (train, test): (0.797704, 0.924121)\n",
      "epoch = 233 accuracy (train, test): (6.1107, 6.1080), rmse (train, test): (0.797402, 0.924126)\n",
      "epoch = 234 accuracy (train, test): (6.1107, 6.1080), rmse (train, test): (0.797104, 0.924130)\n",
      "epoch = 235 accuracy (train, test): (6.1107, 6.1080), rmse (train, test): (0.796810, 0.924135)\n",
      "epoch = 236 accuracy (train, test): (6.1107, 6.1080), rmse (train, test): (0.796520, 0.924140)\n",
      "epoch = 237 accuracy (train, test): (6.1107, 6.1080), rmse (train, test): (0.796233, 0.924145)\n",
      "epoch = 238 accuracy (train, test): (6.1107, 6.1080), rmse (train, test): (0.795949, 0.924150)\n",
      "epoch = 239 accuracy (train, test): (6.1107, 6.1080), rmse (train, test): (0.795670, 0.924155)\n",
      "epoch = 240 accuracy (train, test): (6.1107, 6.1080), rmse (train, test): (0.795394, 0.924160)\n",
      "epoch = 241 accuracy (train, test): (6.1107, 6.1080), rmse (train, test): (0.795121, 0.924165)\n",
      "epoch = 242 accuracy (train, test): (6.1107, 6.1080), rmse (train, test): (0.794852, 0.924171)\n",
      "epoch = 243 accuracy (train, test): (6.1107, 6.1080), rmse (train, test): (0.794586, 0.924176)\n",
      "epoch = 244 accuracy (train, test): (6.1107, 6.1080), rmse (train, test): (0.794324, 0.924181)\n",
      "epoch = 245 accuracy (train, test): (6.1107, 6.1080), rmse (train, test): (0.794065, 0.924187)\n",
      "epoch = 246 accuracy (train, test): (6.1107, 6.1080), rmse (train, test): (0.793809, 0.924192)\n",
      "epoch = 247 accuracy (train, test): (6.1107, 6.1080), rmse (train, test): (0.793557, 0.924197)\n",
      "epoch = 248 accuracy (train, test): (6.1107, 6.1080), rmse (train, test): (0.793308, 0.924203)\n",
      "epoch = 249 accuracy (train, test): (6.1107, 6.1080), rmse (train, test): (0.793062, 0.924208)\n",
      "epoch = 250 accuracy (train, test): (6.1107, 6.1080), rmse (train, test): (0.792819, 0.924214)\n",
      "epoch = 251 accuracy (train, test): (6.1107, 6.1080), rmse (train, test): (0.792580, 0.924219)\n",
      "epoch = 252 accuracy (train, test): (6.1107, 6.1080), rmse (train, test): (0.792343, 0.924225)\n",
      "epoch = 253 accuracy (train, test): (6.1107, 6.1080), rmse (train, test): (0.792110, 0.924230)\n",
      "epoch = 254 accuracy (train, test): (6.1107, 6.1080), rmse (train, test): (0.791880, 0.924236)\n",
      "epoch = 255 accuracy (train, test): (6.1107, 6.1080), rmse (train, test): (0.791653, 0.924241)\n",
      "epoch = 256 accuracy (train, test): (6.1107, 6.1080), rmse (train, test): (0.791429, 0.924247)\n",
      "epoch = 257 accuracy (train, test): (6.1107, 6.1080), rmse (train, test): (0.791208, 0.924252)\n",
      "epoch = 258 accuracy (train, test): (6.1107, 6.1080), rmse (train, test): (0.790989, 0.924258)\n",
      "epoch = 259 accuracy (train, test): (6.1107, 6.1080), rmse (train, test): (0.790774, 0.924263)\n",
      "epoch = 260 accuracy (train, test): (6.1107, 6.1080), rmse (train, test): (0.790562, 0.924269)\n"
     ]
    },
    {
     "name": "stdout",
     "output_type": "stream",
     "text": [
      "epoch = 261 accuracy (train, test): (6.1107, 6.1080), rmse (train, test): (0.790352, 0.924274)\n",
      "epoch = 262 accuracy (train, test): (6.1107, 6.1080), rmse (train, test): (0.790145, 0.924280)\n",
      "epoch = 263 accuracy (train, test): (6.1107, 6.1080), rmse (train, test): (0.789941, 0.924285)\n",
      "epoch = 264 accuracy (train, test): (6.1107, 6.1080), rmse (train, test): (0.789739, 0.924291)\n",
      "epoch = 265 accuracy (train, test): (6.1107, 6.1080), rmse (train, test): (0.789541, 0.924296)\n",
      "epoch = 266 accuracy (train, test): (6.1107, 6.1080), rmse (train, test): (0.789345, 0.924302)\n",
      "epoch = 267 accuracy (train, test): (6.1107, 6.1080), rmse (train, test): (0.789151, 0.924307)\n",
      "epoch = 268 accuracy (train, test): (6.1107, 6.1080), rmse (train, test): (0.788960, 0.924313)\n",
      "epoch = 269 accuracy (train, test): (6.1107, 6.1080), rmse (train, test): (0.788772, 0.924318)\n",
      "epoch = 270 accuracy (train, test): (6.1107, 6.1080), rmse (train, test): (0.788586, 0.924324)\n",
      "epoch = 271 accuracy (train, test): (6.1107, 6.1080), rmse (train, test): (0.788403, 0.924329)\n",
      "epoch = 272 accuracy (train, test): (6.1107, 6.1080), rmse (train, test): (0.788222, 0.924334)\n",
      "epoch = 273 accuracy (train, test): (6.1107, 6.1080), rmse (train, test): (0.788043, 0.924340)\n",
      "epoch = 274 accuracy (train, test): (6.1107, 6.1080), rmse (train, test): (0.787867, 0.924345)\n",
      "epoch = 275 accuracy (train, test): (6.1107, 6.1080), rmse (train, test): (0.787693, 0.924350)\n",
      "epoch = 276 accuracy (train, test): (6.1107, 6.1080), rmse (train, test): (0.787522, 0.924355)\n",
      "epoch = 277 accuracy (train, test): (6.1107, 6.1080), rmse (train, test): (0.787353, 0.924361)\n",
      "epoch = 278 accuracy (train, test): (6.1107, 6.1080), rmse (train, test): (0.787186, 0.924366)\n",
      "epoch = 279 accuracy (train, test): (6.1107, 6.1080), rmse (train, test): (0.787021, 0.924371)\n",
      "epoch = 280 accuracy (train, test): (6.1107, 6.1080), rmse (train, test): (0.786859, 0.924376)\n",
      "epoch = 281 accuracy (train, test): (6.1107, 6.1080), rmse (train, test): (0.786699, 0.924381)\n",
      "epoch = 282 accuracy (train, test): (6.1107, 6.1080), rmse (train, test): (0.786541, 0.924387)\n",
      "epoch = 283 accuracy (train, test): (6.1107, 6.1080), rmse (train, test): (0.786384, 0.924392)\n",
      "epoch = 284 accuracy (train, test): (6.1107, 6.1080), rmse (train, test): (0.786231, 0.924397)\n",
      "epoch = 285 accuracy (train, test): (6.1107, 6.1080), rmse (train, test): (0.786079, 0.924402)\n",
      "epoch = 286 accuracy (train, test): (6.1107, 6.1080), rmse (train, test): (0.785929, 0.924407)\n",
      "epoch = 287 accuracy (train, test): (6.1107, 6.1080), rmse (train, test): (0.785781, 0.924412)\n",
      "epoch = 288 accuracy (train, test): (6.1107, 6.1080), rmse (train, test): (0.785635, 0.924417)\n",
      "epoch = 289 accuracy (train, test): (6.1107, 6.1080), rmse (train, test): (0.785491, 0.924422)\n",
      "epoch = 290 accuracy (train, test): (6.1107, 6.1080), rmse (train, test): (0.785349, 0.924427)\n",
      "epoch = 291 accuracy (train, test): (6.1107, 6.1080), rmse (train, test): (0.785209, 0.924432)\n",
      "epoch = 292 accuracy (train, test): (6.1107, 6.1080), rmse (train, test): (0.785070, 0.924436)\n",
      "epoch = 293 accuracy (train, test): (6.1107, 6.1080), rmse (train, test): (0.784934, 0.924441)\n",
      "epoch = 294 accuracy (train, test): (6.1107, 6.1080), rmse (train, test): (0.784799, 0.924446)\n",
      "epoch = 295 accuracy (train, test): (6.1107, 6.1080), rmse (train, test): (0.784666, 0.924451)\n",
      "epoch = 296 accuracy (train, test): (6.1107, 6.1080), rmse (train, test): (0.784535, 0.924456)\n",
      "epoch = 297 accuracy (train, test): (6.1107, 6.1080), rmse (train, test): (0.784406, 0.924461)\n",
      "epoch = 298 accuracy (train, test): (6.1107, 6.1080), rmse (train, test): (0.784278, 0.924465)\n",
      "epoch = 299 accuracy (train, test): (6.1107, 6.1080), rmse (train, test): (0.784152, 0.924470)\n",
      "epoch = 300 accuracy (train, test): (6.1107, 6.1080), rmse (train, test): (0.784028, 0.924475)\n",
      "epoch = 301 accuracy (train, test): (6.1107, 6.1080), rmse (train, test): (0.783905, 0.924479)\n",
      "epoch = 302 accuracy (train, test): (6.1107, 6.1080), rmse (train, test): (0.783784, 0.924484)\n",
      "epoch = 303 accuracy (train, test): (6.1107, 6.1080), rmse (train, test): (0.783665, 0.924489)\n",
      "epoch = 304 accuracy (train, test): (6.1107, 6.1080), rmse (train, test): (0.783547, 0.924493)\n",
      "epoch = 305 accuracy (train, test): (6.1107, 6.1080), rmse (train, test): (0.783430, 0.924498)\n",
      "epoch = 306 accuracy (train, test): (6.1107, 6.1080), rmse (train, test): (0.783315, 0.924502)\n",
      "epoch = 307 accuracy (train, test): (6.1107, 6.1080), rmse (train, test): (0.783202, 0.924507)\n",
      "epoch = 308 accuracy (train, test): (6.1107, 6.1080), rmse (train, test): (0.783090, 0.924511)\n",
      "epoch = 309 accuracy (train, test): (6.1107, 6.1080), rmse (train, test): (0.782980, 0.924516)\n",
      "epoch = 310 accuracy (train, test): (6.1107, 6.1080), rmse (train, test): (0.782871, 0.924520)\n",
      "epoch = 311 accuracy (train, test): (6.1107, 6.1080), rmse (train, test): (0.782763, 0.924525)\n",
      "epoch = 312 accuracy (train, test): (6.1107, 6.1080), rmse (train, test): (0.782657, 0.924529)\n",
      "epoch = 313 accuracy (train, test): (6.1107, 6.1080), rmse (train, test): (0.782553, 0.924534)\n",
      "epoch = 314 accuracy (train, test): (6.1107, 6.1080), rmse (train, test): (0.782449, 0.924538)\n",
      "epoch = 315 accuracy (train, test): (6.1107, 6.1080), rmse (train, test): (0.782347, 0.924542)\n",
      "epoch = 316 accuracy (train, test): (6.1107, 6.1080), rmse (train, test): (0.782246, 0.924547)\n",
      "epoch = 317 accuracy (train, test): (6.1107, 6.1080), rmse (train, test): (0.782147, 0.924551)\n",
      "epoch = 318 accuracy (train, test): (6.1107, 6.1080), rmse (train, test): (0.782049, 0.924555)\n",
      "epoch = 319 accuracy (train, test): (6.1107, 6.1080), rmse (train, test): (0.781952, 0.924560)\n",
      "epoch = 320 accuracy (train, test): (6.1107, 6.1080), rmse (train, test): (0.781856, 0.924564)\n",
      "epoch = 321 accuracy (train, test): (6.1107, 6.1080), rmse (train, test): (0.781762, 0.924568)\n",
      "epoch = 322 accuracy (train, test): (6.1107, 6.1080), rmse (train, test): (0.781669, 0.924572)\n",
      "epoch = 323 accuracy (train, test): (6.1107, 6.1080), rmse (train, test): (0.781577, 0.924577)\n",
      "epoch = 324 accuracy (train, test): (6.1107, 6.1080), rmse (train, test): (0.781486, 0.924581)\n",
      "epoch = 325 accuracy (train, test): (6.1107, 6.1080), rmse (train, test): (0.781397, 0.924585)\n",
      "epoch = 326 accuracy (train, test): (6.1107, 6.1080), rmse (train, test): (0.781308, 0.924589)\n",
      "epoch = 327 accuracy (train, test): (6.1107, 6.1080), rmse (train, test): (0.781221, 0.924593)\n",
      "epoch = 328 accuracy (train, test): (6.1107, 6.1080), rmse (train, test): (0.781135, 0.924597)\n",
      "epoch = 329 accuracy (train, test): (6.1107, 6.1080), rmse (train, test): (0.781050, 0.924601)\n",
      "epoch = 330 accuracy (train, test): (6.1107, 6.1080), rmse (train, test): (0.780966, 0.924606)\n",
      "epoch = 331 accuracy (train, test): (6.1107, 6.1080), rmse (train, test): (0.780883, 0.924610)\n",
      "epoch = 332 accuracy (train, test): (6.1107, 6.1080), rmse (train, test): (0.780801, 0.924614)\n",
      "epoch = 333 accuracy (train, test): (6.1107, 6.1080), rmse (train, test): (0.780720, 0.924618)\n",
      "epoch = 334 accuracy (train, test): (6.1107, 6.1080), rmse (train, test): (0.780640, 0.924622)\n",
      "epoch = 335 accuracy (train, test): (6.1107, 6.1080), rmse (train, test): (0.780561, 0.924626)\n",
      "epoch = 336 accuracy (train, test): (6.1107, 6.1080), rmse (train, test): (0.780484, 0.924630)\n",
      "epoch = 337 accuracy (train, test): (6.1107, 6.1080), rmse (train, test): (0.780407, 0.924634)\n",
      "epoch = 338 accuracy (train, test): (6.1107, 6.1080), rmse (train, test): (0.780331, 0.924637)\n",
      "epoch = 339 accuracy (train, test): (6.1107, 6.1080), rmse (train, test): (0.780256, 0.924641)\n",
      "epoch = 340 accuracy (train, test): (6.1107, 6.1080), rmse (train, test): (0.780182, 0.924645)\n",
      "epoch = 341 accuracy (train, test): (6.1107, 6.1080), rmse (train, test): (0.780109, 0.924649)\n",
      "epoch = 342 accuracy (train, test): (6.1107, 6.1080), rmse (train, test): (0.780037, 0.924653)\n",
      "epoch = 343 accuracy (train, test): (6.1107, 6.1080), rmse (train, test): (0.779966, 0.924657)\n",
      "epoch = 344 accuracy (train, test): (6.1107, 6.1080), rmse (train, test): (0.779896, 0.924661)\n",
      "epoch = 345 accuracy (train, test): (6.1107, 6.1080), rmse (train, test): (0.779826, 0.924664)\n",
      "epoch = 346 accuracy (train, test): (6.1107, 6.1080), rmse (train, test): (0.779758, 0.924668)\n",
      "epoch = 347 accuracy (train, test): (6.1107, 6.1080), rmse (train, test): (0.779690, 0.924672)\n"
     ]
    },
    {
     "name": "stdout",
     "output_type": "stream",
     "text": [
      "epoch = 348 accuracy (train, test): (6.1107, 6.1080), rmse (train, test): (0.779623, 0.924676)\n",
      "epoch = 349 accuracy (train, test): (6.1107, 6.1080), rmse (train, test): (0.779557, 0.924680)\n",
      "epoch = 350 accuracy (train, test): (6.1107, 6.1080), rmse (train, test): (0.779492, 0.924683)\n",
      "epoch = 351 accuracy (train, test): (6.1107, 6.1080), rmse (train, test): (0.779427, 0.924687)\n",
      "epoch = 352 accuracy (train, test): (6.1107, 6.1080), rmse (train, test): (0.779364, 0.924691)\n",
      "epoch = 353 accuracy (train, test): (6.1107, 6.1080), rmse (train, test): (0.779301, 0.924694)\n",
      "epoch = 354 accuracy (train, test): (6.1107, 6.1080), rmse (train, test): (0.779239, 0.924698)\n",
      "epoch = 355 accuracy (train, test): (6.1107, 6.1080), rmse (train, test): (0.779178, 0.924702)\n",
      "epoch = 356 accuracy (train, test): (6.1107, 6.1080), rmse (train, test): (0.779117, 0.924705)\n",
      "epoch = 357 accuracy (train, test): (6.1107, 6.1080), rmse (train, test): (0.779057, 0.924709)\n",
      "epoch = 358 accuracy (train, test): (6.1107, 6.1080), rmse (train, test): (0.778998, 0.924713)\n",
      "epoch = 359 accuracy (train, test): (6.1107, 6.1080), rmse (train, test): (0.778940, 0.924716)\n",
      "epoch = 360 accuracy (train, test): (6.1107, 6.1080), rmse (train, test): (0.778883, 0.924720)\n",
      "epoch = 361 accuracy (train, test): (6.1107, 6.1080), rmse (train, test): (0.778826, 0.924723)\n",
      "epoch = 362 accuracy (train, test): (6.1107, 6.1080), rmse (train, test): (0.778769, 0.924727)\n",
      "epoch = 363 accuracy (train, test): (6.1107, 6.1080), rmse (train, test): (0.778714, 0.924730)\n",
      "epoch = 364 accuracy (train, test): (6.1107, 6.1080), rmse (train, test): (0.778659, 0.924734)\n",
      "epoch = 365 accuracy (train, test): (6.1107, 6.1080), rmse (train, test): (0.778605, 0.924737)\n",
      "epoch = 366 accuracy (train, test): (6.1107, 6.1080), rmse (train, test): (0.778551, 0.924741)\n",
      "epoch = 367 accuracy (train, test): (6.1107, 6.1080), rmse (train, test): (0.778499, 0.924744)\n",
      "epoch = 368 accuracy (train, test): (6.1107, 6.1080), rmse (train, test): (0.778446, 0.924748)\n",
      "epoch = 369 accuracy (train, test): (6.1107, 6.1080), rmse (train, test): (0.778395, 0.924751)\n",
      "epoch = 370 accuracy (train, test): (6.1107, 6.1080), rmse (train, test): (0.778344, 0.924755)\n",
      "epoch = 371 accuracy (train, test): (6.1107, 6.1080), rmse (train, test): (0.778294, 0.924758)\n",
      "epoch = 372 accuracy (train, test): (6.1107, 6.1080), rmse (train, test): (0.778244, 0.924761)\n",
      "epoch = 373 accuracy (train, test): (6.1107, 6.1080), rmse (train, test): (0.778195, 0.924765)\n",
      "epoch = 374 accuracy (train, test): (6.1107, 6.1080), rmse (train, test): (0.778146, 0.924768)\n",
      "epoch = 375 accuracy (train, test): (6.1107, 6.1080), rmse (train, test): (0.778098, 0.924772)\n",
      "epoch = 376 accuracy (train, test): (6.1107, 6.1080), rmse (train, test): (0.778051, 0.924775)\n",
      "epoch = 377 accuracy (train, test): (6.1107, 6.1080), rmse (train, test): (0.778004, 0.924778)\n",
      "epoch = 378 accuracy (train, test): (6.1107, 6.1080), rmse (train, test): (0.777958, 0.924782)\n",
      "epoch = 379 accuracy (train, test): (6.1107, 6.1080), rmse (train, test): (0.777912, 0.924785)\n",
      "epoch = 380 accuracy (train, test): (6.1107, 6.1080), rmse (train, test): (0.777867, 0.924788)\n",
      "epoch = 381 accuracy (train, test): (6.1107, 6.1080), rmse (train, test): (0.777822, 0.924791)\n",
      "epoch = 382 accuracy (train, test): (6.1107, 6.1080), rmse (train, test): (0.777778, 0.924795)\n",
      "epoch = 383 accuracy (train, test): (6.1107, 6.1080), rmse (train, test): (0.777734, 0.924798)\n",
      "epoch = 384 accuracy (train, test): (6.1107, 6.1080), rmse (train, test): (0.777691, 0.924801)\n",
      "epoch = 385 accuracy (train, test): (6.1107, 6.1080), rmse (train, test): (0.777649, 0.924804)\n",
      "epoch = 386 accuracy (train, test): (6.1107, 6.1080), rmse (train, test): (0.777606, 0.924807)\n",
      "epoch = 387 accuracy (train, test): (6.1107, 6.1080), rmse (train, test): (0.777565, 0.924811)\n",
      "epoch = 388 accuracy (train, test): (6.1107, 6.1080), rmse (train, test): (0.777524, 0.924814)\n",
      "epoch = 389 accuracy (train, test): (6.1107, 6.1080), rmse (train, test): (0.777483, 0.924817)\n",
      "epoch = 390 accuracy (train, test): (6.1107, 6.1080), rmse (train, test): (0.777443, 0.924820)\n",
      "epoch = 391 accuracy (train, test): (6.1107, 6.1080), rmse (train, test): (0.777403, 0.924823)\n",
      "epoch = 392 accuracy (train, test): (6.1107, 6.1080), rmse (train, test): (0.777364, 0.924826)\n",
      "epoch = 393 accuracy (train, test): (6.1107, 6.1080), rmse (train, test): (0.777325, 0.924829)\n",
      "epoch = 394 accuracy (train, test): (6.1107, 6.1080), rmse (train, test): (0.777287, 0.924833)\n",
      "epoch = 395 accuracy (train, test): (6.1107, 6.1080), rmse (train, test): (0.777249, 0.924836)\n",
      "epoch = 396 accuracy (train, test): (6.1107, 6.1080), rmse (train, test): (0.777212, 0.924839)\n",
      "epoch = 397 accuracy (train, test): (6.1107, 6.1080), rmse (train, test): (0.777174, 0.924842)\n",
      "epoch = 398 accuracy (train, test): (6.1107, 6.1080), rmse (train, test): (0.777138, 0.924845)\n",
      "epoch = 399 accuracy (train, test): (6.1107, 6.1080), rmse (train, test): (0.777102, 0.924848)\n",
      "epoch = 400 accuracy (train, test): (6.1107, 6.1080), rmse (train, test): (0.777066, 0.924851)\n"
     ]
    }
   ],
   "source": [
    "# gamma: Learning rate\n",
    "P, Q, bu, bi, train_rmse_vector, test_rmse_vector, train_accuracy_vector, train_accuracy_vector, gamma, lmbda \\\n",
    "= Matrix_Factorization_baselines_SGD(R_train , R_test, R_rated_indexes_train, R_rated_indexes_test, mu, k=18 \n",
    "                                     ,sigma = 0.002,\n",
    "                           gamma= 0.01, lmbda = 0.15, alpha = 0., \n",
    "                           n_epochs = 400, error_calc_frec = 1,\n",
    "                           accuracy_thres = 0, like = 1, dislike = -1)"
   ]
  },
  {
   "cell_type": "code",
   "execution_count": 159,
   "metadata": {},
   "outputs": [
    {
     "data": {
      "image/png": "[encoded data removed]",
      "text/plain": [
       "<matplotlib.figure.Figure at 0x128d32b00>"
      ]
     },
     "metadata": {},
     "output_type": "display_data"
    }
   ],
   "source": [
    "plt.plot(train_rmse_vector)\n",
    "plt.plot(test_rmse_vector)\n",
    "plt.show()"
   ]
  },
  {
   "cell_type": "code",
   "execution_count": 153,
   "metadata": {},
   "outputs": [
    {
     "data": {
      "image/png": "[encoded data removed]",
      "text/plain": [
       "<matplotlib.figure.Figure at 0x13992c978>"
      ]
     },
     "metadata": {},
     "output_type": "display_data"
    }
   ],
   "source": [
    "# Lambda = 0.1\n",
    "plt.plot(train_rmse_vector)\n",
    "plt.plot(test_rmse_vector)\n",
    "plt.show()"
   ]
  },
  {
   "cell_type": "markdown",
   "metadata": {},
   "source": [
    "# SVD"
   ]
  },
  {
   "cell_type": "code",
   "execution_count": 160,
   "metadata": {
    "collapsed": true
   },
   "outputs": [],
   "source": [
    "from cf_helper_2 import SVD, rmse, getBaselineEstimates"
   ]
  },
  {
   "cell_type": "code",
   "execution_count": 121,
   "metadata": {
    "collapsed": true
   },
   "outputs": [],
   "source": [
    "# k=800, 20\n",
    "SVD_Predictions = SVD(R_train, k=20)"
   ]
  },
  {
   "cell_type": "code",
   "execution_count": 122,
   "metadata": {},
   "outputs": [
    {
     "name": "stdout",
     "output_type": "stream",
     "text": [
      "Training: 2.38593300816\n",
      "Testing: 2.71598855321\n"
     ]
    }
   ],
   "source": [
    "print('Training:',rmse(R_train, SVD_Predictions))\n",
    "print('Testing:',rmse(R_test, SVD_Predictions))"
   ]
  },
  {
   "cell_type": "code",
   "execution_count": 84,
   "metadata": {
    "collapsed": true
   },
   "outputs": [],
   "source": [
    "mu = R_train[R_train.nonzero()].mean()"
   ]
  },
  {
   "cell_type": "code",
   "execution_count": 61,
   "metadata": {
    "collapsed": true
   },
   "outputs": [],
   "source": [
    "R_train_norm = (R_train - mu)*(R_train>0)"
   ]
  },
  {
   "cell_type": "code",
   "execution_count": 86,
   "metadata": {
    "collapsed": true
   },
   "outputs": [],
   "source": [
    "SVD_Predictions_norm = SVD(R_train_norm, k=20) + mu"
   ]
  },
  {
   "cell_type": "code",
   "execution_count": 87,
   "metadata": {},
   "outputs": [
    {
     "name": "stdout",
     "output_type": "stream",
     "text": [
      "Training: 0.910286953239\n",
      "Testing: 1.04819270122\n"
     ]
    }
   ],
   "source": [
    "print('Training:',rmse(R_train, SVD_Predictions_norm))\n",
    "print('Testing:',rmse(R_test, SVD_Predictions_norm))"
   ]
  },
  {
   "cell_type": "code",
   "execution_count": 162,
   "metadata": {
    "collapsed": true
   },
   "outputs": [],
   "source": [
    "bii, bui = getBaselineEstimates(R_train, mu, lambda1 = 0, lambda2 = 0, items_first = True, not_rated = 0)\n",
    "baseline = mu + bui + bii.T"
   ]
  },
  {
   "cell_type": "code",
   "execution_count": 166,
   "metadata": {},
   "outputs": [
    {
     "data": {
      "text/plain": [
       "((943, 1), (1682, 1))"
      ]
     },
     "execution_count": 166,
     "metadata": {},
     "output_type": "execute_result"
    }
   ],
   "source": [
    "bii.shape, bui.shape"
   ]
  },
  {
   "cell_type": "code",
   "execution_count": 89,
   "metadata": {
    "collapsed": true
   },
   "outputs": [],
   "source": [
    "R_train_baseline = (R_train - baseline.T)*(R_train>0)"
   ]
  },
  {
   "cell_type": "code",
   "execution_count": 91,
   "metadata": {
    "collapsed": true
   },
   "outputs": [],
   "source": [
    "SVD_Predictions_baseline = SVD(R_train_baseline, k=20) + baseline.T"
   ]
  },
  {
   "cell_type": "code",
   "execution_count": 110,
   "metadata": {},
   "outputs": [
    {
     "name": "stdout",
     "output_type": "stream",
     "text": [
      "Training: 0.792122927085\n",
      "Testing: 0.93954642185\n"
     ]
    }
   ],
   "source": [
    "# k=500, k= 100, K=10, k = 5, k=18\n",
    "SVD_Predictions_baseline_10 = SVD(R_train_baseline, k=18) + baseline.T\n",
    "print('Training:',rmse(R_train, SVD_Predictions_baseline_10))\n",
    "print('Testing:',rmse(R_test, SVD_Predictions_baseline_10))"
   ]
  }
 ],
 "metadata": {
  "anaconda-cloud": {},
  "kernelspec": {
   "display_name": "Python 3",
   "language": "python",
   "name": "python3"
  },
  "language_info": {
   "codemirror_mode": {
    "name": "ipython",
    "version": 3
   },
   "file_extension": ".py",
   "mimetype": "text/x-python",
   "name": "python",
   "nbconvert_exporter": "python",
   "pygments_lexer": "ipython3",
   "version": "3.6.2"
  },
  "toc": {
   "nav_menu": {},
   "number_sections": true,
   "sideBar": true,
   "skip_h1_title": true,
   "toc_cell": false,
   "toc_position": {},
   "toc_section_display": "block",
   "toc_window_display": false
  }
 },
 "nbformat": 4,
 "nbformat_minor": 1
}
