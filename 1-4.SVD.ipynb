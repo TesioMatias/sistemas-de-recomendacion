{
 "cells": [
  {
   "cell_type": "markdown",
   "metadata": {},
   "source": [
    "# SVD (Singular Value Decomposition)\n",
    "\n",
    "$\\huge R = P_{mk}S_{kk}Q^T_{kn}$\n",
    "\n",
    "- https://d3c33hcgiwev3.cloudfront.net/PZRCVq_6EeaoWA59UGLCkA.processed/full/540p/index.mp4?Expires=1513382400&Signature=h0kZOCNli45RxtcBxksVva5SAixX5X0GdmbPCiJMLldT6NInjrFxZoAVoF1JgXBCyMD-B0sjh-Ymo8aMTTDBftY9nWo0fN3d6KO4qdtepcmB3ocof3UQ-58pFvM4PbYLIaYXS0D~bynrjmoEMOukr8~yAc1dKDmXbmNsBrtVRUw_&Key-Pair-Id=APKAJLTNE6QMUY6HBC5A\n",
    "- La matriz S es diagonal. Sus valores estan ordenados de mayor a menor. \n",
    "- Cada valor de la diagonal de S indica que tan importante es ese feature\n",
    "- Puedo quedarme con los primeros y aproximar la matriz R\n",
    "- Tengo que definir las peliculas no calificadas con algun valor \n",
    "- Tanto P como Q son ortogonales\n",
    "- Si R es una matriz real, la decomposición existe\n",
    "- Elegimos el K y nos garantiza que el la mejor aproximación de rango K (Rank K best aproximation) Trunkated SVD"
   ]
  },
  {
   "cell_type": "code",
   "execution_count": 5,
   "metadata": {},
   "outputs": [],
   "source": [
    "from scipy.sparse.linalg import svds\n",
    "import pandas as pd\n",
    "import numpy as np"
   ]
  },
  {
   "cell_type": "code",
   "execution_count": 19,
   "metadata": {},
   "outputs": [],
   "source": [
    "def SVD(users_items_train_matrix, k = 20):\n",
    "    #get SVD components from train matrix. Choose k.\n",
    "    u, s, vt = svds(users_items_train_matrix, k)\n",
    "    s_diag_matrix=np.diag(s)\n",
    "    X_pred = np.dot(np.dot(u, s_diag_matrix), vt)\n",
    "    return X_pred"
   ]
  },
  {
   "cell_type": "code",
   "execution_count": 21,
   "metadata": {},
   "outputs": [],
   "source": [
    "def rmse(R, R_estimated):\n",
    "    # No es conmutativa! Primero va ground truth, normalmente R_test\n",
    "    # Segundo van las predicciones\n",
    "    # Es necesario el orden para que el nonzero sea del ground truth\n",
    "    nonzeros = R.nonzero()\n",
    "    prediction = R_estimated[nonzeros].flatten()\n",
    "    ground_truth = R[nonzeros].flatten()\n",
    "    return np.sqrt(((prediction - ground_truth)**2).sum()/ground_truth.shape[0])"
   ]
  },
  {
   "cell_type": "code",
   "execution_count": 22,
   "metadata": {},
   "outputs": [],
   "source": [
    "header = ['userId', 'movieId', 'rating', 'timestamp']\n",
    "df = pd.read_csv('./ml-100k/u.data', sep='\\t', names=header)\n",
    "n_users = df.userId.unique().shape[0]\n",
    "n_items = df.movieId.unique().shape[0]"
   ]
  },
  {
   "cell_type": "code",
   "execution_count": 23,
   "metadata": {},
   "outputs": [],
   "source": [
    "from sklearn.model_selection import train_test_split\n",
    "train_data, test_data = train_test_split(df, test_size=0.25)"
   ]
  },
  {
   "cell_type": "code",
   "execution_count": 24,
   "metadata": {},
   "outputs": [],
   "source": [
    "#Create two user-item matrices, one for training and another for testing\n",
    "train_data_matrix = np.zeros((n_users, n_items))\n",
    "for line in train_data.itertuples():\n",
    "    train_data_matrix[line[1]-1, line[2]-1] = line[3]\n",
    "\n",
    "test_data_matrix = np.zeros((n_users, n_items))\n",
    "for line in test_data.itertuples():\n",
    "    test_data_matrix[line[1]-1, line[2]-1] = line[3]"
   ]
  },
  {
   "cell_type": "markdown",
   "metadata": {},
   "source": [
    "# Aplico SVD directamente"
   ]
  },
  {
   "cell_type": "code",
   "execution_count": 25,
   "metadata": {},
   "outputs": [],
   "source": [
    "SVD_Predictions = SVD(train_data_matrix, k=20)"
   ]
  },
  {
   "cell_type": "code",
   "execution_count": 27,
   "metadata": {},
   "outputs": [
    {
     "name": "stdout",
     "output_type": "stream",
     "text": [
      "Training: 2.39053072132499\n",
      "Testing: 2.712064971324326\n"
     ]
    }
   ],
   "source": [
    "print('Training:',rmse(train_data_matrix, SVD_Predictions))\n",
    "print('Testing:',rmse(test_data_matrix, SVD_Predictions))"
   ]
  },
  {
   "cell_type": "markdown",
   "metadata": {},
   "source": [
    "# Que pasa si predigo con la media:"
   ]
  },
  {
   "cell_type": "code",
   "execution_count": 31,
   "metadata": {},
   "outputs": [
    {
     "name": "stdout",
     "output_type": "stream",
     "text": [
      "3.5327466666666667\n"
     ]
    }
   ],
   "source": [
    "mu = train_data_matrix[train_data_matrix.nonzero()].mean()\n",
    "print(mu)"
   ]
  },
  {
   "cell_type": "code",
   "execution_count": 38,
   "metadata": {},
   "outputs": [
    {
     "name": "stdout",
     "output_type": "stream",
     "text": [
      "Training: 1.1253892611694656\n",
      "Testing: 1.1265184798799845\n"
     ]
    }
   ],
   "source": [
    "print('Training:',rmse(train_data_matrix, mu*np.ones(train_data_matrix.shape)))\n",
    "print('Testing:',rmse(test_data_matrix, mu*np.ones(test_data_matrix.shape)))"
   ]
  },
  {
   "cell_type": "markdown",
   "metadata": {},
   "source": [
    "# Agrego la media al SVD"
   ]
  },
  {
   "cell_type": "code",
   "execution_count": 49,
   "metadata": {},
   "outputs": [
    {
     "data": {
      "text/plain": [
       "array([[5., 3., 0., ..., 0., 0., 0.],\n",
       "       [0., 0., 0., ..., 0., 0., 0.],\n",
       "       [0., 0., 0., ..., 0., 0., 0.],\n",
       "       ...,\n",
       "       [5., 0., 0., ..., 0., 0., 0.],\n",
       "       [0., 0., 0., ..., 0., 0., 0.],\n",
       "       [0., 5., 0., ..., 0., 0., 0.]])"
      ]
     },
     "execution_count": 49,
     "metadata": {},
     "output_type": "execute_result"
    }
   ],
   "source": [
    "train_data_matrix"
   ]
  },
  {
   "cell_type": "code",
   "execution_count": 53,
   "metadata": {},
   "outputs": [],
   "source": [
    "# Resto la media solo a los distinto de cero\n",
    "R_train_norm = (train_data_matrix - mu)*(train_data_matrix>0) "
   ]
  },
  {
   "cell_type": "code",
   "execution_count": 54,
   "metadata": {},
   "outputs": [],
   "source": [
    "SVD_Predictions_norm = SVD(R_train_norm, k=20) + mu"
   ]
  },
  {
   "cell_type": "code",
   "execution_count": 55,
   "metadata": {},
   "outputs": [
    {
     "name": "stdout",
     "output_type": "stream",
     "text": [
      "Training: 0.9105254513274095\n",
      "Testing: 1.050827631113782\n"
     ]
    }
   ],
   "source": [
    "print('Training:',rmse(train_data_matrix, SVD_Predictions_norm))\n",
    "print('Testing:',rmse(test_data_matrix, SVD_Predictions_norm))"
   ]
  },
  {
   "cell_type": "markdown",
   "metadata": {},
   "source": [
    "# Agrego baselines"
   ]
  },
  {
   "cell_type": "code",
   "execution_count": 56,
   "metadata": {},
   "outputs": [],
   "source": [
    "from cf_helper_2 import getBaselineEstimates"
   ]
  },
  {
   "cell_type": "code",
   "execution_count": 63,
   "metadata": {},
   "outputs": [],
   "source": [
    "# Estamos haciendo broadcasting\n",
    "bii, bui = getBaselineEstimates(train_data_matrix, mu, lambda1 = 0, lambda2 = 0, items_first = True, not_rated = 0)\n",
    "baseline = mu + bui + bii.T"
   ]
  },
  {
   "cell_type": "code",
   "execution_count": 64,
   "metadata": {},
   "outputs": [
    {
     "data": {
      "text/plain": [
       "((1682, 1), (943, 1), (1682, 943))"
      ]
     },
     "execution_count": 64,
     "metadata": {},
     "output_type": "execute_result"
    }
   ],
   "source": [
    "bui.shape, bii.shape, baseline.shape"
   ]
  },
  {
   "cell_type": "code",
   "execution_count": 67,
   "metadata": {},
   "outputs": [],
   "source": [
    "R_train_baseline = (train_data_matrix - baseline.T)*(train_data_matrix>0)"
   ]
  },
  {
   "cell_type": "code",
   "execution_count": 68,
   "metadata": {},
   "outputs": [],
   "source": [
    "SVD_Predictions_baseline = SVD(R_train_baseline, k=20) + baseline.T"
   ]
  },
  {
   "cell_type": "code",
   "execution_count": 69,
   "metadata": {},
   "outputs": [
    {
     "name": "stdout",
     "output_type": "stream",
     "text": [
      "Training: 0.784368801661053\n",
      "Testing: 0.9350672849030011\n"
     ]
    }
   ],
   "source": [
    "print('Training:',rmse(train_data_matrix, SVD_Predictions_baseline))\n",
    "print('Testing:',rmse(test_data_matrix, SVD_Predictions_baseline))"
   ]
  },
  {
   "cell_type": "code",
   "execution_count": null,
   "metadata": {},
   "outputs": [],
   "source": []
  }
 ],
 "metadata": {
  "kernelspec": {
   "display_name": "Python 3",
   "language": "python",
   "name": "python3"
  },
  "language_info": {
   "codemirror_mode": {
    "name": "ipython",
    "version": 3
   },
   "file_extension": ".py",
   "mimetype": "text/x-python",
   "name": "python",
   "nbconvert_exporter": "python",
   "pygments_lexer": "ipython3",
   "version": "3.6.6"
  }
 },
 "nbformat": 4,
 "nbformat_minor": 2
}
