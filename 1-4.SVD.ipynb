{
 "cells": [
  {
   "cell_type": "markdown",
   "metadata": {},
   "source": [
    "# SVD (Singular Value Decomposition)\n",
    "\n",
    "$\\huge R = P_{mk}S_{kk}Q^T_{kn}$\n",
    "\n",
    "- La matriz S es diagonal. Sus valores estan ordenados de mayor a menor. \n",
    "- Cada valor de la diagonal de S indica que tan importante es ese feature\n",
    "- Puedo quedarme con los primeros y aproximar la matriz R\n",
    "- Tengo que definir las peliculas no calificadas con algun valor \n",
    "- Tanto P como Q son ortogonales\n",
    "- Si R es una matriz real, la decomposición existe\n",
    "- Elegimos el K y nos garantiza que el la mejor aproximación de rango K (Rank K best aproximation) Trunkated SVD"
   ]
  },
  {
   "cell_type": "code",
   "execution_count": 1,
   "metadata": {},
   "outputs": [],
   "source": [
    "from scipy.sparse.linalg import svds\n",
    "import pandas as pd\n",
    "import numpy as np"
   ]
  },
  {
   "cell_type": "code",
   "execution_count": 3,
   "metadata": {},
   "outputs": [],
   "source": [
    "def SVD(users_items_train_matrix, k = 20):\n",
    "    #get SVD components from train matrix. Choose k.\n",
    "    u, s, vt = svds(users_items_train_matrix, k)\n",
    "    s_diag_matrix=np.diag(s)\n",
    "    X_pred = np.dot(np.dot(u, s_diag_matrix), vt)\n",
    "    return X_pred"
   ]
  },
  {
   "cell_type": "code",
   "execution_count": 4,
   "metadata": {},
   "outputs": [],
   "source": [
    "def rmse(R, R_estimated):\n",
    "    # No es conmutativa! Primero va ground truth, normalmente R_test\n",
    "    # Segundo van las predicciones\n",
    "    # Es necesario el orden para que el nonzero sea del ground truth\n",
    "    nonzeros = R.nonzero()\n",
    "    prediction = R_estimated[nonzeros].flatten()\n",
    "    ground_truth = R[nonzeros].flatten()\n",
    "    return np.sqrt(((prediction - ground_truth)**2).sum()/ground_truth.shape[0])"
   ]
  },
  {
   "cell_type": "code",
   "execution_count": 9,
   "metadata": {},
   "outputs": [],
   "source": [
    "header = ['userId', 'movieId', 'rating', 'timestamp']\n",
    "df = pd.read_csv('./ml-100k/u.data', sep='\\t', names=header)\n",
    "n_users = df.userId.unique().shape[0]\n",
    "n_items = df.movieId.unique().shape[0]"
   ]
  },
  {
   "cell_type": "code",
   "execution_count": 6,
   "metadata": {},
   "outputs": [],
   "source": [
    "from sklearn.model_selection import train_test_split\n",
    "train_data, test_data = train_test_split(df, test_size=0.2)"
   ]
  },
  {
   "cell_type": "code",
   "execution_count": 11,
   "metadata": {},
   "outputs": [
    {
     "data": {
      "text/plain": [
       "(80000, 20000)"
      ]
     },
     "execution_count": 11,
     "metadata": {},
     "output_type": "execute_result"
    }
   ],
   "source": [
    "n_split = 20000\n",
    "train_data = df[n_split:]\n",
    "test_data = df[:n_split]\n",
    "len(train_data), len(test_data)"
   ]
  },
  {
   "cell_type": "code",
   "execution_count": 13,
   "metadata": {},
   "outputs": [
    {
     "data": {
      "text/html": [
       "<div>\n",
       "<style scoped>\n",
       "    .dataframe tbody tr th:only-of-type {\n",
       "        vertical-align: middle;\n",
       "    }\n",
       "\n",
       "    .dataframe tbody tr th {\n",
       "        vertical-align: top;\n",
       "    }\n",
       "\n",
       "    .dataframe thead th {\n",
       "        text-align: right;\n",
       "    }\n",
       "</style>\n",
       "<table border=\"1\" class=\"dataframe\">\n",
       "  <thead>\n",
       "    <tr style=\"text-align: right;\">\n",
       "      <th></th>\n",
       "      <th>userId</th>\n",
       "      <th>movieId</th>\n",
       "      <th>rating</th>\n",
       "      <th>timestamp</th>\n",
       "    </tr>\n",
       "  </thead>\n",
       "  <tbody>\n",
       "    <tr>\n",
       "      <th>0</th>\n",
       "      <td>196</td>\n",
       "      <td>242</td>\n",
       "      <td>3</td>\n",
       "      <td>881250949</td>\n",
       "    </tr>\n",
       "    <tr>\n",
       "      <th>1</th>\n",
       "      <td>186</td>\n",
       "      <td>302</td>\n",
       "      <td>3</td>\n",
       "      <td>891717742</td>\n",
       "    </tr>\n",
       "    <tr>\n",
       "      <th>2</th>\n",
       "      <td>22</td>\n",
       "      <td>377</td>\n",
       "      <td>1</td>\n",
       "      <td>878887116</td>\n",
       "    </tr>\n",
       "    <tr>\n",
       "      <th>3</th>\n",
       "      <td>244</td>\n",
       "      <td>51</td>\n",
       "      <td>2</td>\n",
       "      <td>880606923</td>\n",
       "    </tr>\n",
       "    <tr>\n",
       "      <th>4</th>\n",
       "      <td>166</td>\n",
       "      <td>346</td>\n",
       "      <td>1</td>\n",
       "      <td>886397596</td>\n",
       "    </tr>\n",
       "    <tr>\n",
       "      <th>5</th>\n",
       "      <td>298</td>\n",
       "      <td>474</td>\n",
       "      <td>4</td>\n",
       "      <td>884182806</td>\n",
       "    </tr>\n",
       "    <tr>\n",
       "      <th>6</th>\n",
       "      <td>115</td>\n",
       "      <td>265</td>\n",
       "      <td>2</td>\n",
       "      <td>881171488</td>\n",
       "    </tr>\n",
       "    <tr>\n",
       "      <th>7</th>\n",
       "      <td>253</td>\n",
       "      <td>465</td>\n",
       "      <td>5</td>\n",
       "      <td>891628467</td>\n",
       "    </tr>\n",
       "    <tr>\n",
       "      <th>8</th>\n",
       "      <td>305</td>\n",
       "      <td>451</td>\n",
       "      <td>3</td>\n",
       "      <td>886324817</td>\n",
       "    </tr>\n",
       "    <tr>\n",
       "      <th>9</th>\n",
       "      <td>6</td>\n",
       "      <td>86</td>\n",
       "      <td>3</td>\n",
       "      <td>883603013</td>\n",
       "    </tr>\n",
       "    <tr>\n",
       "      <th>10</th>\n",
       "      <td>62</td>\n",
       "      <td>257</td>\n",
       "      <td>2</td>\n",
       "      <td>879372434</td>\n",
       "    </tr>\n",
       "    <tr>\n",
       "      <th>11</th>\n",
       "      <td>286</td>\n",
       "      <td>1014</td>\n",
       "      <td>5</td>\n",
       "      <td>879781125</td>\n",
       "    </tr>\n",
       "    <tr>\n",
       "      <th>12</th>\n",
       "      <td>200</td>\n",
       "      <td>222</td>\n",
       "      <td>5</td>\n",
       "      <td>876042340</td>\n",
       "    </tr>\n",
       "    <tr>\n",
       "      <th>13</th>\n",
       "      <td>210</td>\n",
       "      <td>40</td>\n",
       "      <td>3</td>\n",
       "      <td>891035994</td>\n",
       "    </tr>\n",
       "    <tr>\n",
       "      <th>14</th>\n",
       "      <td>224</td>\n",
       "      <td>29</td>\n",
       "      <td>3</td>\n",
       "      <td>888104457</td>\n",
       "    </tr>\n",
       "    <tr>\n",
       "      <th>15</th>\n",
       "      <td>303</td>\n",
       "      <td>785</td>\n",
       "      <td>3</td>\n",
       "      <td>879485318</td>\n",
       "    </tr>\n",
       "    <tr>\n",
       "      <th>16</th>\n",
       "      <td>122</td>\n",
       "      <td>387</td>\n",
       "      <td>5</td>\n",
       "      <td>879270459</td>\n",
       "    </tr>\n",
       "    <tr>\n",
       "      <th>17</th>\n",
       "      <td>194</td>\n",
       "      <td>274</td>\n",
       "      <td>2</td>\n",
       "      <td>879539794</td>\n",
       "    </tr>\n",
       "    <tr>\n",
       "      <th>18</th>\n",
       "      <td>291</td>\n",
       "      <td>1042</td>\n",
       "      <td>4</td>\n",
       "      <td>874834944</td>\n",
       "    </tr>\n",
       "    <tr>\n",
       "      <th>19</th>\n",
       "      <td>234</td>\n",
       "      <td>1184</td>\n",
       "      <td>2</td>\n",
       "      <td>892079237</td>\n",
       "    </tr>\n",
       "    <tr>\n",
       "      <th>20</th>\n",
       "      <td>119</td>\n",
       "      <td>392</td>\n",
       "      <td>4</td>\n",
       "      <td>886176814</td>\n",
       "    </tr>\n",
       "    <tr>\n",
       "      <th>21</th>\n",
       "      <td>167</td>\n",
       "      <td>486</td>\n",
       "      <td>4</td>\n",
       "      <td>892738452</td>\n",
       "    </tr>\n",
       "    <tr>\n",
       "      <th>22</th>\n",
       "      <td>299</td>\n",
       "      <td>144</td>\n",
       "      <td>4</td>\n",
       "      <td>877881320</td>\n",
       "    </tr>\n",
       "    <tr>\n",
       "      <th>23</th>\n",
       "      <td>291</td>\n",
       "      <td>118</td>\n",
       "      <td>2</td>\n",
       "      <td>874833878</td>\n",
       "    </tr>\n",
       "    <tr>\n",
       "      <th>24</th>\n",
       "      <td>308</td>\n",
       "      <td>1</td>\n",
       "      <td>4</td>\n",
       "      <td>887736532</td>\n",
       "    </tr>\n",
       "    <tr>\n",
       "      <th>25</th>\n",
       "      <td>95</td>\n",
       "      <td>546</td>\n",
       "      <td>2</td>\n",
       "      <td>879196566</td>\n",
       "    </tr>\n",
       "    <tr>\n",
       "      <th>26</th>\n",
       "      <td>38</td>\n",
       "      <td>95</td>\n",
       "      <td>5</td>\n",
       "      <td>892430094</td>\n",
       "    </tr>\n",
       "    <tr>\n",
       "      <th>27</th>\n",
       "      <td>102</td>\n",
       "      <td>768</td>\n",
       "      <td>2</td>\n",
       "      <td>883748450</td>\n",
       "    </tr>\n",
       "    <tr>\n",
       "      <th>28</th>\n",
       "      <td>63</td>\n",
       "      <td>277</td>\n",
       "      <td>4</td>\n",
       "      <td>875747401</td>\n",
       "    </tr>\n",
       "    <tr>\n",
       "      <th>29</th>\n",
       "      <td>160</td>\n",
       "      <td>234</td>\n",
       "      <td>5</td>\n",
       "      <td>876861185</td>\n",
       "    </tr>\n",
       "    <tr>\n",
       "      <th>...</th>\n",
       "      <td>...</td>\n",
       "      <td>...</td>\n",
       "      <td>...</td>\n",
       "      <td>...</td>\n",
       "    </tr>\n",
       "    <tr>\n",
       "      <th>19970</th>\n",
       "      <td>200</td>\n",
       "      <td>739</td>\n",
       "      <td>4</td>\n",
       "      <td>884130046</td>\n",
       "    </tr>\n",
       "    <tr>\n",
       "      <th>19971</th>\n",
       "      <td>370</td>\n",
       "      <td>153</td>\n",
       "      <td>2</td>\n",
       "      <td>879434832</td>\n",
       "    </tr>\n",
       "    <tr>\n",
       "      <th>19972</th>\n",
       "      <td>380</td>\n",
       "      <td>300</td>\n",
       "      <td>3</td>\n",
       "      <td>885481179</td>\n",
       "    </tr>\n",
       "    <tr>\n",
       "      <th>19973</th>\n",
       "      <td>20</td>\n",
       "      <td>87</td>\n",
       "      <td>5</td>\n",
       "      <td>879669746</td>\n",
       "    </tr>\n",
       "    <tr>\n",
       "      <th>19974</th>\n",
       "      <td>394</td>\n",
       "      <td>423</td>\n",
       "      <td>5</td>\n",
       "      <td>881057839</td>\n",
       "    </tr>\n",
       "    <tr>\n",
       "      <th>19975</th>\n",
       "      <td>452</td>\n",
       "      <td>641</td>\n",
       "      <td>3</td>\n",
       "      <td>875266415</td>\n",
       "    </tr>\n",
       "    <tr>\n",
       "      <th>19976</th>\n",
       "      <td>137</td>\n",
       "      <td>597</td>\n",
       "      <td>5</td>\n",
       "      <td>881432987</td>\n",
       "    </tr>\n",
       "    <tr>\n",
       "      <th>19977</th>\n",
       "      <td>241</td>\n",
       "      <td>302</td>\n",
       "      <td>3</td>\n",
       "      <td>887249576</td>\n",
       "    </tr>\n",
       "    <tr>\n",
       "      <th>19978</th>\n",
       "      <td>178</td>\n",
       "      <td>39</td>\n",
       "      <td>2</td>\n",
       "      <td>882827645</td>\n",
       "    </tr>\n",
       "    <tr>\n",
       "      <th>19979</th>\n",
       "      <td>204</td>\n",
       "      <td>874</td>\n",
       "      <td>3</td>\n",
       "      <td>892388976</td>\n",
       "    </tr>\n",
       "    <tr>\n",
       "      <th>19980</th>\n",
       "      <td>131</td>\n",
       "      <td>285</td>\n",
       "      <td>5</td>\n",
       "      <td>883681723</td>\n",
       "    </tr>\n",
       "    <tr>\n",
       "      <th>19981</th>\n",
       "      <td>59</td>\n",
       "      <td>173</td>\n",
       "      <td>5</td>\n",
       "      <td>888205144</td>\n",
       "    </tr>\n",
       "    <tr>\n",
       "      <th>19982</th>\n",
       "      <td>160</td>\n",
       "      <td>412</td>\n",
       "      <td>3</td>\n",
       "      <td>876768990</td>\n",
       "    </tr>\n",
       "    <tr>\n",
       "      <th>19983</th>\n",
       "      <td>44</td>\n",
       "      <td>161</td>\n",
       "      <td>4</td>\n",
       "      <td>878347634</td>\n",
       "    </tr>\n",
       "    <tr>\n",
       "      <th>19984</th>\n",
       "      <td>28</td>\n",
       "      <td>258</td>\n",
       "      <td>5</td>\n",
       "      <td>881955018</td>\n",
       "    </tr>\n",
       "    <tr>\n",
       "      <th>19985</th>\n",
       "      <td>436</td>\n",
       "      <td>546</td>\n",
       "      <td>3</td>\n",
       "      <td>887771826</td>\n",
       "    </tr>\n",
       "    <tr>\n",
       "      <th>19986</th>\n",
       "      <td>276</td>\n",
       "      <td>198</td>\n",
       "      <td>5</td>\n",
       "      <td>874795949</td>\n",
       "    </tr>\n",
       "    <tr>\n",
       "      <th>19987</th>\n",
       "      <td>275</td>\n",
       "      <td>435</td>\n",
       "      <td>3</td>\n",
       "      <td>880313886</td>\n",
       "    </tr>\n",
       "    <tr>\n",
       "      <th>19988</th>\n",
       "      <td>110</td>\n",
       "      <td>423</td>\n",
       "      <td>4</td>\n",
       "      <td>886987952</td>\n",
       "    </tr>\n",
       "    <tr>\n",
       "      <th>19989</th>\n",
       "      <td>456</td>\n",
       "      <td>294</td>\n",
       "      <td>1</td>\n",
       "      <td>881375667</td>\n",
       "    </tr>\n",
       "    <tr>\n",
       "      <th>19990</th>\n",
       "      <td>457</td>\n",
       "      <td>366</td>\n",
       "      <td>4</td>\n",
       "      <td>882549287</td>\n",
       "    </tr>\n",
       "    <tr>\n",
       "      <th>19991</th>\n",
       "      <td>406</td>\n",
       "      <td>24</td>\n",
       "      <td>3</td>\n",
       "      <td>879540026</td>\n",
       "    </tr>\n",
       "    <tr>\n",
       "      <th>19992</th>\n",
       "      <td>450</td>\n",
       "      <td>2</td>\n",
       "      <td>4</td>\n",
       "      <td>882474001</td>\n",
       "    </tr>\n",
       "    <tr>\n",
       "      <th>19993</th>\n",
       "      <td>234</td>\n",
       "      <td>434</td>\n",
       "      <td>3</td>\n",
       "      <td>892079288</td>\n",
       "    </tr>\n",
       "    <tr>\n",
       "      <th>19994</th>\n",
       "      <td>23</td>\n",
       "      <td>109</td>\n",
       "      <td>3</td>\n",
       "      <td>874784466</td>\n",
       "    </tr>\n",
       "    <tr>\n",
       "      <th>19995</th>\n",
       "      <td>21</td>\n",
       "      <td>320</td>\n",
       "      <td>3</td>\n",
       "      <td>874951658</td>\n",
       "    </tr>\n",
       "    <tr>\n",
       "      <th>19996</th>\n",
       "      <td>1</td>\n",
       "      <td>170</td>\n",
       "      <td>5</td>\n",
       "      <td>876892856</td>\n",
       "    </tr>\n",
       "    <tr>\n",
       "      <th>19997</th>\n",
       "      <td>436</td>\n",
       "      <td>66</td>\n",
       "      <td>5</td>\n",
       "      <td>887770457</td>\n",
       "    </tr>\n",
       "    <tr>\n",
       "      <th>19998</th>\n",
       "      <td>385</td>\n",
       "      <td>1021</td>\n",
       "      <td>5</td>\n",
       "      <td>879441572</td>\n",
       "    </tr>\n",
       "    <tr>\n",
       "      <th>19999</th>\n",
       "      <td>222</td>\n",
       "      <td>825</td>\n",
       "      <td>3</td>\n",
       "      <td>878184675</td>\n",
       "    </tr>\n",
       "  </tbody>\n",
       "</table>\n",
       "<p>20000 rows × 4 columns</p>\n",
       "</div>"
      ],
      "text/plain": [
       "       userId  movieId  rating  timestamp\n",
       "0         196      242       3  881250949\n",
       "1         186      302       3  891717742\n",
       "2          22      377       1  878887116\n",
       "3         244       51       2  880606923\n",
       "4         166      346       1  886397596\n",
       "5         298      474       4  884182806\n",
       "6         115      265       2  881171488\n",
       "7         253      465       5  891628467\n",
       "8         305      451       3  886324817\n",
       "9           6       86       3  883603013\n",
       "10         62      257       2  879372434\n",
       "11        286     1014       5  879781125\n",
       "12        200      222       5  876042340\n",
       "13        210       40       3  891035994\n",
       "14        224       29       3  888104457\n",
       "15        303      785       3  879485318\n",
       "16        122      387       5  879270459\n",
       "17        194      274       2  879539794\n",
       "18        291     1042       4  874834944\n",
       "19        234     1184       2  892079237\n",
       "20        119      392       4  886176814\n",
       "21        167      486       4  892738452\n",
       "22        299      144       4  877881320\n",
       "23        291      118       2  874833878\n",
       "24        308        1       4  887736532\n",
       "25         95      546       2  879196566\n",
       "26         38       95       5  892430094\n",
       "27        102      768       2  883748450\n",
       "28         63      277       4  875747401\n",
       "29        160      234       5  876861185\n",
       "...       ...      ...     ...        ...\n",
       "19970     200      739       4  884130046\n",
       "19971     370      153       2  879434832\n",
       "19972     380      300       3  885481179\n",
       "19973      20       87       5  879669746\n",
       "19974     394      423       5  881057839\n",
       "19975     452      641       3  875266415\n",
       "19976     137      597       5  881432987\n",
       "19977     241      302       3  887249576\n",
       "19978     178       39       2  882827645\n",
       "19979     204      874       3  892388976\n",
       "19980     131      285       5  883681723\n",
       "19981      59      173       5  888205144\n",
       "19982     160      412       3  876768990\n",
       "19983      44      161       4  878347634\n",
       "19984      28      258       5  881955018\n",
       "19985     436      546       3  887771826\n",
       "19986     276      198       5  874795949\n",
       "19987     275      435       3  880313886\n",
       "19988     110      423       4  886987952\n",
       "19989     456      294       1  881375667\n",
       "19990     457      366       4  882549287\n",
       "19991     406       24       3  879540026\n",
       "19992     450        2       4  882474001\n",
       "19993     234      434       3  892079288\n",
       "19994      23      109       3  874784466\n",
       "19995      21      320       3  874951658\n",
       "19996       1      170       5  876892856\n",
       "19997     436       66       5  887770457\n",
       "19998     385     1021       5  879441572\n",
       "19999     222      825       3  878184675\n",
       "\n",
       "[20000 rows x 4 columns]"
      ]
     },
     "execution_count": 13,
     "metadata": {},
     "output_type": "execute_result"
    }
   ],
   "source": [
    "test_data"
   ]
  },
  {
   "cell_type": "code",
   "execution_count": 14,
   "metadata": {},
   "outputs": [],
   "source": [
    "#Create two user-item matrices, one for training and another for testing\n",
    "train_data_matrix = np.zeros((n_users, n_items))\n",
    "for line in train_data.itertuples():\n",
    "    train_data_matrix[line[1]-1, line[2]-1] = line[3]\n",
    "\n",
    "test_data_matrix = np.zeros((n_users, n_items))\n",
    "for line in test_data.itertuples():\n",
    "    test_data_matrix[line[1]-1, line[2]-1] = line[3]"
   ]
  },
  {
   "cell_type": "markdown",
   "metadata": {},
   "source": [
    "# Aplico SVD directamente"
   ]
  },
  {
   "cell_type": "code",
   "execution_count": 19,
   "metadata": {},
   "outputs": [
    {
     "data": {
      "text/plain": [
       "array([[0., 0., 0., ..., 0., 0., 0.],\n",
       "       [0., 0., 0., ..., 0., 0., 0.],\n",
       "       [0., 0., 0., ..., 0., 0., 0.],\n",
       "       ...,\n",
       "       [0., 0., 0., ..., 0., 0., 0.],\n",
       "       [0., 0., 0., ..., 0., 0., 0.],\n",
       "       [0., 0., 0., ..., 0., 0., 0.]])"
      ]
     },
     "execution_count": 19,
     "metadata": {},
     "output_type": "execute_result"
    }
   ],
   "source": [
    "test_data_matrix"
   ]
  },
  {
   "cell_type": "code",
   "execution_count": 20,
   "metadata": {},
   "outputs": [],
   "source": [
    "SVD_Predictions = SVD(train_data_matrix, k=20)"
   ]
  },
  {
   "cell_type": "code",
   "execution_count": 21,
   "metadata": {},
   "outputs": [
    {
     "name": "stdout",
     "output_type": "stream",
     "text": [
      "Training: 2.301433287702103\n",
      "Testing: 2.88799384762358\n"
     ]
    }
   ],
   "source": [
    "print('Training:',rmse(train_data_matrix, SVD_Predictions))\n",
    "print('Testing:',rmse(test_data_matrix, SVD_Predictions))"
   ]
  },
  {
   "cell_type": "markdown",
   "metadata": {},
   "source": [
    "# Que pasa si predigo con la media:"
   ]
  },
  {
   "cell_type": "code",
   "execution_count": 23,
   "metadata": {},
   "outputs": [
    {
     "name": "stdout",
     "output_type": "stream",
     "text": [
      "3.52835\n"
     ]
    }
   ],
   "source": [
    "mu = train_data_matrix[train_data_matrix.nonzero()].mean()\n",
    "print(mu)"
   ]
  },
  {
   "cell_type": "code",
   "execution_count": 25,
   "metadata": {},
   "outputs": [
    {
     "name": "stdout",
     "output_type": "stream",
     "text": [
      "Training: 1.1185576773237935\n",
      "Testing: 1.1536759477860323\n"
     ]
    }
   ],
   "source": [
    "print('Training:',rmse(train_data_matrix, mu*np.ones(train_data_matrix.shape)))\n",
    "print('Testing:',rmse(test_data_matrix, mu*np.ones(test_data_matrix.shape)))"
   ]
  },
  {
   "cell_type": "markdown",
   "metadata": {},
   "source": [
    "# Agrego la media al SVD"
   ]
  },
  {
   "cell_type": "code",
   "execution_count": 26,
   "metadata": {},
   "outputs": [
    {
     "data": {
      "text/plain": [
       "array([[5., 3., 4., ..., 0., 0., 0.],\n",
       "       [4., 0., 0., ..., 0., 0., 0.],\n",
       "       [0., 0., 0., ..., 0., 0., 0.],\n",
       "       ...,\n",
       "       [5., 0., 0., ..., 0., 0., 0.],\n",
       "       [0., 0., 0., ..., 0., 0., 0.],\n",
       "       [0., 5., 0., ..., 0., 0., 0.]])"
      ]
     },
     "execution_count": 26,
     "metadata": {},
     "output_type": "execute_result"
    }
   ],
   "source": [
    "train_data_matrix"
   ]
  },
  {
   "cell_type": "code",
   "execution_count": 27,
   "metadata": {},
   "outputs": [],
   "source": [
    "# Resto la media solo a los distinto de cero\n",
    "R_train_norm = (train_data_matrix - mu)*(train_data_matrix>0) "
   ]
  },
  {
   "cell_type": "code",
   "execution_count": 28,
   "metadata": {},
   "outputs": [],
   "source": [
    "SVD_Predictions_norm = SVD(R_train_norm, k=20) + mu"
   ]
  },
  {
   "cell_type": "code",
   "execution_count": 31,
   "metadata": {},
   "outputs": [
    {
     "name": "stdout",
     "output_type": "stream",
     "text": [
      "Training: 0.902650106889517\n",
      "Testing: 1.0834567446952197\n"
     ]
    }
   ],
   "source": [
    "print('Training:',rmse(train_data_matrix, SVD_Predictions_norm))\n",
    "print('Testing:',rmse(test_data_matrix, SVD_Predictions_norm))"
   ]
  },
  {
   "cell_type": "markdown",
   "metadata": {},
   "source": [
    "# Agrego baselines"
   ]
  },
  {
   "cell_type": "code",
   "execution_count": 32,
   "metadata": {},
   "outputs": [],
   "source": [
    "from cf_helper_2 import getBaselineEstimates"
   ]
  },
  {
   "cell_type": "code",
   "execution_count": 33,
   "metadata": {},
   "outputs": [],
   "source": [
    "# Estamos haciendo broadcasting\n",
    "bii, bui = getBaselineEstimates(train_data_matrix, mu, lambda1 = 0, lambda2 = 0, items_first = True, not_rated = 0)\n",
    "baseline = mu + bui + bii.T"
   ]
  },
  {
   "cell_type": "code",
   "execution_count": 34,
   "metadata": {},
   "outputs": [
    {
     "data": {
      "text/plain": [
       "((1682, 1), (943, 1), (1682, 943))"
      ]
     },
     "execution_count": 34,
     "metadata": {},
     "output_type": "execute_result"
    }
   ],
   "source": [
    "bui.shape, bii.shape, baseline.shape"
   ]
  },
  {
   "cell_type": "code",
   "execution_count": 35,
   "metadata": {},
   "outputs": [],
   "source": [
    "R_train_baseline = (train_data_matrix - baseline.T)*(train_data_matrix>0)"
   ]
  },
  {
   "cell_type": "code",
   "execution_count": 44,
   "metadata": {},
   "outputs": [],
   "source": [
    "SVD_Predictions_baseline = SVD(R_train_baseline, k=20) + baseline.T"
   ]
  },
  {
   "cell_type": "code",
   "execution_count": 45,
   "metadata": {},
   "outputs": [
    {
     "name": "stdout",
     "output_type": "stream",
     "text": [
      "Training: 0.7830014251153156\n",
      "Testing: 0.9439824791061129\n"
     ]
    }
   ],
   "source": [
    "print('Training:',rmse(train_data_matrix, SVD_Predictions_baseline))\n",
    "print('Testing:',rmse(test_data_matrix, SVD_Predictions_baseline))"
   ]
  },
  {
   "cell_type": "code",
   "execution_count": null,
   "metadata": {},
   "outputs": [],
   "source": []
  }
 ],
 "metadata": {
  "kernelspec": {
   "display_name": "Python 3",
   "language": "python",
   "name": "python3"
  },
  "language_info": {
   "codemirror_mode": {
    "name": "ipython",
    "version": 3
   },
   "file_extension": ".py",
   "mimetype": "text/x-python",
   "name": "python",
   "nbconvert_exporter": "python",
   "pygments_lexer": "ipython3",
   "version": "3.6.8"
  }
 },
 "nbformat": 4,
 "nbformat_minor": 2
}
